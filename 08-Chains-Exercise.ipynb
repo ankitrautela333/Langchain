{
 "cells": [
  {
   "cell_type": "markdown",
   "id": "bcded1a6-2430-4707-a78c-c82f4c5ee6fc",
   "metadata": {},
   "source": [
    "<a href = \"https://www.pieriantraining.com\"><img src=\"../PT Centered Purple.png\"> </a>\n",
    "\n",
    "<em style=\"text-align:center\">Copyrighted by Pierian Training</em>"
   ]
  },
  {
   "cell_type": "markdown",
   "id": "728f1747-b8fc-4d31-96c2-047fc83c079d",
   "metadata": {},
   "source": [
    "#  Chains Exercise \n",
    "\n",
    "## TASK:\n",
    "Fill out the function below that takes in a string input Customer Support email that could be written in any language. The function will then detect the language, translate the email, and provide a summary.\n",
    "\n",
    "Fill out the function below using a Sequential Chain, the function should do the following:\n",
    "\n",
    "1. Detect the language the email is written in\n",
    "2. Translate the email from detected language to English\n",
    "3. Return a summary of the translated email\n",
    "\n",
    "Note: The Function should return a dictionary that contains all three of these outputs!"
   ]
  },
  {
   "cell_type": "markdown",
   "id": "1e10f522-2a0f-44c0-9e37-934639609bdf",
   "metadata": {},
   "source": [
    "## Reading in our example Email Text File:"
   ]
  },
  {
   "cell_type": "code",
   "execution_count": 2,
   "id": "f5cec8e4-c2cf-4adc-b589-322cd45d8dfa",
   "metadata": {},
   "outputs": [],
   "source": [
    "spanish_email = open('spanish_customer_email.txt').read()"
   ]
  },
  {
   "cell_type": "code",
   "execution_count": 3,
   "id": "d93c70a5-951e-4c40-a08d-6ad7a978e35b",
   "metadata": {},
   "outputs": [
    {
     "name": "stdout",
     "output_type": "stream",
     "text": [
      "Asunto: Reporte de Problemas Técnicos - Funcionalidad del Panel SAAS\n",
      "\n",
      "Estimado Equipo de Soporte al Cliente,\n",
      "\n",
      "Espero que este mensaje les encuentre bien. Les escribo para informarles sobre un problema técnico que he encontrado mientras utilizo su producto de panel SAAS. Como cliente leal, aprecio el valor que su producto aporta a mi negocio, pero actualmente me enfrento a un desafío que requiere su experiencia.\n",
      "\n",
      "Me gustaría describir detalladamente el problema que estoy experimentando:\n",
      "\n",
      "1. Problema Gráfico: Al iniciar sesión en el panel SAAS, he notado que los gráficos y las tablas en la página principal del panel no se renderizan correctamente. Los puntos de datos aparecen distorsionados y algunos elementos se superponen, lo que dificulta la interpretación precisa de la información.\n",
      "\n",
      "2. Fallo en la Función de Exportación: Además, no he podido exportar informes y datos desde el panel. Cada vez que intento exportar un informe en formato CSV o PDF, recibo un mensaje de error que indica que la exportación ha fallado. Esta funcionalidad es crucial para compartir información con mi equipo y partes interesadas externas, por lo que es imperativo que se resuelva rápidamente.\n",
      "\n",
      "3. Lentitud en la Carga: Durante la última semana, he notado una disminución significativa en la velocidad de carga del panel SAAS. Las páginas tardan un tiempo inusualmente largo en cargarse, lo que afecta mi productividad y genera frustración. Tengo una conexión a internet confiable, por lo que creo que el problema radica en el panel mismo.\n",
      "\n",
      "Ya he realizado los siguientes pasos para solucionar el problema:\n",
      "\n",
      "1. Limpieza de Cache: Limpié la memoria caché y las cookies de mi navegador para asegurarme de que los datos desactualizados no estén causando conflictos. Sin embargo, los problemas persisten incluso después de realizar esta acción.\n",
      "\n",
      "2. Varios Navegadores: Probé el panel SAAS en diferentes navegadores web (Chrome, Firefox y Safari) para determinar si el problema era específico del navegador. Desafortunadamente, los problemas gráficos, los fallos en la exportación y la lentitud en la carga persistieron en todos los navegadores.\n",
      "\n",
      "Les solicito amablemente su ayuda para resolver estos problemas, ya que están obstaculizando mi capacidad de aprovechar todo el potencial de su panel SAAS. Aquí están las acciones específicas que agradecería:\n",
      "\n",
      "1. Solución para Problemas Gráficos: Por favor, investiguen y corrijan los problemas gráficos presentes en la página principal del panel para garantizar una visualización precisa de los datos.\n",
      "\n",
      "2. Solución para la Función de Exportación: Identifiquen y solucionen el problema con la exportación de informes en formatos CSV y PDF, permitiéndome compartir datos con mi equipo y partes interesadas de manera fluida.\n",
      "\n",
      "3. Optimización del Rendimiento: Por favor, aborden la lentitud en la carga del panel SAAS para mejorar la experiencia general del usuario y aumentar la productividad.\n",
      "\n",
      "Entiendo que los problemas técnicos pueden surgir de vez en cuando y aprecio su pronta atención a este asunto. Si requieren información adicional o ayuda de mi parte, no duden en contactarme. Espero su pronta respuesta y una pronta resolución a estos desafíos.\n",
      "\n",
      "Gracias por su comprensión y apoyo.\n",
      "\n",
      "Atentamente,\n",
      "\n",
      "María Rodríguez\n",
      "ID de Cliente: 123456789\n",
      "Información de la Cuenta: Empresa Ejemplo S.A.\n"
     ]
    }
   ],
   "source": [
    "print(spanish_email)"
   ]
  },
  {
   "cell_type": "markdown",
   "id": "d4270b75-ce4e-4a76-b069-6cb94eb74318",
   "metadata": {},
   "source": [
    "## Function to fill out:"
   ]
  },
  {
   "cell_type": "code",
   "execution_count": 10,
   "id": "937885f6",
   "metadata": {},
   "outputs": [],
   "source": [
    "from langchain.prompts import PromptTemplate\n",
    "from langchain.chains import LLMChain,SequentialChain\n",
    "from langchain_openai import ChatOpenAI"
   ]
  },
  {
   "cell_type": "code",
   "execution_count": 9,
   "id": "1fa03606",
   "metadata": {},
   "outputs": [],
   "source": [
    "import os\n",
    "with open(r\"C:\\Users\\ankit\\OneDrive\\Desktop\\OPEN_AI_API_KEY.txt\",\"r\") as f:\n",
    "    os.environ['OPENAI_API_KEY']=f.read()    "
   ]
  },
  {
   "cell_type": "code",
   "execution_count": 25,
   "id": "67513a28-5643-4387-9462-02adda8ca3bc",
   "metadata": {},
   "outputs": [],
   "source": [
    "def translate_and_summarize(email):\n",
    "    \"\"\"\n",
    "    Translates an email written in a detected language to English and generates a summary.\n",
    "\n",
    "    Args:\n",
    "        email (str): The email to be processed and translated.\n",
    "\n",
    "    Returns:\n",
    "        dict: A dictionary containing the following keys:\n",
    "            - 'language': The language the email was written in.\n",
    "            - 'translated_email': The translated version of the email in English.\n",
    "            - 'summary': A short summary of the translated email.\n",
    "\n",
    "    Raises:\n",
    "        Exception: If any error occurs during the LLM chain execution.\n",
    "\n",
    "    Example:\n",
    "        email = \"Hola, ¿cómo estás? Espero que todo vaya bien.\"\n",
    "        result = translate_and_summarize(email)\n",
    "        print(result)\n",
    "        # Output:\n",
    "        # {\n",
    "        #     'language': 'Spanish',\n",
    "        #     'translated_email': 'Hello, how are you? I hope everything is going well.',\n",
    "        #     'summary': 'A friendly greeting and a wish for well-being.'\n",
    "        # }\n",
    "    \"\"\"\n",
    "    llm=ChatOpenAI()\n",
    "    \n",
    "    template1=\"Provide the language name the email text is written \\n'{email}' \"\n",
    "    prompt1=PromptTemplate.from_template(template=template1)\n",
    "    chain1=LLMChain(llm=llm,prompt=prompt1,output_key='language')\n",
    "    \n",
    "    template2=\"Convert the below email from {language} to English \\n '{email}' \"\n",
    "    prompt2=PromptTemplate.from_template(template2)\n",
    "    chain2=LLMChain(llm=llm,prompt=prompt2,output_key='translated_email')\n",
    "    \n",
    "    template3=\"Provide summary of the email \\n '{eng_mail}'\"\n",
    "    prompt3=PromptTemplate.from_template(template3)\n",
    "    chain3=LLMChain(llm=llm,prompt=prompt3,output_key='summary')\n",
    "    \n",
    "    seq_chain=SequentialChain(chains=[chain1,chain2,chain3],input_variables=['email']\n",
    "                              ,output_variables=['language','translated_email','summary'],verbose=True)\n",
    "    \n",
    "    result=seq_chain(email)\n",
    "    return result"
   ]
  },
  {
   "cell_type": "markdown",
   "id": "36df92ca-a03e-49a0-b0bf-c15ce5644fec",
   "metadata": {},
   "source": [
    "## Example Usage and Outputs"
   ]
  },
  {
   "cell_type": "code",
   "execution_count": 26,
   "id": "8f7dc228-285f-49d3-a4ef-f870ac44c061",
   "metadata": {},
   "outputs": [
    {
     "ename": "ValidationError",
     "evalue": "1 validation error for SequentialChain\n__root__\n  Missing required input keys: {'eng_mail'}, only had {'language', 'email', 'translated_email'} (type=value_error)",
     "output_type": "error",
     "traceback": [
      "\u001b[1;31m---------------------------------------------------------------------------\u001b[0m",
      "\u001b[1;31mValidationError\u001b[0m                           Traceback (most recent call last)",
      "Cell \u001b[1;32mIn[26], line 1\u001b[0m\n\u001b[1;32m----> 1\u001b[0m result \u001b[38;5;241m=\u001b[39m \u001b[43mtranslate_and_summarize\u001b[49m\u001b[43m(\u001b[49m\u001b[43mspanish_email\u001b[49m\u001b[43m)\u001b[49m\n",
      "Cell \u001b[1;32mIn[25], line 42\u001b[0m, in \u001b[0;36mtranslate_and_summarize\u001b[1;34m(email)\u001b[0m\n\u001b[0;32m     39\u001b[0m prompt3\u001b[38;5;241m=\u001b[39mPromptTemplate\u001b[38;5;241m.\u001b[39mfrom_template(template3)\n\u001b[0;32m     40\u001b[0m chain3\u001b[38;5;241m=\u001b[39mLLMChain(llm\u001b[38;5;241m=\u001b[39mllm,prompt\u001b[38;5;241m=\u001b[39mprompt3,output_key\u001b[38;5;241m=\u001b[39m\u001b[38;5;124m'\u001b[39m\u001b[38;5;124msummary\u001b[39m\u001b[38;5;124m'\u001b[39m)\n\u001b[1;32m---> 42\u001b[0m seq_chain\u001b[38;5;241m=\u001b[39m\u001b[43mSequentialChain\u001b[49m\u001b[43m(\u001b[49m\u001b[43mchains\u001b[49m\u001b[38;5;241;43m=\u001b[39;49m\u001b[43m[\u001b[49m\u001b[43mchain1\u001b[49m\u001b[43m,\u001b[49m\u001b[43mchain2\u001b[49m\u001b[43m,\u001b[49m\u001b[43mchain3\u001b[49m\u001b[43m]\u001b[49m\u001b[43m,\u001b[49m\u001b[43minput_variables\u001b[49m\u001b[38;5;241;43m=\u001b[39;49m\u001b[43m[\u001b[49m\u001b[38;5;124;43m'\u001b[39;49m\u001b[38;5;124;43memail\u001b[39;49m\u001b[38;5;124;43m'\u001b[39;49m\u001b[43m]\u001b[49m\n\u001b[0;32m     43\u001b[0m \u001b[43m                          \u001b[49m\u001b[43m,\u001b[49m\u001b[43moutput_variables\u001b[49m\u001b[38;5;241;43m=\u001b[39;49m\u001b[43m[\u001b[49m\u001b[38;5;124;43m'\u001b[39;49m\u001b[38;5;124;43mlanguage\u001b[39;49m\u001b[38;5;124;43m'\u001b[39;49m\u001b[43m,\u001b[49m\u001b[38;5;124;43m'\u001b[39;49m\u001b[38;5;124;43mtranslated_email\u001b[39;49m\u001b[38;5;124;43m'\u001b[39;49m\u001b[43m,\u001b[49m\u001b[38;5;124;43m'\u001b[39;49m\u001b[38;5;124;43msummary\u001b[39;49m\u001b[38;5;124;43m'\u001b[39;49m\u001b[43m]\u001b[49m\u001b[43m,\u001b[49m\u001b[43mverbose\u001b[49m\u001b[38;5;241;43m=\u001b[39;49m\u001b[38;5;28;43;01mTrue\u001b[39;49;00m\u001b[43m)\u001b[49m\n\u001b[0;32m     45\u001b[0m result\u001b[38;5;241m=\u001b[39mseq_chain(email)\n\u001b[0;32m     46\u001b[0m \u001b[38;5;28;01mreturn\u001b[39;00m result\n",
      "File \u001b[1;32m~\\anaconda3\\lib\\site-packages\\langchain_core\\load\\serializable.py:120\u001b[0m, in \u001b[0;36mSerializable.__init__\u001b[1;34m(self, **kwargs)\u001b[0m\n\u001b[0;32m    119\u001b[0m \u001b[38;5;28;01mdef\u001b[39;00m \u001b[38;5;21m__init__\u001b[39m(\u001b[38;5;28mself\u001b[39m, \u001b[38;5;241m*\u001b[39m\u001b[38;5;241m*\u001b[39mkwargs: Any) \u001b[38;5;241m-\u001b[39m\u001b[38;5;241m>\u001b[39m \u001b[38;5;28;01mNone\u001b[39;00m:\n\u001b[1;32m--> 120\u001b[0m     \u001b[38;5;28msuper\u001b[39m()\u001b[38;5;241m.\u001b[39m\u001b[38;5;21m__init__\u001b[39m(\u001b[38;5;241m*\u001b[39m\u001b[38;5;241m*\u001b[39mkwargs)\n\u001b[0;32m    121\u001b[0m     \u001b[38;5;28mself\u001b[39m\u001b[38;5;241m.\u001b[39m_lc_kwargs \u001b[38;5;241m=\u001b[39m kwargs\n",
      "File \u001b[1;32m~\\anaconda3\\lib\\site-packages\\pydantic\\v1\\main.py:341\u001b[0m, in \u001b[0;36mBaseModel.__init__\u001b[1;34m(__pydantic_self__, **data)\u001b[0m\n\u001b[0;32m    339\u001b[0m values, fields_set, validation_error \u001b[38;5;241m=\u001b[39m validate_model(__pydantic_self__\u001b[38;5;241m.\u001b[39m\u001b[38;5;18m__class__\u001b[39m, data)\n\u001b[0;32m    340\u001b[0m \u001b[38;5;28;01mif\u001b[39;00m validation_error:\n\u001b[1;32m--> 341\u001b[0m     \u001b[38;5;28;01mraise\u001b[39;00m validation_error\n\u001b[0;32m    342\u001b[0m \u001b[38;5;28;01mtry\u001b[39;00m:\n\u001b[0;32m    343\u001b[0m     object_setattr(__pydantic_self__, \u001b[38;5;124m'\u001b[39m\u001b[38;5;124m__dict__\u001b[39m\u001b[38;5;124m'\u001b[39m, values)\n",
      "\u001b[1;31mValidationError\u001b[0m: 1 validation error for SequentialChain\n__root__\n  Missing required input keys: {'eng_mail'}, only had {'language', 'email', 'translated_email'} (type=value_error)"
     ]
    }
   ],
   "source": [
    "result = translate_and_summarize(spanish_email)"
   ]
  },
  {
   "cell_type": "code",
   "execution_count": null,
   "id": "876f6b45",
   "metadata": {},
   "outputs": [],
   "source": [
    "result"
   ]
  },
  {
   "cell_type": "code",
   "execution_count": 22,
   "id": "90b09c5f-6e32-4718-be7d-51e83d81ce9d",
   "metadata": {},
   "outputs": [
    {
     "data": {
      "text/plain": [
       "dict_keys(['email', 'language', 'eng_mail', 'summary'])"
      ]
     },
     "execution_count": 22,
     "metadata": {},
     "output_type": "execute_result"
    }
   ],
   "source": [
    "result.keys()"
   ]
  },
  {
   "cell_type": "code",
   "execution_count": 23,
   "id": "530a286f-05f7-4740-bc23-2a0506a2741d",
   "metadata": {},
   "outputs": [
    {
     "data": {
      "text/plain": [
       "'Spanish'"
      ]
     },
     "execution_count": 23,
     "metadata": {},
     "output_type": "execute_result"
    }
   ],
   "source": [
    "result['language']"
   ]
  },
  {
   "cell_type": "code",
   "execution_count": 24,
   "id": "7f9982b0-0628-41a8-9ede-894d3d512717",
   "metadata": {},
   "outputs": [
    {
     "ename": "KeyError",
     "evalue": "'translated_email'",
     "output_type": "error",
     "traceback": [
      "\u001b[1;31m---------------------------------------------------------------------------\u001b[0m",
      "\u001b[1;31mKeyError\u001b[0m                                  Traceback (most recent call last)",
      "Cell \u001b[1;32mIn[24], line 1\u001b[0m\n\u001b[1;32m----> 1\u001b[0m \u001b[43mresult\u001b[49m\u001b[43m[\u001b[49m\u001b[38;5;124;43m'\u001b[39;49m\u001b[38;5;124;43mtranslated_email\u001b[39;49m\u001b[38;5;124;43m'\u001b[39;49m\u001b[43m]\u001b[49m\n",
      "\u001b[1;31mKeyError\u001b[0m: 'translated_email'"
     ]
    }
   ],
   "source": [
    "result['translated_email']"
   ]
  },
  {
   "cell_type": "code",
   "execution_count": 16,
   "id": "670b9635-a245-40f2-a67d-32c8c707d736",
   "metadata": {},
   "outputs": [
    {
     "data": {
      "text/plain": [
       "'The email is from a customer who is experiencing technical issues with a SAAS panel product. The customer describes three specific problems: graphical issues, export function failure, and slow loading. The customer has already attempted to troubleshoot the issues with no success. They request assistance from the customer support team to resolve the issues and provide specific actions they would appreciate, including fixing the graphical issues, resolving the export function problem, and optimizing performance. The customer expresses understanding for technical issues and hopes for a prompt response and resolution. They provide their client ID and account information for reference.'"
      ]
     },
     "execution_count": 16,
     "metadata": {},
     "output_type": "execute_result"
    }
   ],
   "source": [
    "result['summary']"
   ]
  },
  {
   "cell_type": "code",
   "execution_count": null,
   "id": "3f4db057-0681-45c5-9d4b-74fbb532f0af",
   "metadata": {},
   "outputs": [],
   "source": []
  }
 ],
 "metadata": {
  "kernelspec": {
   "display_name": "Python 3 (ipykernel)",
   "language": "python",
   "name": "python3"
  },
  "language_info": {
   "codemirror_mode": {
    "name": "ipython",
    "version": 3
   },
   "file_extension": ".py",
   "mimetype": "text/x-python",
   "name": "python",
   "nbconvert_exporter": "python",
   "pygments_lexer": "ipython3",
   "version": "3.10.14"
  }
 },
 "nbformat": 4,
 "nbformat_minor": 5
}
