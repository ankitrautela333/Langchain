{
 "cells": [
  {
   "cell_type": "code",
   "execution_count": 6,
   "id": "6ea8d225",
   "metadata": {},
   "outputs": [
    {
     "name": "stdout",
     "output_type": "stream",
     "text": [
      "Reinitialized existing Git repository in C:/Users/ankit/Langchain/.git/\n"
     ]
    },
    {
     "name": "stderr",
     "output_type": "stream",
     "text": [
      "error: remote origin already exists.\n"
     ]
    }
   ],
   "source": [
    "!git init\n",
    "!git remote add origin https://github.com/ankitrautela333/Langchain.git"
   ]
  },
  {
   "cell_type": "code",
   "execution_count": 11,
   "id": "121d93aa",
   "metadata": {},
   "outputs": [],
   "source": [
    "!git branch -M main"
   ]
  },
  {
   "cell_type": "code",
   "execution_count": 13,
   "id": "69cd3e2d",
   "metadata": {},
   "outputs": [],
   "source": [
    "!git config --global user.name \"ankitrautela333\"\n",
    "!git config --global user.email \"ankitrautela333@gmail.com\""
   ]
  },
  {
   "cell_type": "code",
   "execution_count": 18,
   "id": "1c16dffa",
   "metadata": {},
   "outputs": [
    {
     "name": "stdout",
     "output_type": "stream",
     "text": [
      "[main (root-commit) 2ada674] First Commit\n",
      " 2 files changed, 94 insertions(+)\n",
      " create mode 100644 .ipynb_checkpoints/Untitled-checkpoint.ipynb\n",
      " create mode 100644 Untitled.ipynb\n"
     ]
    }
   ],
   "source": [
    "!git commit -m \"First Commit\""
   ]
  },
  {
   "cell_type": "code",
   "execution_count": 19,
   "id": "540db2eb",
   "metadata": {},
   "outputs": [
    {
     "name": "stderr",
     "output_type": "stream",
     "text": [
      "To https://github.com/ankitrautela333/Langchain.git\n",
      " * [new branch]      main -> main\n"
     ]
    }
   ],
   "source": [
    "!git push origin main"
   ]
  },
  {
   "cell_type": "code",
   "execution_count": 1,
   "id": "2a463962",
   "metadata": {},
   "outputs": [],
   "source": [
    "import openai\n",
    "import os"
   ]
  },
  {
   "cell_type": "code",
   "execution_count": 18,
   "id": "83c65039",
   "metadata": {},
   "outputs": [],
   "source": [
    "from langchain_openai import OpenAI\n",
    "with open(r\"C:\\Users\\ankit\\OneDrive\\Desktop\\OPEN_AI_API_KEY.txt\") as f:\n",
    "    os.environ['OPENAI_API_KEY']=f.read()"
   ]
  },
  {
   "cell_type": "code",
   "execution_count": 4,
   "id": "c1cb1c72",
   "metadata": {
    "scrolled": true
   },
   "outputs": [],
   "source": [
    "\n",
    "response=openai.completions.create(model=\"gpt-3.5-turbo-instruct\",\n",
    "                                  prompt=\"Give me two reasons to learn OpenAI with Python\",max_tokens=1000)"
   ]
  },
  {
   "cell_type": "code",
   "execution_count": 19,
   "id": "ea022a3d",
   "metadata": {},
   "outputs": [],
   "source": [
    "llm=OpenAI(model=\"gpt-3.5-turbo-instruct\",max_tokens=1000)"
   ]
  },
  {
   "cell_type": "code",
   "execution_count": 25,
   "id": "e98f1180",
   "metadata": {},
   "outputs": [
    {
     "name": "stdout",
     "output_type": "stream",
     "text": [
      "generations=[[Generation(text='\\n\\n1. Versatility and applicability: OpenAI is a powerful tool for developing artificial intelligence and machine learning applications. It can be applied to a wide range of fields such as natural language processing, robotics, game development, and more. Learning OpenAI with Python will give you the skills to work on a variety of projects and solve complex problems in various industries.\\n\\n2. In-demand skill: With the increasing demand for AI and machine learning professionals, knowledge of OpenAI with Python is highly sought after by employers. Companies are constantly looking for individuals who can utilize OpenAI to develop innovative solutions and improve their processes. Learning OpenAI with Python can make you a valuable asset in the job market and open up new career opportunities.', generation_info={'finish_reason': 'stop', 'logprobs': None})]] llm_output={'token_usage': {'total_tokens': 155, 'completion_tokens': 145, 'prompt_tokens': 10}, 'model_name': 'gpt-3.5-turbo-instruct'} run=[RunInfo(run_id=UUID('22a1a9c2-8be4-441b-b99b-74021b9002ab'))]\n"
     ]
    }
   ],
   "source": [
    "print(llm.generate(prompts=[\"Give me two reasons to learn OpenAI with Python\"]))"
   ]
  },
  {
   "cell_type": "code",
   "execution_count": 9,
   "id": "4c268241",
   "metadata": {},
   "outputs": [
    {
     "name": "stdout",
     "output_type": "stream",
     "text": [
      "\n",
      "\n",
      "1. Stay ahead in the industry: OpenAI is a leading artificial intelligence (AI) research organization and learning it with Python will give you a competitive edge in the job market. As AI continues to revolutionize industries, companies are looking for professionals who can work with OpenAI to build intelligent systems.\n",
      "\n",
      "2. Enhance your skill set: Learning OpenAI with Python will not only make you a valuable candidate for job roles related to AI, but it will also enhance your overall programming skills. Python is a popular and versatile programming language, and learning it with OpenAI will help you develop a deeper understanding of Python concepts and its real-world applications. This will give you an advantage in your career as well as other programming projects.\n"
     ]
    },
    {
     "name": "stderr",
     "output_type": "stream",
     "text": [
      "C:\\Users\\ankit\\AppData\\Local\\Temp\\ipykernel_12448\\2825083308.py:1: PydanticDeprecatedSince20: The `dict` method is deprecated; use `model_dump` instead. Deprecated in Pydantic V2.0 to be removed in V3.0. See Pydantic V2 Migration Guide at https://errors.pydantic.dev/2.5/migration/\n",
      "  print(response.dict()['choices'][0]['text'])\n"
     ]
    }
   ],
   "source": [
    "print(response.dict()['choices'][0]['text'])"
   ]
  },
  {
   "cell_type": "code",
   "execution_count": 4,
   "id": "f28a807a",
   "metadata": {
    "scrolled": true
   },
   "outputs": [
    {
     "name": "stderr",
     "output_type": "stream",
     "text": [
      "warning: in the working copy of 'Untitled.ipynb', LF will be replaced by CRLF the next time Git touches it\n"
     ]
    },
    {
     "name": "stdout",
     "output_type": "stream",
     "text": [
      "[main 3277801] Second Commit\n",
      " 1 file changed, 160 insertions(+), 29 deletions(-)\n"
     ]
    },
    {
     "name": "stderr",
     "output_type": "stream",
     "text": [
      "remote: error: GH013: Repository rule violations found for refs/heads/main.        \n",
      "remote: \n",
      "remote: - GITHUB PUSH PROTECTION        \n",
      "remote:   â€”â€”â€”â€”â€”â€”â€”â€”â€”â€”â€”â€”â€”â€”â€”â€”â€”â€”â€”â€”â€”â€”â€”â€”â€”â€”â€”â€”â€”â€”â€”â€”â€”â€”â€”â€”â€”â€”â€”â€”â€”        \n",
      "remote:     Resolve the following violations before pushing again        \n",
      "remote: \n",
      "remote:     - GITHUB PUSH PROTECTION        \n",
      "remote:       â€”â€”â€”â€”â€”â€”â€”â€”â€”â€”â€”â€”â€”â€”â€”â€”â€”â€”â€”â€”â€”â€”â€”â€”â€”â€”â€”â€”â€”â€”â€”â€”â€”â€”â€”â€”â€”â€”â€”â€”â€”â€”â€”â€”â€”â€”â€”â€”â€”â€”â€”â€”â€”â€”        \n",
      "remote:        Resolve the following secrets before pushing again.        \n",
      "remote:               \n",
      "remote:        (?) Learn how to resolve a blocked push        \n",
      "remote:        https://docs.github.com/code-security/secret-scanning/pushing-a-branch-blocked-by-push-protection        \n",
      "remote:               \n",
      "remote:               \n",
      "remote:       â€”â€” OpenAI API Key â€”â€”â€”â€”â€”â€”â€”â€”â€”â€”â€”â€”â€”â€”â€”â€”â€”â€”â€”â€”â€”â€”â€”â€”â€”â€”â€”â€”â€”â€”â€”â€”â€”â€”â€”â€”        \n",
      "remote:        locations:        \n",
      "remote:          - commit: a56bca03de9db5bc47199f0a8bb0b1060e6c6ee0        \n",
      "remote:            path: Untitled.ipynb:109        \n",
      "remote:               \n",
      "remote:        (?) To push, remove secret from commit(s) or follow this URL to allow the secret.        \n",
      "remote:        https://github.com/ankitrautela333/Langchain/security/secret-scanning/unblock-secret/2esNBNSStrVzm0AQ8XLXfH6ybyE        \n",
      "remote: \n",
      "To https://github.com/ankitrautela333/Langchain.git\n",
      " ! [remote rejected] main -> main (push declined due to repository rule violations)\n",
      "error: failed to push some refs to 'https://github.com/ankitrautela333/Langchain.git'\n"
     ]
    }
   ],
   "source": [
    "!git add *\n",
    "!git commit -m \"Second Commit\"\n",
    "!git push origin main"
   ]
  },
  {
   "cell_type": "code",
   "execution_count": 5,
   "id": "e30f91b2",
   "metadata": {},
   "outputs": [],
   "source": [
    "import langchain"
   ]
  },
  {
   "cell_type": "code",
   "execution_count": 9,
   "id": "61dafff7",
   "metadata": {},
   "outputs": [],
   "source": [
    "from langchain_openai import AzureOpenAI"
   ]
  },
  {
   "cell_type": "code",
   "execution_count": 80,
   "id": "e94d6210",
   "metadata": {},
   "outputs": [
    {
     "name": "stderr",
     "output_type": "stream",
     "text": [
      "C:\\Users\\ankit\\anaconda3\\lib\\site-packages\\langchain_core\\_api\\deprecation.py:117: LangChainDeprecationWarning: The function `__call__` was deprecated in LangChain 0.1.7 and will be removed in 0.2.0. Use invoke instead.\n",
      "  warn_deprecated(\n"
     ]
    },
    {
     "name": "stdout",
     "output_type": "stream",
     "text": [
      "\n",
      "\n",
      "Pluto was discovered in 1930 by astronomer Clyde Tombaugh and was considered the ninth planet in our solar system for over 75 years. However, in 2006, it was reclassified as a \"dwarf planet\" due to its small size and its orbit overlapping with other objects in the Kuiper Belt.\n"
     ]
    }
   ],
   "source": [
    "print(llm(\"Here is a fun fact about pluto\"))"
   ]
  },
  {
   "cell_type": "code",
   "execution_count": 82,
   "id": "8a0dee66",
   "metadata": {},
   "outputs": [],
   "source": [
    "result=llm.generate([\"Here is a fun fact about pluto\",\"Here is a fun fact about Mars\"])"
   ]
  },
  {
   "cell_type": "code",
   "execution_count": 84,
   "id": "ee3b0579",
   "metadata": {},
   "outputs": [
    {
     "data": {
      "text/plain": [
       "{'token_usage': {'total_tokens': 141,\n",
       "  'completion_tokens': 126,\n",
       "  'prompt_tokens': 15},\n",
       " 'model_name': 'gpt-3.5-turbo-instruct'}"
      ]
     },
     "execution_count": 84,
     "metadata": {},
     "output_type": "execute_result"
    }
   ],
   "source": [
    "result.llm_output"
   ]
  },
  {
   "cell_type": "code",
   "execution_count": 90,
   "id": "71013333",
   "metadata": {},
   "outputs": [
    {
     "name": "stdout",
     "output_type": "stream",
     "text": [
      ":\n",
      "\n",
      "Mars is home to the largest volcano in the solar system, Olympus Mons. It stands at a towering height of 22 kilometers (13.6 miles) and has a diameter of 600 kilometers (372.8 miles). To put that into perspective, it is three times taller than Mount Everest and about the same size as the state of Arizona! However, don't worry about it erupting anytime soon, as it has been inactive for millions of years.\n"
     ]
    }
   ],
   "source": [
    "print(result.generations[1][0].text)"
   ]
  },
  {
   "cell_type": "code",
<<<<<<< HEAD
=======
   "execution_count": 53,
   "id": "83c65039",
   "metadata": {},
   "outputs": [],
   "source": [
    "from langchain_openai import ChatOpenAI\n",
    "with open(r\"C:\\Users\\ankit\\OneDrive\\Desktop\\OPEN_AI_API_KEY.txt\") as f:\n",
    "    os.environ['OPENAI_API_KEY']=f.read()"
   ]
  },
  {
   "cell_type": "code",
>>>>>>> 50c7c157e8fd891421e055ed1afc382fa8c0456e
   "execution_count": 4,
   "id": "f78ec675",
   "metadata": {},
   "outputs": [],
   "source": []
  },
  {
   "cell_type": "code",
   "execution_count": 54,
   "id": "13a4553d",
   "metadata": {},
   "outputs": [],
   "source": [
    "chat=ChatOpenAI(openai_api_key=os.getenv('OPENAI_API_KEY'))"
   ]
  },
  {
   "cell_type": "code",
   "execution_count": 9,
   "id": "e5a93d37",
   "metadata": {},
   "outputs": [],
   "source": [
    "from langchain_core.messages import AIMessage,SystemMessage,HumanMessage"
   ]
  },
  {
   "cell_type": "code",
   "execution_count": 14,
   "id": "05ab9b65",
   "metadata": {},
   "outputs": [
    {
     "name": "stderr",
     "output_type": "stream",
     "text": [
      "C:\\Users\\ankit\\anaconda3\\lib\\site-packages\\langchain_core\\_api\\deprecation.py:117: LangChainDeprecationWarning: The function `__call__` was deprecated in LangChain 0.1.7 and will be removed in 0.2.0. Use invoke instead.\n",
      "  warn_deprecated(\n"
     ]
    }
   ],
   "source": [
    "result=chat([HumanMessage(content='Tell me about pluto')])"
   ]
  },
  {
   "cell_type": "code",
   "execution_count": 27,
   "id": "fc7a8f0e",
   "metadata": {},
   "outputs": [
    {
     "name": "stdout",
     "output_type": "stream",
     "text": [
      "Pluto is a dwarf planet located in the outer regions of our solar system, orbiting the Sun at an average distance of 3.7 billion miles. It was discovered in 1930 by American astronomer Clyde Tombaugh and was considered the ninth planet in our solar system until 2006 when it was reclassified as a dwarf planet by the International Astronomical Union.\n",
      "\n",
      "Pluto is smaller than Earth's moon, with a diameter of approximately 1,473 miles, and has a rocky core surrounded by a mantle of water ice. It has a thin atmosphere composed mostly of nitrogen, methane, and carbon monoxide. Pluto has five known moons, the largest of which is Charon, discovered in 1978.\n",
      "\n",
      "Pluto has a highly elliptical orbit that takes 248 Earth years to complete, and its distance from the Sun varies between 2.7 billion miles at its closest approach and 4.6 billion miles at its farthest. Because of its distance and small size, Pluto is difficult to study, and much of what we know about it comes from data collected by the New Horizons spacecraft, which conducted a flyby of Pluto in 2015.\n",
      "\n",
      "Despite its reclassification as a dwarf planet, Pluto remains a fascinating object of study for astronomers and planetary scientists, providing valuable insights into the outer regions of our solar system.\n"
     ]
    }
   ],
   "source": [
    "print(result.content)"
   ]
  },
  {
   "cell_type": "code",
   "execution_count": 24,
   "id": "bd98c8f6",
   "metadata": {},
   "outputs": [],
   "source": [
    "result=chat([SystemMessage(content=\"You are rude teenager\"),HumanMessage(content='Tell me about pluto')])"
   ]
  },
  {
   "cell_type": "code",
   "execution_count": 25,
   "id": "68929199",
   "metadata": {},
   "outputs": [
    {
     "name": "stdout",
     "output_type": "stream",
     "text": [
      "Pluto is a dwarf planet located in the outer regions of our solar system. It was once considered the ninth planet in our solar system but was reclassified as a dwarf planet in 2006. Pluto is smaller than Earth's moon and has a highly elliptical orbit that takes it closer to the sun than Neptune for a portion of its orbit. It has a thin atmosphere primarily composed of nitrogen, methane, and carbon monoxide. Pluto has five known moons, with the largest being Charon. It is a fascinating and mysterious world that continues to captivate scientists and astronomers.\n"
     ]
    }
   ],
   "source": [
    "print(result.content)"
   ]
  },
  {
   "cell_type": "code",
   "execution_count": 10,
   "id": "254f802f",
   "metadata": {},
   "outputs": [],
   "source": [
    "result=chat.generate([[SystemMessage(content=\"You are a IT professional\"),HumanMessage(content='Tell me about mars')],[SystemMessage(content=\"You are rude teenager\"),HumanMessage(content='Tell me about pluto')]])"
   ]
  },
  {
   "cell_type": "code",
   "execution_count": 11,
   "id": "f2e807a0",
   "metadata": {},
   "outputs": [
    {
     "data": {
      "text/plain": [
       "LLMResult(generations=[[ChatGeneration(text='Mars is the fourth planet from the Sun in our solar system and is often referred to as the \"Red Planet\" due to its reddish appearance. It is a terrestrial planet with a thin atmosphere primarily composed of carbon dioxide. Mars has a rocky surface with features such as mountains, valleys, and polar ice caps.\\n\\nMars has been a target of scientific exploration for many years, with numerous spacecraft missions sent to study the planet. Some of the key findings include evidence of past water flow on the surface, suggesting that Mars may have once had liquid water and potentially a more hospitable environment for life.\\n\\nIn recent years, there has been growing interest in the possibility of sending humans to Mars for exploration and potentially even colonization. Companies like SpaceX and NASA have been working on developing technologies to make this a reality in the future.\\n\\nOverall, Mars continues to be a fascinating subject of study for scientists and space enthusiasts alike, with ongoing missions and research efforts aimed at unlocking the mysteries of this neighboring planet.', generation_info={'finish_reason': 'stop', 'logprobs': None}, message=AIMessage(content='Mars is the fourth planet from the Sun in our solar system and is often referred to as the \"Red Planet\" due to its reddish appearance. It is a terrestrial planet with a thin atmosphere primarily composed of carbon dioxide. Mars has a rocky surface with features such as mountains, valleys, and polar ice caps.\\n\\nMars has been a target of scientific exploration for many years, with numerous spacecraft missions sent to study the planet. Some of the key findings include evidence of past water flow on the surface, suggesting that Mars may have once had liquid water and potentially a more hospitable environment for life.\\n\\nIn recent years, there has been growing interest in the possibility of sending humans to Mars for exploration and potentially even colonization. Companies like SpaceX and NASA have been working on developing technologies to make this a reality in the future.\\n\\nOverall, Mars continues to be a fascinating subject of study for scientists and space enthusiasts alike, with ongoing missions and research efforts aimed at unlocking the mysteries of this neighboring planet.', response_metadata={'token_usage': {'completion_tokens': 199, 'prompt_tokens': 20, 'total_tokens': 219}, 'model_name': 'gpt-3.5-turbo', 'system_fingerprint': 'fp_b28b39ffa8', 'finish_reason': 'stop', 'logprobs': None}, id='run-d071a786-044e-4594-bda0-54e81989ffa2-0'))], [ChatGeneration(text=\"Pluto is a dwarf planet located in the outer regions of our solar system, beyond the orbit of Neptune. It was considered the ninth planet in our solar system until it was reclassified as a dwarf planet by the International Astronomical Union in 2006. Pluto is small, with a diameter of about 1,473 miles (2,370 kilometers), which is only about two-thirds the size of Earth's moon. It has a highly elliptical orbit that takes it closer to the sun than Neptune for a portion of its 248-year orbit.\\n\\nPluto has five known moons, the largest of which is Charon. The other moons are Styx, Nix, Kerberos, and Hydra. Pluto's surface is covered in a layer of frozen nitrogen, methane, and carbon monoxide, giving it a reddish-brown color. It has a thin atmosphere primarily composed of nitrogen, with traces of methane and carbon monoxide.\\n\\nDespite its small size and distant location, Pluto has been the subject of significant scientific interest, particularly since the New Horizons spacecraft conducted a flyby of the dwarf planet in 2015, providing valuable data and images of this distant world.\", generation_info={'finish_reason': 'stop', 'logprobs': None}, message=AIMessage(content=\"Pluto is a dwarf planet located in the outer regions of our solar system, beyond the orbit of Neptune. It was considered the ninth planet in our solar system until it was reclassified as a dwarf planet by the International Astronomical Union in 2006. Pluto is small, with a diameter of about 1,473 miles (2,370 kilometers), which is only about two-thirds the size of Earth's moon. It has a highly elliptical orbit that takes it closer to the sun than Neptune for a portion of its 248-year orbit.\\n\\nPluto has five known moons, the largest of which is Charon. The other moons are Styx, Nix, Kerberos, and Hydra. Pluto's surface is covered in a layer of frozen nitrogen, methane, and carbon monoxide, giving it a reddish-brown color. It has a thin atmosphere primarily composed of nitrogen, with traces of methane and carbon monoxide.\\n\\nDespite its small size and distant location, Pluto has been the subject of significant scientific interest, particularly since the New Horizons spacecraft conducted a flyby of the dwarf planet in 2015, providing valuable data and images of this distant world.\", response_metadata={'token_usage': {'completion_tokens': 238, 'prompt_tokens': 20, 'total_tokens': 258}, 'model_name': 'gpt-3.5-turbo', 'system_fingerprint': 'fp_b28b39ffa8', 'finish_reason': 'stop', 'logprobs': None}, id='run-19b2e4dd-6ef6-4ed7-ab74-a93194650309-0'))]], llm_output={'token_usage': {'completion_tokens': 437, 'prompt_tokens': 40, 'total_tokens': 477}, 'model_name': 'gpt-3.5-turbo', 'system_fingerprint': 'fp_b28b39ffa8'}, run=[RunInfo(run_id=UUID('d071a786-044e-4594-bda0-54e81989ffa2')), RunInfo(run_id=UUID('19b2e4dd-6ef6-4ed7-ab74-a93194650309'))])"
      ]
     },
     "execution_count": 11,
     "metadata": {},
     "output_type": "execute_result"
    }
   ],
   "source": [
    "result"
   ]
  },
  {
   "cell_type": "code",
   "execution_count": 21,
   "id": "00d38e26",
   "metadata": {},
   "outputs": [],
   "source": [
    "result=chat([SystemMessage(content=\"You are rude teenager\"),HumanMessage(content='Tell me about pluto')],temperature=0,presence_penalty=-2,max_tokens=100)"
   ]
  },
  {
   "cell_type": "code",
   "execution_count": 22,
   "id": "192681e0",
   "metadata": {},
   "outputs": [
    {
     "data": {
      "text/plain": [
       "\"Pluto is a dwarf planet located in the outer regions of our solar system. It was once considered the ninth planet in our solar system but was reclassified as a dwarf planet in 2006 by the International Astronomical Union. Pluto is smaller than Earth's moon and has a highly elliptical orbit that takes it closer to the sun than Neptune for a portion of its orbit. It has a thin atmosphere primarily composed of nitrogen and methane. Pluto has five known moons, the largest of which is\""
      ]
     },
     "execution_count": 22,
     "metadata": {},
     "output_type": "execute_result"
    }
   ],
   "source": [
    "result.content"
   ]
  },
  {
   "cell_type": "code",
   "execution_count": 23,
   "id": "712d13ee",
   "metadata": {},
   "outputs": [],
   "source": [
    "import langchain\n",
    "from langchain.cache import InMemoryCache\n",
    "langchain.llm_cache=InMemoryCache()"
   ]
  },
  {
   "cell_type": "code",
   "execution_count": 25,
   "id": "adaf71e3",
   "metadata": {},
   "outputs": [
    {
     "name": "stderr",
     "output_type": "stream",
     "text": [
      "C:\\Users\\ankit\\anaconda3\\lib\\site-packages\\langchain_core\\_api\\deprecation.py:117: LangChainDeprecationWarning: The function `predict` was deprecated in LangChain 0.1.7 and will be removed in 0.2.0. Use invoke instead.\n",
      "  warn_deprecated(\n"
     ]
    },
    {
     "data": {
      "text/plain": [
       "'Jupiter is the fifth planet from the Sun and is the largest planet in our solar system. It is a gas giant, composed mostly of hydrogen and helium, and has a thick atmosphere with colorful bands of clouds. Jupiter is known for its Great Red Spot, a massive storm that has been raging for centuries.\\n\\nJupiter has a strong magnetic field and more than 75 moons, the largest of which is Ganymede. It also has a faint ring system, though not as prominent as Saturn\\'s rings.\\n\\nJupiter is named after the king of the Roman gods and is often referred to as a \"failed star\" because it is not massive enough to sustain nuclear fusion in its core like a true star. Instead, Jupiter gives off more heat than it receives from the Sun, making it a kind of \"mini solar system\" with its own complex weather patterns and unique features.\\n\\nJupiter is a popular target for space missions, with spacecraft like Juno and Galileo providing valuable data and images of the planet and its moons. Scientists continue to study Jupiter to learn more about its formation, evolution, and role in the solar system.'"
      ]
     },
     "execution_count": 25,
     "metadata": {},
     "output_type": "execute_result"
    }
   ],
   "source": [
    "chat.predict(\"Tell me about Jupiter\")"
   ]
  },
  {
   "cell_type": "code",
   "execution_count": 31,
   "id": "842ca9fd",
   "metadata": {},
   "outputs": [
    {
     "data": {
      "text/plain": [
       "\"Earth is the third planet from the sun in our solar system and is the only known planet to support life. It is a rocky planet with a diverse range of landscapes, including mountains, deserts, forests, and oceans. The Earth's atmosphere is made up of nitrogen, oxygen, and other gases that support the existence of life.\\n\\nThe Earth has a complex system of interacting components, including the atmosphere, hydrosphere, lithosphere, and biosphere, that work together to create a habitable environment. The planet has a magnetic field that protects it from harmful solar radiation, and its rotation on its axis gives us day and night.\\n\\nEarth is home to a wide variety of plant and animal species, including humans, who have had a significant impact on the planet through activities such as agriculture, industry, and urban development. Climate change and environmental degradation are major challenges facing the Earth today, as human activities have led to disruptions in the planet's natural systems.\\n\\nDespite these challenges, Earth is a beautiful and diverse planet that continues to inspire awe and wonder in those who study it. It is a precious and fragile home that we must strive to protect for future generations.\""
      ]
     },
     "execution_count": 31,
     "metadata": {},
     "output_type": "execute_result"
    }
   ],
   "source": [
    "chat.predict(\"Tell me about earth\")"
   ]
  },
  {
   "cell_type": "code",
   "execution_count": 30,
   "id": "57aa9ec5",
   "metadata": {},
   "outputs": [
    {
     "data": {
      "text/plain": [
       "\"Earth is the third planet from the Sun in our solar system and is the only known planet to support life. It is a rocky planet with a diverse range of ecosystems, including oceans, forests, deserts, and mountains. Earth has a thin atmosphere that supports the existence of water in liquid form, which is essential for life as we know it.\\n\\nThe planet is approximately 4.5 billion years old and has a diameter of about 12,742 kilometers. Earth orbits the Sun at an average distance of about 150 million kilometers and takes about 365 days to complete one orbit.\\n\\nEarth is home to a wide variety of living organisms, including plants, animals, and microorganisms. It is also the only known planet to have intelligent life, including humans.\\n\\nThe planet's surface is constantly changing due to processes such as erosion, plate tectonics, and volcanic activity. Earth is also impacted by natural disasters such as earthquakes, hurricanes, and wildfires.\\n\\nOverall, Earth is a unique and beautiful planet that provides a habitable environment for a wide range of life forms. It is our home and it is important to protect and preserve it for future generations.\""
      ]
     },
     "execution_count": 30,
     "metadata": {},
     "output_type": "execute_result"
    }
   ],
   "source": [
    "chat.predict(\"Can you Tell me about earth\")"
   ]
  },
  {
   "cell_type": "code",
   "execution_count": 34,
   "id": "00689dcf",
   "metadata": {},
   "outputs": [],
   "source": [
    "from langchain.prompts import SystemMessagePromptTemplate,AIMessagePromptTemplate,HumanMessagePromptTemplate,ChatPromptTemplate"
   ]
  },
  {
   "cell_type": "code",
   "execution_count": 36,
   "id": "1582d0e5",
   "metadata": {},
   "outputs": [],
   "source": [
    "system_message='You religion is {religion}'\n",
    "system_message_prompt=SystemMessagePromptTemplate.from_template(system_message)"
   ]
  },
  {
   "cell_type": "code",
   "execution_count": 37,
   "id": "80f25610",
   "metadata": {},
   "outputs": [],
   "source": [
    "human_message=\"What is you god name\"\n",
    "human_message_prompt=HumanMessagePromptTemplate.from_template(human_message)"
   ]
  },
  {
   "cell_type": "code",
   "execution_count": 38,
   "id": "415a631c",
   "metadata": {},
   "outputs": [],
   "source": [
    "chat_prompt=ChatPromptTemplate.from_messages([system_message_prompt,human_message_prompt])"
   ]
  },
  {
   "cell_type": "code",
   "execution_count": 39,
   "id": "777568f8",
   "metadata": {},
   "outputs": [
    {
     "data": {
      "text/plain": [
       "['religion']"
      ]
     },
     "execution_count": 39,
     "metadata": {},
     "output_type": "execute_result"
    }
   ],
   "source": [
    "chat_prompt.input_variables"
   ]
  },
  {
   "cell_type": "code",
   "execution_count": 45,
   "id": "8a9fca7a",
   "metadata": {},
   "outputs": [],
   "source": [
    "chat_v=chat_prompt.format_prompt(religion='Hindu').to_messages()"
   ]
  },
  {
   "cell_type": "code",
   "execution_count": 46,
   "id": "fd81106b",
   "metadata": {},
   "outputs": [
    {
     "data": {
      "text/plain": [
       "[SystemMessage(content='You religion is Hindu'),\n",
       " HumanMessage(content='What is you god name')]"
      ]
     },
     "execution_count": 46,
     "metadata": {},
     "output_type": "execute_result"
    }
   ],
   "source": [
    "chat_v"
   ]
  },
  {
   "cell_type": "code",
   "execution_count": 47,
   "id": "d4220969",
   "metadata": {
    "scrolled": true
   },
   "outputs": [],
   "source": [
    "result=chat(chat_v)"
   ]
  },
  {
   "cell_type": "code",
   "execution_count": 48,
   "id": "557f4058",
   "metadata": {},
   "outputs": [
    {
     "name": "stdout",
     "output_type": "stream",
     "text": [
      "Hinduism is a diverse religion with many gods and goddesses. Some of the major deities in Hinduism include Brahma, Vishnu, Shiva, Saraswati, Lakshmi, and Parvati. Each deity has different attributes and represents different aspects of the divine.\n"
     ]
    }
   ],
   "source": [
    "print(result.content)"
   ]
  },
  {
   "cell_type": "code",
   "execution_count": 49,
   "id": "ba763d10",
   "metadata": {},
   "outputs": [],
   "source": [
    "import os\n",
    "os.chdir('D:\\Study Material\\Langchain\\LangChainNotebooks-UNZIP-ME\\LangChainNotebooks-UNZIP-ME')"
   ]
  },
  {
   "cell_type": "code",
   "execution_count": 51,
   "id": "e80d11e8",
   "metadata": {},
   "outputs": [
    {
     "data": {
      "text/plain": [
       "'D:\\\\Study Material\\\\Langchain\\\\LangChainNotebooks-UNZIP-ME\\\\LangChainNotebooks-UNZIP-ME'"
      ]
     },
     "execution_count": 51,
     "metadata": {},
     "output_type": "execute_result"
    }
   ],
   "source": []
  },
  {
   "cell_type": "code",
   "execution_count": null,
   "id": "c8ff1268",
   "metadata": {},
   "outputs": [],
   "source": [
    "chat_prompt= ChatPromptTemplate.from_messages([system_m])"
   ]
  },
  {
   "cell_type": "code",
   "execution_count": 11,
   "id": "665671d1",
   "metadata": {},
   "outputs": [],
   "source": [
    "#IMPORT THIS\n",
    "import os\n",
    "from langchain_openai import ChatOpenAI\n",
    "with open(r\"C:\\Users\\ankit\\OneDrive\\Desktop\\OPEN_AI_API_KEY.txt\") as f:\n",
    "    os.environ['OPENAI_API_KEY']=f.read()\n",
    "model=ChatOpenAI(openai_api_key=os.getenv('OPENAI_API_KEY'))\n",
    "from langchain.prompts import AIMessagePromptTemplate,SystemMessagePromptTemplate,HumanMessagePromptTemplate,ChatPromptTemplate"
   ]
  },
  {
   "cell_type": "code",
   "execution_count": 60,
   "id": "0a3bb06b",
   "metadata": {},
   "outputs": [],
   "source": [
    "system_message=\"You are a helpful assistant that translates complex legal terms into plain and understandable terms.\""
   ]
  },
  {
   "cell_type": "code",
   "execution_count": 61,
   "id": "56f5760d",
   "metadata": {},
   "outputs": [],
   "source": [
    "system_msg_template=SystemMessagePromptTemplate.from_template(system_message)"
   ]
  },
  {
   "cell_type": "code",
   "execution_count": 67,
   "id": "bd255085",
   "metadata": {},
   "outputs": [],
   "source": [
    "legal_text = \"The provisions herein shall be severable, and if any provision or portion thereof is deemed invalid, illegal, or unenforceable by a court of competent jurisdiction, the remaining provisions or portions thereof shall remain in full force and effect to the maximum extent permitted by law.\"\n",
    "l_temp=HumanMessagePromptTemplate.from_template(legal_text)\n",
    "\n",
    "plain_text = \"The rules in this agreement can be separated. If a court decides that one rule or part of it is not valid, illegal, or cannot be enforced, the other rules will still apply and be enforced as much as they can under the law.\"\n",
    "a_template=AIMessagePromptTemplate.from_template(plain_text)\n",
    "\n",
    "last_message=\"{input_text}\"\n",
    "last_template=HumanMessagePromptTemplate.from_template(last_message)"
   ]
  },
  {
   "cell_type": "code",
   "execution_count": 71,
   "id": "dfe3e605",
   "metadata": {},
   "outputs": [],
   "source": [
    "chat_prompt=ChatPromptTemplate.from_messages([system_msg_template,l_temp,a_template,last_template])"
   ]
  },
  {
   "cell_type": "code",
   "execution_count": 72,
   "id": "3d86dce1",
   "metadata": {},
   "outputs": [
    {
     "data": {
      "text/plain": [
       "['input_text']"
      ]
     },
     "execution_count": 72,
     "metadata": {},
     "output_type": "execute_result"
    }
   ],
   "source": [
    "chat_prompt.input_variables"
   ]
  },
  {
   "cell_type": "code",
   "execution_count": 73,
   "id": "da08b4bb",
   "metadata": {},
   "outputs": [],
   "source": [
    "some_example_text = \"The grantor, being the fee simple owner of the real property herein described, conveys and warrants to the grantee, his heirs and assigns, all of the grantor's right, title, and interest in and to the said property, subject to all existing encumbrances, liens, and easements, as recorded in the official records of the county, and any applicable covenants, conditions, and restrictions affecting the property, in consideration of the sum of [purchase price] paid by the grantee.\""
   ]
  },
  {
   "cell_type": "code",
   "execution_count": 75,
   "id": "b71b16b6",
   "metadata": {},
   "outputs": [],
   "source": [
    "request=chat_prompt.format_prompt(input_text=some_example_text).to_messages()"
   ]
  },
  {
   "cell_type": "code",
   "execution_count": 76,
   "id": "0a240203",
   "metadata": {},
   "outputs": [],
   "source": [
    "out=chat(request)"
   ]
  },
  {
   "cell_type": "code",
   "execution_count": 78,
   "id": "572a7a38",
   "metadata": {},
   "outputs": [
    {
     "name": "stdout",
     "output_type": "stream",
     "text": [
      "The person selling the property, who fully owns it, promises to give and guarantee to the buyer, the buyer's family, and future owners, all of the seller's ownership rights to the property mentioned. This includes any existing debts, legal claims, or shared rights on the property, as listed in the county's official records. The seller also agrees to follow any specific rules or limits that affect the property, in exchange for the amount of money stated as the purchase price.\n"
     ]
    }
   ],
   "source": [
    "print(out.content)"
   ]
  },
  {
   "cell_type": "code",
   "execution_count": 7,
   "id": "fe71696e",
   "metadata": {},
   "outputs": [],
   "source": [
    "#Step One\n",
    "import langchain\n",
    "from langchain.output_parsers import CommaSeparatedListOutputParser\n",
    "output_parser=CommaSeparatedListOutputParser()"
   ]
  },
  {
   "cell_type": "code",
   "execution_count": 8,
   "id": "3177c9fb",
   "metadata": {},
   "outputs": [
    {
     "data": {
      "text/plain": [
       "'Your response should be a list of comma separated values, eg: `foo, bar, baz`'"
      ]
     },
     "execution_count": 8,
     "metadata": {},
     "output_type": "execute_result"
    }
   ],
   "source": [
    "#Step Two\n",
    "output_parser.get_format_instructions()"
   ]
  },
  {
   "cell_type": "code",
   "execution_count": 12,
   "id": "1c5b5cb7",
   "metadata": {},
   "outputs": [],
   "source": [
    "human_template=\"{request}\\n{format_instructions}\"\n",
    "human_prompt=HumanMessagePromptTemplate.from_template(human_template)"
   ]
  },
  {
   "cell_type": "code",
   "execution_count": 13,
   "id": "2042b2bc",
   "metadata": {},
   "outputs": [],
   "source": [
    "chat_message=ChatPromptTemplate.from_messages([human_prompt])"
   ]
  },
  {
   "cell_type": "code",
   "execution_count": 16,
   "id": "b2fbdcff",
   "metadata": {},
   "outputs": [],
   "source": [
    "request=chat_message.format_prompt(request='give me 5 characteristics of dog',\n",
    "                          format_instructions=output_parser.get_format_instructions()).to_messages()"
   ]
  },
  {
   "cell_type": "code",
   "execution_count": 18,
   "id": "79889e7b",
   "metadata": {},
   "outputs": [
    {
     "name": "stderr",
     "output_type": "stream",
     "text": [
      "C:\\Users\\ankit\\anaconda3\\lib\\site-packages\\langchain_core\\_api\\deprecation.py:117: LangChainDeprecationWarning: The function `__call__` was deprecated in LangChain 0.1.7 and will be removed in 0.2.0. Use invoke instead.\n",
      "  warn_deprecated(\n"
     ]
    }
   ],
   "source": [
    "result=model(request)"
   ]
  },
  {
   "cell_type": "code",
   "execution_count": 21,
   "id": "c252ce74",
   "metadata": {},
   "outputs": [
    {
     "data": {
      "text/plain": [
       "['Loyal', 'playful', 'protective', 'intelligent', 'social']"
      ]
     },
     "execution_count": 21,
     "metadata": {},
     "output_type": "execute_result"
    }
   ],
   "source": [
    "output_parser.parse(result.content)"
   ]
  },
  {
   "cell_type": "code",
   "execution_count": 83,
   "id": "dfe8ca2c",
   "metadata": {},
   "outputs": [],
   "source": [
    "system_prompt=SystemMessagePromptTemplate.from_template(\"Always give the output in a 1 token format\")"
   ]
  },
  {
   "cell_type": "code",
   "execution_count": 84,
   "id": "6c09e1c3",
   "metadata": {},
   "outputs": [],
   "source": [
    "template_text=\"{request}\\n{format_instructions}\"\n",
    "Human_prompt=HumanMessagePromptTemplate.from_template(template_text)"
   ]
  },
  {
   "cell_type": "code",
   "execution_count": 85,
   "id": "a276c3af",
   "metadata": {},
   "outputs": [],
   "source": [
    "chat_prompt=ChatPromptTemplate.from_messages([system_prompt,Human_prompt])"
   ]
  },
  {
   "cell_type": "code",
   "execution_count": 86,
   "id": "f5437350",
   "metadata": {},
   "outputs": [],
   "source": [
    "from langchain.output_parsers import DatetimeOutputParser\n",
    "date_parser=DatetimeOutputParser()"
   ]
  },
  {
   "cell_type": "code",
   "execution_count": 87,
   "id": "5bc73160",
   "metadata": {},
   "outputs": [
    {
     "name": "stdout",
     "output_type": "stream",
     "text": [
      "Write a datetime string that matches the following pattern: '%Y-%m-%dT%H:%M:%S.%fZ'.\n",
      "\n",
      "Examples: 1229-03-19T09:14:03.619423Z, 1535-03-05T04:33:32.866531Z, 1015-03-02T13:18:08.632252Z\n",
      "\n",
      "Return ONLY this string, no other words!\n"
     ]
    }
   ],
   "source": [
    "print(date_parser.get_format_instructions())"
   ]
  },
  {
   "cell_type": "code",
   "execution_count": 88,
   "id": "d415233e",
   "metadata": {},
   "outputs": [],
   "source": [
    "request=chat_prompt.format_prompt(request='What gave speech on the Independce of India?',\n",
    "                         format_instructions=date_parser.get_format_instructions()).to_messages()"
   ]
  },
  {
   "cell_type": "code",
   "execution_count": 96,
   "id": "5cce3121",
   "metadata": {},
   "outputs": [],
   "source": [
    "out=model(request,temperature=0)"
   ]
  },
  {
   "cell_type": "code",
   "execution_count": 97,
   "id": "b7116999",
   "metadata": {},
   "outputs": [
    {
     "data": {
      "text/plain": [
       "'1947-08-15T00:00:00.000000Z'"
      ]
     },
     "execution_count": 97,
     "metadata": {},
     "output_type": "execute_result"
    }
   ],
   "source": [
    "out.content"
   ]
  },
  {
   "cell_type": "code",
   "execution_count": null,
   "id": "119f9d13",
   "metadata": {},
   "outputs": [],
   "source": []
  },
  {
   "cell_type": "code",
   "execution_count": 131,
   "id": "f785ff27",
   "metadata": {},
   "outputs": [],
   "source": [
    "from langchain.output_parsers import PydanticOutputParser\n",
    "from pydantic import BaseModel,Field\n",
    "\n",
    "class Scientist(BaseModel):\n",
    "    name:str = Field(description='Name of a Scientist')\n",
    "    discoveries:list = Field(description=\"Python List of discoveries\")\n",
    "    \n",
    "parser=PydanticOutputParser(pydantic_object=Scientist)"
   ]
  },
  {
   "cell_type": "code",
   "execution_count": 132,
   "id": "16d9ac05",
   "metadata": {},
   "outputs": [
    {
     "name": "stdout",
     "output_type": "stream",
     "text": [
      "The output should be formatted as a JSON instance that conforms to the JSON schema below.\n",
      "\n",
      "As an example, for the schema {\"properties\": {\"foo\": {\"title\": \"Foo\", \"description\": \"a list of strings\", \"type\": \"array\", \"items\": {\"type\": \"string\"}}}, \"required\": [\"foo\"]}\n",
      "the object {\"foo\": [\"bar\", \"baz\"]} is a well-formatted instance of the schema. The object {\"properties\": {\"foo\": [\"bar\", \"baz\"]}} is not well-formatted.\n",
      "\n",
      "Here is the output schema:\n",
      "```\n",
      "{\"properties\": {\"name\": {\"description\": \"Name of a Scientist\", \"title\": \"Name\", \"type\": \"string\"}, \"discoveries\": {\"description\": \"Python List of discoveries\", \"items\": {}, \"title\": \"Discoveries\", \"type\": \"array\"}}, \"required\": [\"name\", \"discoveries\"]}\n",
      "```\n"
     ]
    }
   ],
   "source": [
    "print(parser.get_format_instructions())"
   ]
  },
  {
   "cell_type": "code",
   "execution_count": 144,
   "id": "96f5b463",
   "metadata": {},
   "outputs": [],
   "source": [
    "human_prompt=HumanMessagePromptTemplate.from_template(\"{request}\\n{format_instructions}\")\n",
    "chat_prompt=ChatPromptTemplate.from_messages([human_prompt])"
   ]
  },
  {
   "cell_type": "code",
   "execution_count": 153,
   "id": "a1072a95",
   "metadata": {},
   "outputs": [],
   "source": [
    "request=chat_prompt.format_prompt(request=\"Tell me 10 famous scientist\",\n",
    "                         format_instructions=parser.get_format_instructions()).to_messages()"
   ]
  },
  {
   "cell_type": "code",
   "execution_count": 152,
   "id": "8d747e31",
   "metadata": {},
   "outputs": [
    {
     "data": {
      "text/plain": [
       "langchain_core.prompts.chat.ChatPromptTemplate"
      ]
     },
     "execution_count": 152,
     "metadata": {},
     "output_type": "execute_result"
    }
   ],
   "source": [
    "type(chat_prompt)"
   ]
  },
  {
   "cell_type": "code",
   "execution_count": 157,
   "id": "4ab06339",
   "metadata": {},
   "outputs": [
    {
     "ename": "AttributeError",
     "evalue": "'list' object has no attribute 'save'",
     "output_type": "error",
     "traceback": [
      "\u001b[1;31m---------------------------------------------------------------------------\u001b[0m",
      "\u001b[1;31mAttributeError\u001b[0m                            Traceback (most recent call last)",
      "Cell \u001b[1;32mIn[157], line 1\u001b[0m\n\u001b[1;32m----> 1\u001b[0m \u001b[43mrequest\u001b[49m\u001b[38;5;241;43m.\u001b[39;49m\u001b[43msave\u001b[49m(\u001b[38;5;124m\"\u001b[39m\u001b[38;5;124mmyprompt.json\u001b[39m\u001b[38;5;124m\"\u001b[39m)\n",
      "\u001b[1;31mAttributeError\u001b[0m: 'list' object has no attribute 'save'"
     ]
    }
   ],
   "source": []
  },
  {
   "cell_type": "code",
   "execution_count": 155,
   "id": "4794b6f8",
   "metadata": {},
   "outputs": [
    {
     "ename": "NotImplementedError",
     "evalue": "",
     "output_type": "error",
     "traceback": [
      "\u001b[1;31m---------------------------------------------------------------------------\u001b[0m",
      "\u001b[1;31mNotImplementedError\u001b[0m                       Traceback (most recent call last)",
      "Cell \u001b[1;32mIn[155], line 1\u001b[0m\n\u001b[1;32m----> 1\u001b[0m \u001b[43mchat_prompt\u001b[49m\u001b[38;5;241;43m.\u001b[39;49m\u001b[43msave\u001b[49m\u001b[43m(\u001b[49m\u001b[38;5;124;43m\"\u001b[39;49m\u001b[38;5;124;43mmyprompt.json\u001b[39;49m\u001b[38;5;124;43m\"\u001b[39;49m\u001b[43m)\u001b[49m\n",
      "File \u001b[1;32m~\\anaconda3\\lib\\site-packages\\langchain_core\\prompts\\chat.py:1049\u001b[0m, in \u001b[0;36mChatPromptTemplate.save\u001b[1;34m(self, file_path)\u001b[0m\n\u001b[0;32m   1043\u001b[0m \u001b[38;5;28;01mdef\u001b[39;00m \u001b[38;5;21msave\u001b[39m(\u001b[38;5;28mself\u001b[39m, file_path: Union[Path, \u001b[38;5;28mstr\u001b[39m]) \u001b[38;5;241m-\u001b[39m\u001b[38;5;241m>\u001b[39m \u001b[38;5;28;01mNone\u001b[39;00m:\n\u001b[0;32m   1044\u001b[0m \u001b[38;5;250m    \u001b[39m\u001b[38;5;124;03m\"\"\"Save prompt to file.\u001b[39;00m\n\u001b[0;32m   1045\u001b[0m \n\u001b[0;32m   1046\u001b[0m \u001b[38;5;124;03m    Args:\u001b[39;00m\n\u001b[0;32m   1047\u001b[0m \u001b[38;5;124;03m        file_path: path to file.\u001b[39;00m\n\u001b[0;32m   1048\u001b[0m \u001b[38;5;124;03m    \"\"\"\u001b[39;00m\n\u001b[1;32m-> 1049\u001b[0m     \u001b[38;5;28;01mraise\u001b[39;00m \u001b[38;5;167;01mNotImplementedError\u001b[39;00m()\n",
      "\u001b[1;31mNotImplementedError\u001b[0m: "
     ]
    }
   ],
   "source": [
    "chat_prompt.save(\"myprompt.json\")"
   ]
  },
  {
   "cell_type": "code",
   "execution_count": null,
   "id": "8e9bc254",
   "metadata": {},
   "outputs": [],
   "source": [
    ".to_messages()"
   ]
  },
  {
   "cell_type": "code",
   "execution_count": 135,
   "id": "4fcc411e",
   "metadata": {},
   "outputs": [
    {
     "name": "stdout",
     "output_type": "stream",
     "text": [
      "{\n",
      "  \"name\": \"List of 10 Famous Scientists\",\n",
      "  \"scientists\": [\n",
      "    {\n",
      "      \"name\": \"Albert Einstein\",\n",
      "      \"discoveries\": [\"Theory of General Relativity\", \"Mass-Energy Equivalence (E=mc^2)\"]\n",
      "    },\n",
      "    {\n",
      "      \"name\": \"Marie Curie\",\n",
      "      \"discoveries\": [\"Discovery of Radium and Polonium\", \"Pioneering research on radioactivity\"]\n",
      "    },\n",
      "    {\n",
      "      \"name\": \"Issac Newton\",\n",
      "      \"discoveries\": [\"Laws of Motion\", \"Law of Universal Gravitation\"]\n",
      "    },\n",
      "    {\n",
      "      \"name\": \"Charles Darwin\",\n",
      "      \"discoveries\": [\"Theory of Evolution by Natural Selection\", \"The Origin of Species\"]\n",
      "    },\n",
      "    {\n",
      "      \"name\": \"Galileo Galilei\",\n",
      "      \"discoveries\": [\"Improvement of the Telescope\", \"Confirmation of Heliocentrism\"]\n",
      "    },\n",
      "    {\n",
      "      \"name\": \"Nikola Tesla\",\n",
      "      \"discoveries\": [\"AC Electricity System\", \"Wireless Communication\"]\n",
      "    },\n",
      "    {\n",
      "      \"name\": \"Ada Lovelace\",\n",
      "      \"discoveries\": [\"First Computer Programmer\", \"Analytical Engine\"]\n",
      "    },\n",
      "    {\n",
      "      \"name\": \"Jane Goodall\",\n",
      "      \"discoveries\": [\"Groundbreaking Study on Chimpanzees\", \"Conservation Efforts\"]\n",
      "    },\n",
      "    {\n",
      "      \"name\": \"Stephen Hawking\",\n",
      "      \"discoveries\": [\"Black Hole Theory\", \"Cosmology Research\"]\n",
      "    },\n",
      "    {\n",
      "      \"name\": \"Rosalind Franklin\",\n",
      "      \"discoveries\": [\"X-ray Diffraction Studies of DNA\", \"Contribution to DNA Double Helix Model\"]\n",
      "    }\n",
      "  ]\n",
      "}\n"
     ]
    }
   ],
   "source": [
    "reply=model(request,temperature=1)\n",
    "print(reply.content)"
   ]
  },
  {
   "cell_type": "code",
   "execution_count": 136,
   "id": "8e498792",
   "metadata": {},
   "outputs": [
    {
     "ename": "OutputParserException",
     "evalue": "Failed to parse Scientist from completion {\"name\": \"List of 10 Famous Scientists\", \"scientists\": [{\"name\": \"Albert Einstein\", \"discoveries\": [\"Theory of General Relativity\", \"Mass-Energy Equivalence (E=mc^2)\"]}, {\"name\": \"Marie Curie\", \"discoveries\": [\"Discovery of Radium and Polonium\", \"Pioneering research on radioactivity\"]}, {\"name\": \"Issac Newton\", \"discoveries\": [\"Laws of Motion\", \"Law of Universal Gravitation\"]}, {\"name\": \"Charles Darwin\", \"discoveries\": [\"Theory of Evolution by Natural Selection\", \"The Origin of Species\"]}, {\"name\": \"Galileo Galilei\", \"discoveries\": [\"Improvement of the Telescope\", \"Confirmation of Heliocentrism\"]}, {\"name\": \"Nikola Tesla\", \"discoveries\": [\"AC Electricity System\", \"Wireless Communication\"]}, {\"name\": \"Ada Lovelace\", \"discoveries\": [\"First Computer Programmer\", \"Analytical Engine\"]}, {\"name\": \"Jane Goodall\", \"discoveries\": [\"Groundbreaking Study on Chimpanzees\", \"Conservation Efforts\"]}, {\"name\": \"Stephen Hawking\", \"discoveries\": [\"Black Hole Theory\", \"Cosmology Research\"]}, {\"name\": \"Rosalind Franklin\", \"discoveries\": [\"X-ray Diffraction Studies of DNA\", \"Contribution to DNA Double Helix Model\"]}]}. Got: 1 validation error for Scientist\ndiscoveries\n  Field required [type=missing, input_value={'name': 'List of 10 Famo... Double Helix Model']}]}, input_type=dict]\n    For further information visit https://errors.pydantic.dev/2.5/v/missing",
     "output_type": "error",
     "traceback": [
      "\u001b[1;31m---------------------------------------------------------------------------\u001b[0m",
      "\u001b[1;31mValidationError\u001b[0m                           Traceback (most recent call last)",
      "File \u001b[1;32m~\\anaconda3\\lib\\site-packages\\langchain_core\\output_parsers\\pydantic.py:33\u001b[0m, in \u001b[0;36mPydanticOutputParser._parse_obj\u001b[1;34m(self, obj)\u001b[0m\n\u001b[0;32m     32\u001b[0m \u001b[38;5;28;01mif\u001b[39;00m \u001b[38;5;28missubclass\u001b[39m(\u001b[38;5;28mself\u001b[39m\u001b[38;5;241m.\u001b[39mpydantic_object, pydantic\u001b[38;5;241m.\u001b[39mBaseModel):\n\u001b[1;32m---> 33\u001b[0m     \u001b[38;5;28;01mreturn\u001b[39;00m \u001b[38;5;28;43mself\u001b[39;49m\u001b[38;5;241;43m.\u001b[39;49m\u001b[43mpydantic_object\u001b[49m\u001b[38;5;241;43m.\u001b[39;49m\u001b[43mmodel_validate\u001b[49m\u001b[43m(\u001b[49m\u001b[43mobj\u001b[49m\u001b[43m)\u001b[49m\n\u001b[0;32m     34\u001b[0m \u001b[38;5;28;01melif\u001b[39;00m \u001b[38;5;28missubclass\u001b[39m(\u001b[38;5;28mself\u001b[39m\u001b[38;5;241m.\u001b[39mpydantic_object, pydantic\u001b[38;5;241m.\u001b[39mv1\u001b[38;5;241m.\u001b[39mBaseModel):\n",
      "File \u001b[1;32m~\\anaconda3\\lib\\site-packages\\pydantic\\main.py:503\u001b[0m, in \u001b[0;36mBaseModel.model_validate\u001b[1;34m(cls, obj, strict, from_attributes, context)\u001b[0m\n\u001b[0;32m    502\u001b[0m __tracebackhide__ \u001b[38;5;241m=\u001b[39m \u001b[38;5;28;01mTrue\u001b[39;00m\n\u001b[1;32m--> 503\u001b[0m \u001b[38;5;28;01mreturn\u001b[39;00m \u001b[38;5;28;43mcls\u001b[39;49m\u001b[38;5;241;43m.\u001b[39;49m\u001b[43m__pydantic_validator__\u001b[49m\u001b[38;5;241;43m.\u001b[39;49m\u001b[43mvalidate_python\u001b[49m\u001b[43m(\u001b[49m\n\u001b[0;32m    504\u001b[0m \u001b[43m    \u001b[49m\u001b[43mobj\u001b[49m\u001b[43m,\u001b[49m\u001b[43m \u001b[49m\u001b[43mstrict\u001b[49m\u001b[38;5;241;43m=\u001b[39;49m\u001b[43mstrict\u001b[49m\u001b[43m,\u001b[49m\u001b[43m \u001b[49m\u001b[43mfrom_attributes\u001b[49m\u001b[38;5;241;43m=\u001b[39;49m\u001b[43mfrom_attributes\u001b[49m\u001b[43m,\u001b[49m\u001b[43m \u001b[49m\u001b[43mcontext\u001b[49m\u001b[38;5;241;43m=\u001b[39;49m\u001b[43mcontext\u001b[49m\n\u001b[0;32m    505\u001b[0m \u001b[43m\u001b[49m\u001b[43m)\u001b[49m\n",
      "\u001b[1;31mValidationError\u001b[0m: 1 validation error for Scientist\ndiscoveries\n  Field required [type=missing, input_value={'name': 'List of 10 Famo... Double Helix Model']}]}, input_type=dict]\n    For further information visit https://errors.pydantic.dev/2.5/v/missing",
      "\nDuring handling of the above exception, another exception occurred:\n",
      "\u001b[1;31mOutputParserException\u001b[0m                     Traceback (most recent call last)",
      "Cell \u001b[1;32mIn[136], line 1\u001b[0m\n\u001b[1;32m----> 1\u001b[0m \u001b[43mparser\u001b[49m\u001b[38;5;241;43m.\u001b[39;49m\u001b[43mparse\u001b[49m\u001b[43m(\u001b[49m\u001b[43mreply\u001b[49m\u001b[38;5;241;43m.\u001b[39;49m\u001b[43mcontent\u001b[49m\u001b[43m)\u001b[49m\n",
      "File \u001b[1;32m~\\anaconda3\\lib\\site-packages\\langchain_core\\output_parsers\\pydantic.py:64\u001b[0m, in \u001b[0;36mPydanticOutputParser.parse\u001b[1;34m(self, text)\u001b[0m\n\u001b[0;32m     63\u001b[0m \u001b[38;5;28;01mdef\u001b[39;00m \u001b[38;5;21mparse\u001b[39m(\u001b[38;5;28mself\u001b[39m, text: \u001b[38;5;28mstr\u001b[39m) \u001b[38;5;241m-\u001b[39m\u001b[38;5;241m>\u001b[39m TBaseModel:\n\u001b[1;32m---> 64\u001b[0m     \u001b[38;5;28;01mreturn\u001b[39;00m \u001b[38;5;28;43msuper\u001b[39;49m\u001b[43m(\u001b[49m\u001b[43m)\u001b[49m\u001b[38;5;241;43m.\u001b[39;49m\u001b[43mparse\u001b[49m\u001b[43m(\u001b[49m\u001b[43mtext\u001b[49m\u001b[43m)\u001b[49m\n",
      "File \u001b[1;32m~\\anaconda3\\lib\\site-packages\\langchain_core\\output_parsers\\json.py:224\u001b[0m, in \u001b[0;36mJsonOutputParser.parse\u001b[1;34m(self, text)\u001b[0m\n\u001b[0;32m    223\u001b[0m \u001b[38;5;28;01mdef\u001b[39;00m \u001b[38;5;21mparse\u001b[39m(\u001b[38;5;28mself\u001b[39m, text: \u001b[38;5;28mstr\u001b[39m) \u001b[38;5;241m-\u001b[39m\u001b[38;5;241m>\u001b[39m Any:\n\u001b[1;32m--> 224\u001b[0m     \u001b[38;5;28;01mreturn\u001b[39;00m \u001b[38;5;28;43mself\u001b[39;49m\u001b[38;5;241;43m.\u001b[39;49m\u001b[43mparse_result\u001b[49m\u001b[43m(\u001b[49m\u001b[43m[\u001b[49m\u001b[43mGeneration\u001b[49m\u001b[43m(\u001b[49m\u001b[43mtext\u001b[49m\u001b[38;5;241;43m=\u001b[39;49m\u001b[43mtext\u001b[49m\u001b[43m)\u001b[49m\u001b[43m]\u001b[49m\u001b[43m)\u001b[49m\n",
      "File \u001b[1;32m~\\anaconda3\\lib\\site-packages\\langchain_core\\output_parsers\\pydantic.py:61\u001b[0m, in \u001b[0;36mPydanticOutputParser.parse_result\u001b[1;34m(self, result, partial)\u001b[0m\n\u001b[0;32m     57\u001b[0m \u001b[38;5;28;01mdef\u001b[39;00m \u001b[38;5;21mparse_result\u001b[39m(\n\u001b[0;32m     58\u001b[0m     \u001b[38;5;28mself\u001b[39m, result: List[Generation], \u001b[38;5;241m*\u001b[39m, partial: \u001b[38;5;28mbool\u001b[39m \u001b[38;5;241m=\u001b[39m \u001b[38;5;28;01mFalse\u001b[39;00m\n\u001b[0;32m     59\u001b[0m ) \u001b[38;5;241m-\u001b[39m\u001b[38;5;241m>\u001b[39m TBaseModel:\n\u001b[0;32m     60\u001b[0m     json_object \u001b[38;5;241m=\u001b[39m \u001b[38;5;28msuper\u001b[39m()\u001b[38;5;241m.\u001b[39mparse_result(result)\n\u001b[1;32m---> 61\u001b[0m     \u001b[38;5;28;01mreturn\u001b[39;00m \u001b[38;5;28;43mself\u001b[39;49m\u001b[38;5;241;43m.\u001b[39;49m\u001b[43m_parse_obj\u001b[49m\u001b[43m(\u001b[49m\u001b[43mjson_object\u001b[49m\u001b[43m)\u001b[49m\n",
      "File \u001b[1;32m~\\anaconda3\\lib\\site-packages\\langchain_core\\output_parsers\\pydantic.py:42\u001b[0m, in \u001b[0;36mPydanticOutputParser._parse_obj\u001b[1;34m(self, obj)\u001b[0m\n\u001b[0;32m     37\u001b[0m             \u001b[38;5;28;01mraise\u001b[39;00m OutputParserException(\n\u001b[0;32m     38\u001b[0m                 \u001b[38;5;124mf\u001b[39m\u001b[38;5;124m\"\u001b[39m\u001b[38;5;124mUnsupported model version for PydanticOutputParser: \u001b[39m\u001b[38;5;130;01m\\\u001b[39;00m\n\u001b[0;32m     39\u001b[0m \u001b[38;5;124m                    \u001b[39m\u001b[38;5;132;01m{\u001b[39;00m\u001b[38;5;28mself\u001b[39m\u001b[38;5;241m.\u001b[39mpydantic_object\u001b[38;5;241m.\u001b[39m\u001b[38;5;18m__class__\u001b[39m\u001b[38;5;132;01m}\u001b[39;00m\u001b[38;5;124m\"\u001b[39m\n\u001b[0;32m     40\u001b[0m             )\n\u001b[0;32m     41\u001b[0m     \u001b[38;5;28;01mexcept\u001b[39;00m (pydantic\u001b[38;5;241m.\u001b[39mValidationError, pydantic\u001b[38;5;241m.\u001b[39mv1\u001b[38;5;241m.\u001b[39mValidationError) \u001b[38;5;28;01mas\u001b[39;00m e:\n\u001b[1;32m---> 42\u001b[0m         \u001b[38;5;28;01mraise\u001b[39;00m \u001b[38;5;28mself\u001b[39m\u001b[38;5;241m.\u001b[39m_parser_exception(e, obj)\n\u001b[0;32m     43\u001b[0m \u001b[38;5;28;01melse\u001b[39;00m:  \u001b[38;5;66;03m# pydantic v1\u001b[39;00m\n\u001b[0;32m     44\u001b[0m     \u001b[38;5;28;01mtry\u001b[39;00m:\n",
      "\u001b[1;31mOutputParserException\u001b[0m: Failed to parse Scientist from completion {\"name\": \"List of 10 Famous Scientists\", \"scientists\": [{\"name\": \"Albert Einstein\", \"discoveries\": [\"Theory of General Relativity\", \"Mass-Energy Equivalence (E=mc^2)\"]}, {\"name\": \"Marie Curie\", \"discoveries\": [\"Discovery of Radium and Polonium\", \"Pioneering research on radioactivity\"]}, {\"name\": \"Issac Newton\", \"discoveries\": [\"Laws of Motion\", \"Law of Universal Gravitation\"]}, {\"name\": \"Charles Darwin\", \"discoveries\": [\"Theory of Evolution by Natural Selection\", \"The Origin of Species\"]}, {\"name\": \"Galileo Galilei\", \"discoveries\": [\"Improvement of the Telescope\", \"Confirmation of Heliocentrism\"]}, {\"name\": \"Nikola Tesla\", \"discoveries\": [\"AC Electricity System\", \"Wireless Communication\"]}, {\"name\": \"Ada Lovelace\", \"discoveries\": [\"First Computer Programmer\", \"Analytical Engine\"]}, {\"name\": \"Jane Goodall\", \"discoveries\": [\"Groundbreaking Study on Chimpanzees\", \"Conservation Efforts\"]}, {\"name\": \"Stephen Hawking\", \"discoveries\": [\"Black Hole Theory\", \"Cosmology Research\"]}, {\"name\": \"Rosalind Franklin\", \"discoveries\": [\"X-ray Diffraction Studies of DNA\", \"Contribution to DNA Double Helix Model\"]}]}. Got: 1 validation error for Scientist\ndiscoveries\n  Field required [type=missing, input_value={'name': 'List of 10 Famo... Double Helix Model']}]}, input_type=dict]\n    For further information visit https://errors.pydantic.dev/2.5/v/missing"
     ]
    }
   ],
   "source": [
    "parser.parse(reply.content)"
   ]
  },
  {
   "cell_type": "code",
   "execution_count": 1,
   "id": "32a7896c",
   "metadata": {},
   "outputs": [
    {
     "name": "stdout",
     "output_type": "stream",
     "text": [
      "Collecting langchain-chroma\n",
      "  Downloading langchain_chroma-0.1.0-py3-none-any.whl.metadata (1.3 kB)\n",
      "Requirement already satisfied: chromadb<0.5.0,>=0.4.0 in c:\\users\\ankit\\anaconda3\\lib\\site-packages (from langchain-chroma) (0.4.22)\n",
      "Requirement already satisfied: fastapi<1,>=0.95.2 in c:\\users\\ankit\\anaconda3\\lib\\site-packages (from langchain-chroma) (0.108.0)\n",
      "Requirement already satisfied: langchain-core<0.2.0,>=0.1.40 in c:\\users\\ankit\\anaconda3\\lib\\site-packages (from langchain-chroma) (0.1.42)\n",
      "Requirement already satisfied: numpy<2,>=1 in c:\\users\\ankit\\anaconda3\\lib\\site-packages (from langchain-chroma) (1.26.1)\n",
      "Requirement already satisfied: build>=1.0.3 in c:\\users\\ankit\\anaconda3\\lib\\site-packages (from chromadb<0.5.0,>=0.4.0->langchain-chroma) (1.0.3)\n",
      "Requirement already satisfied: requests>=2.28 in c:\\users\\ankit\\anaconda3\\lib\\site-packages (from chromadb<0.5.0,>=0.4.0->langchain-chroma) (2.31.0)\n",
      "Requirement already satisfied: pydantic>=1.9 in c:\\users\\ankit\\anaconda3\\lib\\site-packages (from chromadb<0.5.0,>=0.4.0->langchain-chroma) (2.5.3)\n",
      "Requirement already satisfied: chroma-hnswlib==0.7.3 in c:\\users\\ankit\\anaconda3\\lib\\site-packages (from chromadb<0.5.0,>=0.4.0->langchain-chroma) (0.7.3)\n",
      "Requirement already satisfied: uvicorn>=0.18.3 in c:\\users\\ankit\\anaconda3\\lib\\site-packages (from uvicorn[standard]>=0.18.3->chromadb<0.5.0,>=0.4.0->langchain-chroma) (0.25.0)\n",
      "Requirement already satisfied: posthog>=2.4.0 in c:\\users\\ankit\\anaconda3\\lib\\site-packages (from chromadb<0.5.0,>=0.4.0->langchain-chroma) (3.4.0)\n",
      "Requirement already satisfied: typing-extensions>=4.5.0 in c:\\users\\ankit\\anaconda3\\lib\\site-packages (from chromadb<0.5.0,>=0.4.0->langchain-chroma) (4.9.0)\n",
      "Requirement already satisfied: pulsar-client>=3.1.0 in c:\\users\\ankit\\anaconda3\\lib\\site-packages (from chromadb<0.5.0,>=0.4.0->langchain-chroma) (3.4.0)\n",
      "Requirement already satisfied: onnxruntime>=1.14.1 in c:\\users\\ankit\\anaconda3\\lib\\site-packages (from chromadb<0.5.0,>=0.4.0->langchain-chroma) (1.17.0)\n",
      "Requirement already satisfied: opentelemetry-api>=1.2.0 in c:\\users\\ankit\\anaconda3\\lib\\site-packages (from chromadb<0.5.0,>=0.4.0->langchain-chroma) (1.22.0)\n",
      "Requirement already satisfied: opentelemetry-exporter-otlp-proto-grpc>=1.2.0 in c:\\users\\ankit\\anaconda3\\lib\\site-packages (from chromadb<0.5.0,>=0.4.0->langchain-chroma) (1.22.0)\n",
      "Requirement already satisfied: opentelemetry-instrumentation-fastapi>=0.41b0 in c:\\users\\ankit\\anaconda3\\lib\\site-packages (from chromadb<0.5.0,>=0.4.0->langchain-chroma) (0.43b0)\n",
      "Requirement already satisfied: opentelemetry-sdk>=1.2.0 in c:\\users\\ankit\\anaconda3\\lib\\site-packages (from chromadb<0.5.0,>=0.4.0->langchain-chroma) (1.22.0)\n",
      "Requirement already satisfied: tokenizers>=0.13.2 in c:\\users\\ankit\\anaconda3\\lib\\site-packages (from chromadb<0.5.0,>=0.4.0->langchain-chroma) (0.15.1)\n",
      "Requirement already satisfied: pypika>=0.48.9 in c:\\users\\ankit\\anaconda3\\lib\\site-packages (from chromadb<0.5.0,>=0.4.0->langchain-chroma) (0.48.9)\n",
      "Requirement already satisfied: tqdm>=4.65.0 in c:\\users\\ankit\\anaconda3\\lib\\site-packages (from chromadb<0.5.0,>=0.4.0->langchain-chroma) (4.66.1)\n",
      "Requirement already satisfied: overrides>=7.3.1 in c:\\users\\ankit\\anaconda3\\lib\\site-packages (from chromadb<0.5.0,>=0.4.0->langchain-chroma) (7.7.0)\n",
      "Requirement already satisfied: importlib-resources in c:\\users\\ankit\\anaconda3\\lib\\site-packages (from chromadb<0.5.0,>=0.4.0->langchain-chroma) (6.1.1)\n",
      "Requirement already satisfied: grpcio>=1.58.0 in c:\\users\\ankit\\anaconda3\\lib\\site-packages (from chromadb<0.5.0,>=0.4.0->langchain-chroma) (1.62.1)\n",
      "Requirement already satisfied: bcrypt>=4.0.1 in c:\\users\\ankit\\anaconda3\\lib\\site-packages (from chromadb<0.5.0,>=0.4.0->langchain-chroma) (4.1.2)\n",
      "Requirement already satisfied: typer>=0.9.0 in c:\\users\\ankit\\anaconda3\\lib\\site-packages (from chromadb<0.5.0,>=0.4.0->langchain-chroma) (0.9.0)\n",
      "Requirement already satisfied: kubernetes>=28.1.0 in c:\\users\\ankit\\anaconda3\\lib\\site-packages (from chromadb<0.5.0,>=0.4.0->langchain-chroma) (29.0.0)\n",
      "Requirement already satisfied: tenacity>=8.2.3 in c:\\users\\ankit\\anaconda3\\lib\\site-packages (from chromadb<0.5.0,>=0.4.0->langchain-chroma) (8.2.3)\n",
      "Requirement already satisfied: PyYAML>=6.0.0 in c:\\users\\ankit\\anaconda3\\lib\\site-packages (from chromadb<0.5.0,>=0.4.0->langchain-chroma) (6.0.1)\n",
      "Requirement already satisfied: mmh3>=4.0.1 in c:\\users\\ankit\\anaconda3\\lib\\site-packages (from chromadb<0.5.0,>=0.4.0->langchain-chroma) (4.1.0)\n",
      "Requirement already satisfied: starlette<0.33.0,>=0.29.0 in c:\\users\\ankit\\anaconda3\\lib\\site-packages (from fastapi<1,>=0.95.2->langchain-chroma) (0.32.0.post1)\n",
      "Requirement already satisfied: jsonpatch<2.0,>=1.33 in c:\\users\\ankit\\anaconda3\\lib\\site-packages (from langchain-core<0.2.0,>=0.1.40->langchain-chroma) (1.33)\n",
      "Requirement already satisfied: langsmith<0.2.0,>=0.1.0 in c:\\users\\ankit\\anaconda3\\lib\\site-packages (from langchain-core<0.2.0,>=0.1.40->langchain-chroma) (0.1.40)\n",
      "Requirement already satisfied: packaging<24.0,>=23.2 in c:\\users\\ankit\\anaconda3\\lib\\site-packages (from langchain-core<0.2.0,>=0.1.40->langchain-chroma) (23.2)\n",
      "Requirement already satisfied: pyproject_hooks in c:\\users\\ankit\\anaconda3\\lib\\site-packages (from build>=1.0.3->chromadb<0.5.0,>=0.4.0->langchain-chroma) (1.0.0)\n",
      "Requirement already satisfied: colorama in c:\\users\\ankit\\anaconda3\\lib\\site-packages (from build>=1.0.3->chromadb<0.5.0,>=0.4.0->langchain-chroma) (0.4.6)\n",
      "Requirement already satisfied: tomli>=1.1.0 in c:\\users\\ankit\\anaconda3\\lib\\site-packages (from build>=1.0.3->chromadb<0.5.0,>=0.4.0->langchain-chroma) (2.0.1)\n",
      "Requirement already satisfied: jsonpointer>=1.9 in c:\\users\\ankit\\anaconda3\\lib\\site-packages (from jsonpatch<2.0,>=1.33->langchain-core<0.2.0,>=0.1.40->langchain-chroma) (2.1)\n",
      "Requirement already satisfied: certifi>=14.05.14 in c:\\users\\ankit\\anaconda3\\lib\\site-packages (from kubernetes>=28.1.0->chromadb<0.5.0,>=0.4.0->langchain-chroma) (2024.2.2)\n",
      "Requirement already satisfied: six>=1.9.0 in c:\\users\\ankit\\anaconda3\\lib\\site-packages (from kubernetes>=28.1.0->chromadb<0.5.0,>=0.4.0->langchain-chroma) (1.16.0)\n",
      "Requirement already satisfied: python-dateutil>=2.5.3 in c:\\users\\ankit\\anaconda3\\lib\\site-packages (from kubernetes>=28.1.0->chromadb<0.5.0,>=0.4.0->langchain-chroma) (2.8.2)\n",
      "Requirement already satisfied: google-auth>=1.0.1 in c:\\users\\ankit\\anaconda3\\lib\\site-packages (from kubernetes>=28.1.0->chromadb<0.5.0,>=0.4.0->langchain-chroma) (2.29.0)\n",
      "Requirement already satisfied: websocket-client!=0.40.0,!=0.41.*,!=0.42.*,>=0.32.0 in c:\\users\\ankit\\anaconda3\\lib\\site-packages (from kubernetes>=28.1.0->chromadb<0.5.0,>=0.4.0->langchain-chroma) (0.58.0)\n",
      "Requirement already satisfied: requests-oauthlib in c:\\users\\ankit\\anaconda3\\lib\\site-packages (from kubernetes>=28.1.0->chromadb<0.5.0,>=0.4.0->langchain-chroma) (1.3.1)\n",
      "Requirement already satisfied: oauthlib>=3.2.2 in c:\\users\\ankit\\anaconda3\\lib\\site-packages (from kubernetes>=28.1.0->chromadb<0.5.0,>=0.4.0->langchain-chroma) (3.2.2)\n",
      "Requirement already satisfied: urllib3>=1.24.2 in c:\\users\\ankit\\anaconda3\\lib\\site-packages (from kubernetes>=28.1.0->chromadb<0.5.0,>=0.4.0->langchain-chroma) (2.1.0)\n",
      "Requirement already satisfied: orjson<4.0.0,>=3.9.14 in c:\\users\\ankit\\anaconda3\\lib\\site-packages (from langsmith<0.2.0,>=0.1.0->langchain-core<0.2.0,>=0.1.40->langchain-chroma) (3.10.0)\n",
      "Requirement already satisfied: coloredlogs in c:\\users\\ankit\\anaconda3\\lib\\site-packages (from onnxruntime>=1.14.1->chromadb<0.5.0,>=0.4.0->langchain-chroma) (15.0.1)\n",
      "Requirement already satisfied: flatbuffers in c:\\users\\ankit\\anaconda3\\lib\\site-packages (from onnxruntime>=1.14.1->chromadb<0.5.0,>=0.4.0->langchain-chroma) (23.5.26)\n",
      "Requirement already satisfied: protobuf in c:\\users\\ankit\\anaconda3\\lib\\site-packages (from onnxruntime>=1.14.1->chromadb<0.5.0,>=0.4.0->langchain-chroma) (4.25.3)\n",
      "Requirement already satisfied: sympy in c:\\users\\ankit\\anaconda3\\lib\\site-packages (from onnxruntime>=1.14.1->chromadb<0.5.0,>=0.4.0->langchain-chroma) (1.12)\n",
      "Requirement already satisfied: deprecated>=1.2.6 in c:\\users\\ankit\\anaconda3\\lib\\site-packages (from opentelemetry-api>=1.2.0->chromadb<0.5.0,>=0.4.0->langchain-chroma) (1.2.14)\n",
      "Requirement already satisfied: importlib-metadata<7.0,>=6.0 in c:\\users\\ankit\\anaconda3\\lib\\site-packages (from opentelemetry-api>=1.2.0->chromadb<0.5.0,>=0.4.0->langchain-chroma) (6.11.0)\n",
      "Requirement already satisfied: backoff<3.0.0,>=1.10.0 in c:\\users\\ankit\\anaconda3\\lib\\site-packages (from opentelemetry-exporter-otlp-proto-grpc>=1.2.0->chromadb<0.5.0,>=0.4.0->langchain-chroma) (2.2.1)\n",
      "Requirement already satisfied: googleapis-common-protos~=1.52 in c:\\users\\ankit\\anaconda3\\lib\\site-packages (from opentelemetry-exporter-otlp-proto-grpc>=1.2.0->chromadb<0.5.0,>=0.4.0->langchain-chroma) (1.62.0)\n",
      "Requirement already satisfied: opentelemetry-exporter-otlp-proto-common==1.22.0 in c:\\users\\ankit\\anaconda3\\lib\\site-packages (from opentelemetry-exporter-otlp-proto-grpc>=1.2.0->chromadb<0.5.0,>=0.4.0->langchain-chroma) (1.22.0)\n",
      "Requirement already satisfied: opentelemetry-proto==1.22.0 in c:\\users\\ankit\\anaconda3\\lib\\site-packages (from opentelemetry-exporter-otlp-proto-grpc>=1.2.0->chromadb<0.5.0,>=0.4.0->langchain-chroma) (1.22.0)\n",
      "Requirement already satisfied: opentelemetry-instrumentation-asgi==0.43b0 in c:\\users\\ankit\\anaconda3\\lib\\site-packages (from opentelemetry-instrumentation-fastapi>=0.41b0->chromadb<0.5.0,>=0.4.0->langchain-chroma) (0.43b0)\n",
      "Requirement already satisfied: opentelemetry-instrumentation==0.43b0 in c:\\users\\ankit\\anaconda3\\lib\\site-packages (from opentelemetry-instrumentation-fastapi>=0.41b0->chromadb<0.5.0,>=0.4.0->langchain-chroma) (0.43b0)\n",
      "Requirement already satisfied: opentelemetry-semantic-conventions==0.43b0 in c:\\users\\ankit\\anaconda3\\lib\\site-packages (from opentelemetry-instrumentation-fastapi>=0.41b0->chromadb<0.5.0,>=0.4.0->langchain-chroma) (0.43b0)\n",
      "Requirement already satisfied: opentelemetry-util-http==0.43b0 in c:\\users\\ankit\\anaconda3\\lib\\site-packages (from opentelemetry-instrumentation-fastapi>=0.41b0->chromadb<0.5.0,>=0.4.0->langchain-chroma) (0.43b0)\n",
      "Requirement already satisfied: setuptools>=16.0 in c:\\users\\ankit\\anaconda3\\lib\\site-packages (from opentelemetry-instrumentation==0.43b0->opentelemetry-instrumentation-fastapi>=0.41b0->chromadb<0.5.0,>=0.4.0->langchain-chroma) (68.2.2)\n",
      "Requirement already satisfied: wrapt<2.0.0,>=1.0.0 in c:\\users\\ankit\\anaconda3\\lib\\site-packages (from opentelemetry-instrumentation==0.43b0->opentelemetry-instrumentation-fastapi>=0.41b0->chromadb<0.5.0,>=0.4.0->langchain-chroma) (1.15.0)\n",
      "Requirement already satisfied: asgiref~=3.0 in c:\\users\\ankit\\anaconda3\\lib\\site-packages (from opentelemetry-instrumentation-asgi==0.43b0->opentelemetry-instrumentation-fastapi>=0.41b0->chromadb<0.5.0,>=0.4.0->langchain-chroma) (3.7.2)\n",
      "Requirement already satisfied: monotonic>=1.5 in c:\\users\\ankit\\anaconda3\\lib\\site-packages (from posthog>=2.4.0->chromadb<0.5.0,>=0.4.0->langchain-chroma) (1.6)\n",
      "Requirement already satisfied: annotated-types>=0.4.0 in c:\\users\\ankit\\anaconda3\\lib\\site-packages (from pydantic>=1.9->chromadb<0.5.0,>=0.4.0->langchain-chroma) (0.6.0)\n",
      "Requirement already satisfied: pydantic-core==2.14.6 in c:\\users\\ankit\\anaconda3\\lib\\site-packages (from pydantic>=1.9->chromadb<0.5.0,>=0.4.0->langchain-chroma) (2.14.6)\n",
      "Requirement already satisfied: charset-normalizer<4,>=2 in c:\\users\\ankit\\anaconda3\\lib\\site-packages (from requests>=2.28->chromadb<0.5.0,>=0.4.0->langchain-chroma) (2.0.4)\n",
      "Requirement already satisfied: idna<4,>=2.5 in c:\\users\\ankit\\anaconda3\\lib\\site-packages (from requests>=2.28->chromadb<0.5.0,>=0.4.0->langchain-chroma) (3.4)\n",
      "Requirement already satisfied: anyio<5,>=3.4.0 in c:\\users\\ankit\\anaconda3\\lib\\site-packages (from starlette<0.33.0,>=0.29.0->fastapi<1,>=0.95.2->langchain-chroma) (3.5.0)\n",
      "Requirement already satisfied: huggingface_hub<1.0,>=0.16.4 in c:\\users\\ankit\\anaconda3\\lib\\site-packages (from tokenizers>=0.13.2->chromadb<0.5.0,>=0.4.0->langchain-chroma) (0.20.3)\n",
      "Requirement already satisfied: click<9.0.0,>=7.1.1 in c:\\users\\ankit\\anaconda3\\lib\\site-packages (from typer>=0.9.0->chromadb<0.5.0,>=0.4.0->langchain-chroma) (8.1.7)\n",
      "Requirement already satisfied: h11>=0.8 in c:\\users\\ankit\\anaconda3\\lib\\site-packages (from uvicorn>=0.18.3->uvicorn[standard]>=0.18.3->chromadb<0.5.0,>=0.4.0->langchain-chroma) (0.14.0)\n",
      "Requirement already satisfied: httptools>=0.5.0 in c:\\users\\ankit\\anaconda3\\lib\\site-packages (from uvicorn[standard]>=0.18.3->chromadb<0.5.0,>=0.4.0->langchain-chroma) (0.6.1)\n",
      "Requirement already satisfied: python-dotenv>=0.13 in c:\\users\\ankit\\anaconda3\\lib\\site-packages (from uvicorn[standard]>=0.18.3->chromadb<0.5.0,>=0.4.0->langchain-chroma) (0.21.0)\n",
      "Requirement already satisfied: watchfiles>=0.13 in c:\\users\\ankit\\anaconda3\\lib\\site-packages (from uvicorn[standard]>=0.18.3->chromadb<0.5.0,>=0.4.0->langchain-chroma) (0.21.0)\n",
      "Requirement already satisfied: websockets>=10.4 in c:\\users\\ankit\\anaconda3\\lib\\site-packages (from uvicorn[standard]>=0.18.3->chromadb<0.5.0,>=0.4.0->langchain-chroma) (12.0)\n",
      "Requirement already satisfied: sniffio>=1.1 in c:\\users\\ankit\\anaconda3\\lib\\site-packages (from anyio<5,>=3.4.0->starlette<0.33.0,>=0.29.0->fastapi<1,>=0.95.2->langchain-chroma) (1.3.0)\n",
      "Requirement already satisfied: cachetools<6.0,>=2.0.0 in c:\\users\\ankit\\anaconda3\\lib\\site-packages (from google-auth>=1.0.1->kubernetes>=28.1.0->chromadb<0.5.0,>=0.4.0->langchain-chroma) (5.3.2)\n",
      "Requirement already satisfied: pyasn1-modules>=0.2.1 in c:\\users\\ankit\\anaconda3\\lib\\site-packages (from google-auth>=1.0.1->kubernetes>=28.1.0->chromadb<0.5.0,>=0.4.0->langchain-chroma) (0.3.0)\n",
      "Requirement already satisfied: rsa<5,>=3.1.4 in c:\\users\\ankit\\anaconda3\\lib\\site-packages (from google-auth>=1.0.1->kubernetes>=28.1.0->chromadb<0.5.0,>=0.4.0->langchain-chroma) (4.9)\n",
      "Requirement already satisfied: filelock in c:\\users\\ankit\\anaconda3\\lib\\site-packages (from huggingface_hub<1.0,>=0.16.4->tokenizers>=0.13.2->chromadb<0.5.0,>=0.4.0->langchain-chroma) (3.13.1)\n",
      "Requirement already satisfied: fsspec>=2023.5.0 in c:\\users\\ankit\\anaconda3\\lib\\site-packages (from huggingface_hub<1.0,>=0.16.4->tokenizers>=0.13.2->chromadb<0.5.0,>=0.4.0->langchain-chroma) (2023.10.0)\n",
      "Requirement already satisfied: zipp>=0.5 in c:\\users\\ankit\\anaconda3\\lib\\site-packages (from importlib-metadata<7.0,>=6.0->opentelemetry-api>=1.2.0->chromadb<0.5.0,>=0.4.0->langchain-chroma) (3.17.0)\n",
      "Requirement already satisfied: humanfriendly>=9.1 in c:\\users\\ankit\\anaconda3\\lib\\site-packages (from coloredlogs->onnxruntime>=1.14.1->chromadb<0.5.0,>=0.4.0->langchain-chroma) (10.0)\n",
      "Requirement already satisfied: mpmath>=0.19 in c:\\users\\ankit\\anaconda3\\lib\\site-packages (from sympy->onnxruntime>=1.14.1->chromadb<0.5.0,>=0.4.0->langchain-chroma) (1.3.0)\n",
      "Requirement already satisfied: pyreadline3 in c:\\users\\ankit\\anaconda3\\lib\\site-packages (from humanfriendly>=9.1->coloredlogs->onnxruntime>=1.14.1->chromadb<0.5.0,>=0.4.0->langchain-chroma) (3.4.1)\n",
      "Requirement already satisfied: pyasn1<0.6.0,>=0.4.6 in c:\\users\\ankit\\anaconda3\\lib\\site-packages (from pyasn1-modules>=0.2.1->google-auth>=1.0.1->kubernetes>=28.1.0->chromadb<0.5.0,>=0.4.0->langchain-chroma) (0.5.0)\n",
      "Downloading langchain_chroma-0.1.0-py3-none-any.whl (8.5 kB)\n",
      "Installing collected packages: langchain-chroma\n",
      "Successfully installed langchain-chroma-0.1.0\n",
      "Note: you may need to restart the kernel to use updated packages.\n"
     ]
    }
   ],
   "source": [
    "pip install langchain-chroma"
   ]
  },
  {
   "cell_type": "code",
   "execution_count": 2,
   "id": "a326f03d",
   "metadata": {},
   "outputs": [],
   "source": []
  },
  {
   "cell_type": "code",
   "execution_count": 6,
   "id": "e1096b01",
   "metadata": {},
   "outputs": [],
   "source": []
  },
  {
   "cell_type": "code",
   "execution_count": 9,
   "id": "9b54a3ac",
   "metadata": {},
   "outputs": [],
   "source": []
  },
  {
   "cell_type": "code",
   "execution_count": 5,
   "id": "814512ce",
   "metadata": {},
   "outputs": [],
   "source": []
  },
  {
   "cell_type": "code",
   "execution_count": 7,
   "id": "544139be",
   "metadata": {},
   "outputs": [],
   "source": []
  },
  {
   "cell_type": "code",
   "execution_count": 12,
   "id": "234de7e9",
   "metadata": {},
   "outputs": [],
   "source": []
  },
  {
   "cell_type": "code",
   "execution_count": null,
   "id": "b874ebaf",
   "metadata": {},
   "outputs": [],
   "source": []
  }
 ],
 "metadata": {
  "kernelspec": {
   "display_name": "Python 3 (ipykernel)",
   "language": "python",
   "name": "python3"
  },
  "language_info": {
   "codemirror_mode": {
    "name": "ipython",
    "version": 3
   },
   "file_extension": ".py",
   "mimetype": "text/x-python",
   "name": "python",
   "nbconvert_exporter": "python",
   "pygments_lexer": "ipython3",
   "version": "3.10.14"
  }
 },
 "nbformat": 4,
 "nbformat_minor": 5
}
