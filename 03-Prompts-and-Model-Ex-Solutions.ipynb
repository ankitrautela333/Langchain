{
 "cells": [
  {
   "cell_type": "markdown",
   "id": "22138968-6bd1-4e21-9acc-50b8fa91b457",
   "metadata": {
    "tags": []
   },
   "source": [
    "# Prompts and Models Exercise - Example Solution\n",
    "\n",
    "**TASK: Create a Python function that uses Prompts and Chat internally to give travel ideas related to two variables:**\n",
    "\n",
    "    * An Interest or Hobby\n",
    "    * A Budget\n",
    "    \n",
    "Remember that you should also decide on a system prompt. The end function will just be a nice wrapper on top of all the previous LangChain components we've discussed earlier."
   ]
  },
  {
   "cell_type": "code",
   "execution_count": 1,
   "id": "15e5de41-7256-456e-b3cd-26f26b24b08a",
   "metadata": {},
   "outputs": [],
   "source": [
    "def travel_idea(interest,budget):\n",
    "    '''\n",
    "    INPUTS:\n",
    "        interest: A str interest or hobby (e.g. fishing)\n",
    "        budget: A str budget (e.g. $10,000)\n",
    "    '''\n",
    "    pass"
   ]
  },
  {
   "cell_type": "markdown",
   "id": "87ee4907-96cf-457d-9455-937db0ed9b72",
   "metadata": {},
   "source": [
    "**Example Solution**\n",
    "\n",
    "Keep in mind your solution may differ slightly, but as long as it works, that's ok!"
   ]
  },
  {
   "cell_type": "code",
   "execution_count": 2,
   "id": "d7bf8ecc-ca46-4b88-a8f4-d5eb21dff643",
   "metadata": {},
   "outputs": [],
   "source": [
    "f = open(r\"C:\\Users\\ankit\\OneDrive\\Desktop\\OPEN_AI_API_KEY.txt\")\n",
    "api_key = f.read()"
   ]
  },
  {
   "cell_type": "code",
   "execution_count": 7,
   "id": "d5b5ad98-d184-4dc3-b553-0dbe2200f4fd",
   "metadata": {},
   "outputs": [],
   "source": [
    "from langchain.chat_models import ChatOpenAI\n",
    "from langchain.prompts import (\n",
    "    ChatPromptTemplate,\n",
    "    PromptTemplate,\n",
    "    SystemMessagePromptTemplate,\n",
    "    AIMessagePromptTemplate,\n",
    "    HumanMessagePromptTemplate,\n",
    ")\n",
    "\n",
    "def travel_idea(interest,budget):\n",
    "    '''\n",
    "    INPUTS:\n",
    "        interest: A str interest or hobby (e.g. fishing)\n",
    "        budget: A str budget (e.g. $10,000)\n",
    "    '''\n",
    "    # PART ONE: SYSTEM\n",
    "    system_template=\"You are an AI Travel Agent that helps people plan trips about {interest} on a budget of {budget}\"\n",
    "    system_message_prompt = SystemMessagePromptTemplate.from_template(system_template)\n",
    "    # PART TWO: HUMAN REQUEST\n",
    "    human_template=\"{travel_help_request}\"\n",
    "    human_message_prompt = HumanMessagePromptTemplate.from_template(human_template)\n",
    "    # PART THREE: COMPILE TO CHAT\n",
    "    chat_prompt = ChatPromptTemplate.from_messages([system_message_prompt, human_message_prompt])\n",
    "    # PART FOUR: INSERT VARIABLES\n",
    "    request = chat_prompt.format_prompt(interest=interest, budget=budget, travel_help_request=\"Please give me an example travel itinerary\").to_messages()\n",
    "    # PART FIVE: CHAT REQUEST\n",
    "    chat = ChatOpenAI(openai_api_key=api_key)\n",
    "    result = chat(request)\n",
    "    return result.content"
   ]
  },
  {
   "cell_type": "code",
   "execution_count": 8,
   "id": "e96ce218-3b9e-4563-a1ab-071cff41d2f2",
   "metadata": {},
   "outputs": [
    {
     "name": "stdout",
     "output_type": "stream",
     "text": [
      "Certainly! Here's an example travel itinerary for a fishing trip on a budget of $10,000:\n",
      "\n",
      "Day 1: Arrival in Anchorage, Alaska\n",
      "- Fly into Anchorage and check into a budget-friendly hotel.\n",
      "- Spend the day exploring the city and enjoying local attractions.\n",
      "\n",
      "Day 2-3: Fishing in Kenai Peninsula\n",
      "- Rent a car and drive to the beautiful Kenai Peninsula.\n",
      "- Book a guided fishing trip on the Kenai River, known for its salmon and trout species.\n",
      "- Stay at a budget-friendly cabin or campground in the area.\n",
      "\n",
      "Day 4-6: Fishing in Yellowstone National Park, Wyoming\n",
      "- Fly from Anchorage to Jackson Hole, Wyoming.\n",
      "- Rent a car and drive to Yellowstone National Park.\n",
      "- Purchase a fishing permit and spend a few days fishing in the park's pristine rivers and lakes.\n",
      "- Stay at a budget-friendly lodge or campground within or near the park.\n",
      "\n",
      "Day 7-9: Fishing in Gunnison, Colorado\n",
      "- Fly from Jackson Hole to Gunnison, Colorado.\n",
      "- Rent a car and drive to Gunnison, known for its excellent trout fishing.\n",
      "- Hire a local guide and spend a few days fishing in the Gunnison River or nearby Blue Mesa Reservoir.\n",
      "- Stay at a budget-friendly hotel or campground in the area.\n",
      "\n",
      "Day 10-12: Fishing in Baja California, Mexico\n",
      "- Fly from Gunnison to Cabo San Lucas, Mexico.\n",
      "- Book a fishing charter and enjoy deep-sea fishing in the waters off the coast of Baja California.\n",
      "- Spend a couple of days exploring the vibrant local culture and relaxing on the beautiful beaches.\n",
      "- Stay at a budget-friendly hotel or hostel in Cabo San Lucas.\n",
      "\n",
      "Day 13: Return to Anchorage\n",
      "- Fly back to Anchorage from Cabo San Lucas.\n",
      "- Enjoy a final evening in the city, trying out local seafood and reflecting on your fishing adventures.\n",
      "\n",
      "Day 14: Departure\n",
      "- Check out of your hotel and fly back home, carrying wonderful memories of your fishing trip.\n",
      "\n",
      "Please note that the prices for flights, accommodations, and fishing charters may vary depending on the time of year and availability. It's always recommended to do thorough research and compare prices to stay within your budget.\n"
     ]
    }
   ],
   "source": [
    "print(travel_idea('fishing','$10,000'))"
   ]
  },
  {
   "cell_type": "code",
   "execution_count": 2,
   "id": "748da355-4537-4df7-be81-d7065034123f",
   "metadata": {},
   "outputs": [
    {
     "name": "stdout",
     "output_type": "stream",
     "text": [
      "Collecting guardrails\n",
      "  Downloading guardrails-2.0.0-py3-none-any.whl.metadata (8.4 kB)\n",
      "Collecting mutmut==1.5.1 (from guardrails)\n",
      "  Downloading mutmut-1.5.1.tar.gz (24 kB)\n",
      "  Preparing metadata (setup.py): started\n",
      "  Preparing metadata (setup.py): finished with status 'done'\n",
      "INFO: pip is looking at multiple versions of guardrails to determine which version is compatible with other requirements. This could take a while.\n",
      "Collecting guardrails\n",
      "  Downloading guardrails-1.0.1-py3-none-any.whl.metadata (8.2 kB)\n",
      "Collecting pytest==4.6.9 (from guardrails)\n",
      "  Downloading pytest-4.6.9-py2.py3-none-any.whl.metadata (6.8 kB)\n",
      "Collecting guardrails\n",
      "  Downloading guardrails-1.0.0-py3-none-any.whl.metadata (8.0 kB)\n",
      "  Downloading guardrails-0.0.6.tar.gz (11 kB)\n",
      "  Preparing metadata (setup.py): started\n",
      "  Preparing metadata (setup.py): finished with status 'error'\n"
     ]
    },
    {
     "name": "stderr",
     "output_type": "stream",
     "text": [
      "  error: subprocess-exited-with-error\n",
      "  \n",
      "  python setup.py egg_info did not run successfully.\n",
      "  exit code: 1\n",
      "  \n",
      "  [8 lines of output]\n",
      "  Traceback (most recent call last):\n",
      "    File \"<string>\", line 2, in <module>\n",
      "    File \"<pip-setuptools-caller>\", line 34, in <module>\n",
      "    File \"C:\\Users\\ankit\\AppData\\Local\\Temp\\pip-install-pcys4_id\\guardrails_e90aa82d54f745659a08d7ae21750719\\setup.py\", line 22, in <module>\n",
      "      long_description = fh.read()\n",
      "    File \"C:\\Users\\ankit\\anaconda3\\lib\\encodings\\cp1252.py\", line 23, in decode\n",
      "      return codecs.charmap_decode(input,self.errors,decoding_table)[0]\n",
      "  UnicodeDecodeError: 'charmap' codec can't decode byte 0x8f in position 5620: character maps to <undefined>\n",
      "  [end of output]\n",
      "  \n",
      "  note: This error originates from a subprocess, and is likely not a problem with pip.\n",
      "error: metadata-generation-failed\n",
      "\n",
      "Encountered error while generating package metadata.\n",
      "\n",
      "See above for output.\n",
      "\n",
      "note: This is an issue with the package mentioned above, not pip.\n",
      "hint: See above for details.\n"
     ]
    }
   ],
   "source": [
    "!pip install guardrails"
   ]
  },
  {
   "cell_type": "code",
   "execution_count": null,
   "id": "03fbd6c8",
   "metadata": {},
   "outputs": [],
   "source": []
  }
 ],
 "metadata": {
  "kernelspec": {
   "display_name": "Python 3 (ipykernel)",
   "language": "python",
   "name": "python3"
  },
  "language_info": {
   "codemirror_mode": {
    "name": "ipython",
    "version": 3
   },
   "file_extension": ".py",
   "mimetype": "text/x-python",
   "name": "python",
   "nbconvert_exporter": "python",
   "pygments_lexer": "ipython3",
   "version": "3.10.14"
  }
 },
 "nbformat": 4,
 "nbformat_minor": 5
}
