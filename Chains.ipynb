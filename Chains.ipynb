{
 "cells": [
  {
   "cell_type": "code",
   "execution_count": 6,
   "id": "3f7a68de",
   "metadata": {},
   "outputs": [],
   "source": [
    "from langchain.prompts.chat import ChatPromptTemplate,HumanMessagePromptTemplate"
   ]
  },
  {
   "cell_type": "code",
   "execution_count": 8,
   "id": "7b227ee0",
   "metadata": {},
   "outputs": [],
   "source": [
    "from langchain_openai import ChatOpenAI"
   ]
  },
  {
   "cell_type": "code",
   "execution_count": 6,
   "id": "a942313e",
   "metadata": {},
   "outputs": [],
   "source": [
    "import os\n",
    "with open(r\"C:\\Users\\ankit\\OneDrive\\Desktop\\OPEN_AI_API_KEY.txt\",\"r\") as f:\n",
    "    os.environ['OPENAI_API_KEY']=f.read()"
   ]
  },
  {
   "cell_type": "code",
   "execution_count": 5,
   "id": "9e6f9811",
   "metadata": {},
   "outputs": [],
   "source": [
    "human_message=HumanMessagePromptTemplate.from_template(\"Make a funny company name for a company that makes : {product}\")"
   ]
  },
  {
   "cell_type": "code",
   "execution_count": 7,
   "id": "3da8e652",
   "metadata": {},
   "outputs": [],
   "source": [
    "chat_prompt_template=ChatPromptTemplate.from_messages([human_message])"
   ]
  },
  {
   "cell_type": "code",
   "execution_count": 9,
   "id": "d4c98eba",
   "metadata": {},
   "outputs": [],
   "source": [
    "llm=ChatOpenAI(temperature=0)"
   ]
  },
  {
   "cell_type": "code",
   "execution_count": 36,
   "id": "f8d42f0e",
   "metadata": {},
   "outputs": [],
   "source": [
    "chat=ChatOpenAI(temperature=0)"
   ]
  },
  {
   "cell_type": "code",
   "execution_count": 37,
   "id": "2f32017d",
   "metadata": {},
   "outputs": [],
   "source": [
    "from langchain.chains import LLMChain"
   ]
  },
  {
   "cell_type": "code",
   "execution_count": 38,
   "id": "a8a4cfaf",
   "metadata": {},
   "outputs": [],
   "source": [
    "chain=LLMChain(llm=chat,prompt=chat_prompt_template)"
   ]
  },
  {
   "cell_type": "code",
   "execution_count": 39,
   "id": "351dfc26",
   "metadata": {},
   "outputs": [],
   "source": [
    "result= chain.run(product= 'Computers')"
   ]
  },
  {
   "cell_type": "code",
   "execution_count": 40,
   "id": "e33788e5",
   "metadata": {},
   "outputs": [
    {
     "data": {
      "text/plain": [
       "str"
      ]
     },
     "execution_count": 40,
     "metadata": {},
     "output_type": "execute_result"
    }
   ],
   "source": [
    "type(result)"
   ]
  },
  {
   "cell_type": "code",
   "execution_count": 43,
   "id": "db8e1f3e",
   "metadata": {},
   "outputs": [],
   "source": [
    "llm=ChatOpenAI()"
   ]
  },
  {
   "cell_type": "code",
   "execution_count": 41,
   "id": "8b481eb9",
   "metadata": {},
   "outputs": [],
   "source": [
    "from langchain.chains import LLMChain,SimpleSequentialChain,"
   ]
  },
  {
   "cell_type": "code",
   "execution_count": 44,
   "id": "72a01a3a",
   "metadata": {},
   "outputs": [],
   "source": [
    "template1=\"Give me a simple bullet point outline for a blog post on{topic}\"\n",
    "prompt1=ChatPromptTemplate.from_template(template1)\n",
    "chain_1 =LLMChain(llm=llm,prompt=prompt1)\n",
    "\n",
    "template2=\"Write a blog post using outline {outline}\"\n",
    "prompt2=ChatPromptTemplate.from_template(template2)\n",
    "chain_2=LLMChain(llm=llm,prompt=prompt2)\n",
    "\n",
    "full_chain=SimpleSequentialChain(chains=[chain_1,chain_2],verbose=True)"
   ]
  },
  {
   "cell_type": "code",
   "execution_count": 45,
   "id": "f2b9e260",
   "metadata": {},
   "outputs": [
    {
     "name": "stdout",
     "output_type": "stream",
     "text": [
      "\n",
      "\n",
      "\u001b[1m> Entering new SimpleSequentialChain chain...\u001b[0m\n",
      "\u001b[36;1m\u001b[1;3m- Introduction to cheesecake and its popularity\n",
      "- History of cheesecake and its origins\n",
      "- Different types of cheesecakes (New York style, no-bake, etc.)\n",
      "- Tips for making the perfect cheesecake at home\n",
      "- Creative flavor combinations and toppings for cheesecake\n",
      "- Health benefits and potential drawbacks of eating cheesecake\n",
      "- Conclusion and final thoughts on the delicious dessert\u001b[0m\n",
      "\u001b[33;1m\u001b[1;3mCheesecake, a rich and creamy dessert that has been enjoyed for centuries, is loved by many around the world. In this blog post, we will explore the history of cheesecake, its various types, tips for making the perfect cheesecake at home, creative flavor combinations and toppings, as well as its health benefits and potential drawbacks.\n",
      "\n",
      "**Introduction to Cheesecake and its Popularity**\n",
      "\n",
      "Cheesecake is a beloved dessert that is often served at special occasions and gatherings. Its smooth and velvety texture, combined with a sweet and tangy flavor, makes it a favorite among dessert lovers. From its origins in ancient Greece to its modern-day popularity, cheesecake has stood the test of time as a timeless dessert.\n",
      "\n",
      "**History of Cheesecake and its Origins**\n",
      "\n",
      "Cheesecake has a long and storied history, dating back to ancient Greece where it was served to athletes during the first Olympic games. The Romans later adopted the dessert and spread it throughout their empire. The modern-day cheesecake that we know and love today is believed to have originated in New York City in the 1900s.\n",
      "\n",
      "**Different Types of Cheesecakes**\n",
      "\n",
      "There are many different types of cheesecakes, each with its own unique flavor and texture. Some popular types include New York style cheesecake, which is dense and creamy, and no-bake cheesecake, which is light and airy. Other variations include chocolate cheesecake, fruit-flavored cheesecake, and savory cheesecakes made with ingredients like goat cheese or feta.\n",
      "\n",
      "**Tips for Making the Perfect Cheesecake at Home**\n",
      "\n",
      "Making the perfect cheesecake at home can be a daunting task, but with a few tips and tricks, anyone can master this delicious dessert. Some key tips include using room temperature ingredients, not overmixing the batter, and baking the cheesecake in a water bath to prevent cracking.\n",
      "\n",
      "**Creative Flavor Combinations and Toppings for Cheesecake**\n",
      "\n",
      "While classic cheesecake flavors like vanilla and chocolate are always popular, there are endless possibilities for creative flavor combinations and toppings. Some unique ideas include matcha cheesecake, salted caramel cheesecake, and even savory cheesecakes topped with bacon or herbs.\n",
      "\n",
      "**Health Benefits and Potential Drawbacks of Eating Cheesecake**\n",
      "\n",
      "While cheesecake is undeniably delicious, it is also a high-calorie and high-fat dessert that should be enjoyed in moderation. However, cheesecake does offer some health benefits, such as being a good source of calcium and protein. It is also a great way to indulge in a sweet treat every once in a while.\n",
      "\n",
      "**Conclusion and Final Thoughts on the Delicious Dessert**\n",
      "\n",
      "In conclusion, cheesecake is a timeless dessert that has been enjoyed for centuries. Its rich and creamy texture, combined with a sweet and tangy flavor, makes it a favorite among dessert lovers. Whether you prefer classic New York style cheesecake or creative flavor combinations, there is a cheesecake out there for everyone to enjoy. So go ahead, indulge in a slice of cheesecake and savor every bite of this delicious dessert.\u001b[0m\n",
      "\n",
      "\u001b[1m> Finished chain.\u001b[0m\n"
     ]
    }
   ],
   "source": [
    "result=full_chain.run('Cheescake')"
   ]
  },
  {
   "cell_type": "markdown",
   "id": "b1c07f35",
   "metadata": {},
   "source": [
    "# SEQUENTIAL CHAIN"
   ]
  },
  {
   "cell_type": "code",
   "execution_count": 2,
   "id": "23b347bf",
   "metadata": {},
   "outputs": [],
   "source": [
    "from langchain.chains import LLMChain,SequentialChain"
   ]
  },
  {
   "cell_type": "code",
   "execution_count": 5,
   "id": "ec201ea8",
   "metadata": {},
   "outputs": [],
   "source": [
    "import os\n",
    "with open(r\"C:\\Users\\ankit\\OneDrive\\Desktop\\OPEN_AI_API_KEY.txt\",\"r\") as f:\n",
    "    os.environ['OPENAI_API_KEY']=f.read()"
   ]
  },
  {
   "cell_type": "code",
   "execution_count": 5,
   "id": "6e5e6fd5",
   "metadata": {},
   "outputs": [],
   "source": [
    "llm=ChatOpenAI()"
   ]
  },
  {
   "cell_type": "code",
   "execution_count": 4,
   "id": "cf0fba8f",
   "metadata": {},
   "outputs": [],
   "source": [
    "from langchain_openai import ChatOpenAI\n",
    "from langchain.prompts import AIMessagePromptTemplate,HumanMessagePromptTemplate,SystemMessagePromptTemplate,ChatPromptTemplate"
   ]
  },
  {
   "cell_type": "code",
   "execution_count": 7,
   "id": "2a2d0ebb",
   "metadata": {},
   "outputs": [],
   "source": [
    "template1=\"Give a summary of this employee's performance review\\n {review}\"\n",
    "prompt1=ChatPromptTemplate.from_template(template1)\n",
    "chain1=LLMChain(llm=llm,prompt=prompt1,output_key=\"review_summary\")\n"
   ]
  },
  {
   "cell_type": "code",
   "execution_count": 6,
   "id": "c06c6dd9",
   "metadata": {},
   "outputs": [],
   "source": [
    "template2=\"Identify key employee weakness in this review summary\\n {review_summary}\"\n",
    "prompt2=ChatPromptTemplate.from_template(template2)\n",
    "chain2=LLMChain(llm=llm,prompt=prompt2,output_key=\"weakness\")"
   ]
  },
  {
   "cell_type": "code",
   "execution_count": 8,
   "id": "27448500",
   "metadata": {},
   "outputs": [],
   "source": [
    "template3=\"Create a personalised plan to help and address these weakness\\n {weakness}\"\n",
    "prompt3=ChatPromptTemplate.from_template(template3)\n",
    "chain3=LLMChain(llm=llm,prompt=prompt3,output_key=\"final_plan\")"
   ]
  },
  {
   "cell_type": "code",
   "execution_count": 9,
   "id": "0216a121",
   "metadata": {},
   "outputs": [],
   "source": [
    "employee_review = '''\n",
    "Employee Information:\n",
    "Name: Joe Schmo\n",
    "Position: Software Engineer\n",
    "Date of Review: July 14, 2023\n",
    "\n",
    "Strengths:\n",
    "Joe is a highly skilled software engineer with a deep understanding of programming languages, algorithms, and software development best practices. His technical expertise shines through in his ability to efficiently solve complex problems and deliver high-quality code.\n",
    "\n",
    "One of Joe's greatest strengths is his collaborative nature. He actively engages with cross-functional teams, contributing valuable insights and seeking input from others. His open-mindedness and willingness to learn from colleagues make him a true team player.\n",
    "\n",
    "Joe consistently demonstrates initiative and self-motivation. He takes the lead in seeking out new projects and challenges, and his proactive attitude has led to significant improvements in existing processes and systems. His dedication to self-improvement and growth is commendable.\n",
    "\n",
    "Another notable strength is Joe's adaptability. He has shown great flexibility in handling changing project requirements and learning new technologies. This adaptability allows him to seamlessly transition between different projects and tasks, making him a valuable asset to the team.\n",
    "\n",
    "Joe's problem-solving skills are exceptional. He approaches issues with a logical mindset and consistently finds effective solutions, often thinking outside the box. His ability to break down complex problems into manageable parts is key to his success in resolving issues efficiently.\n",
    "\n",
    "Weaknesses:\n",
    "While Joe possesses numerous strengths, there are a few areas where he could benefit from improvement. One such area is time management. Occasionally, Joe struggles with effectively managing his time, resulting in missed deadlines or the need for additional support to complete tasks on time. Developing better prioritization and time management techniques would greatly enhance his efficiency.\n",
    "\n",
    "Another area for improvement is Joe's written communication skills. While he communicates well verbally, there have been instances where his written documentation lacked clarity, leading to confusion among team members. Focusing on enhancing his written communication abilities will help him effectively convey ideas and instructions.\n",
    "\n",
    "Additionally, Joe tends to take on too many responsibilities and hesitates to delegate tasks to others. This can result in an excessive workload and potential burnout. Encouraging him to delegate tasks appropriately will not only alleviate his own workload but also foster a more balanced and productive team environment.\n",
    "'''"
   ]
  },
  {
   "cell_type": "code",
   "execution_count": 28,
   "id": "29e17037",
   "metadata": {},
   "outputs": [],
   "source": [
    "seq_chain=SequentialChain(chains=[chain1,chain2,chain3],\n",
    "                          input_variables=['review'],\n",
    "                          output_variables=['review_summary','weakness','final_plan'],verbose=True)"
   ]
  },
  {
   "cell_type": "code",
   "execution_count": 29,
   "id": "305e0d46",
   "metadata": {},
   "outputs": [
    {
     "name": "stdout",
     "output_type": "stream",
     "text": [
      "\n",
      "\n",
      "\u001b[1m> Entering new SequentialChain chain...\u001b[0m\n",
      "\n",
      "\u001b[1m> Finished chain.\u001b[0m\n"
     ]
    }
   ],
   "source": [
    "result=seq_chain(employee_review)"
   ]
  },
  {
   "cell_type": "code",
   "execution_count": 30,
   "id": "62d6cf92",
   "metadata": {},
   "outputs": [
    {
     "name": "stdout",
     "output_type": "stream",
     "text": [
      "Overall, Joe Schmo is an exceptional software engineer with strong technical skills, a collaborative nature, initiative, adaptability, and problem-solving abilities. He excels in his role and consistently delivers high-quality work. However, there are areas for improvement, such as time management, written communication, and delegation of tasks. Addressing these weaknesses will further enhance Joe's performance and contribute to the overall success of the team.\n"
     ]
    }
   ],
   "source": [
    "print(result['review_summary'])"
   ]
  },
  {
   "cell_type": "code",
   "execution_count": 31,
   "id": "a2111d77",
   "metadata": {},
   "outputs": [
    {
     "name": "stdout",
     "output_type": "stream",
     "text": [
      "The key employee weakness identified in this review summary is time management, written communication, and delegation of tasks.\n"
     ]
    }
   ],
   "source": [
    "print(result['weakness'])"
   ]
  },
  {
   "cell_type": "code",
   "execution_count": 32,
   "id": "e1ed6699",
   "metadata": {},
   "outputs": [
    {
     "name": "stdout",
     "output_type": "stream",
     "text": [
      "To address these weaknesses, we can create a personalized plan for the employee:\n",
      "\n",
      "1. Time Management:\n",
      "- Schedule regular check-ins with the employee to discuss their workload and priorities.\n",
      "- Provide training on time management techniques and tools, such as setting priorities, creating to-do lists, and using time tracking apps.\n",
      "- Encourage the employee to set specific goals and deadlines for their tasks to help them stay on track.\n",
      "\n",
      "2. Written Communication:\n",
      "- Offer writing workshops or courses to improve the employee's written communication skills.\n",
      "- Provide templates or examples of effective written communication for reference.\n",
      "- Encourage the employee to seek feedback on their written work and make revisions as needed.\n",
      "\n",
      "3. Delegation of Tasks:\n",
      "- Discuss the importance of delegation with the employee and how it can help them prioritize and focus on higher-level tasks.\n",
      "- Identify tasks that can be delegated to other team members and provide guidance on how to effectively assign and follow up on delegated tasks.\n",
      "- Offer training on effective delegation techniques, such as clear communication, setting expectations, and providing necessary resources.\n",
      "\n",
      "Regular feedback and support from managers and colleagues will be crucial in helping the employee improve in these areas. It's important to create a supportive and encouraging environment where the employee feels comfortable seeking help and learning from their mistakes.\n"
     ]
    }
   ],
   "source": [
    "print(result['final_plan'])"
   ]
  },
  {
   "cell_type": "markdown",
   "id": "b49034e5",
   "metadata": {},
   "source": [
    "# LLM ROUTER CHAIN"
   ]
  },
  {
   "cell_type": "code",
   "execution_count": 1,
   "id": "9a310f24",
   "metadata": {},
   "outputs": [],
   "source": [
    "beginner_template = '''You are a physics teacher who is really\n",
    "focused on beginners and explaining complex topics in simple to understand terms. \n",
    "You assume no prior knowledge. Here is the question\\n{input}'''"
   ]
  },
  {
   "cell_type": "code",
   "execution_count": 2,
   "id": "3b61c3a9",
   "metadata": {},
   "outputs": [],
   "source": [
    "expert_template = '''You are a world expert physics professor who explains physics topics\n",
    "to advanced audience members. You can assume anyone you answer has a \n",
    "PhD level understanding of Physics. Here is the question\\n{input}'''"
   ]
  },
  {
   "cell_type": "code",
   "execution_count": 3,
   "id": "ffa758a6",
   "metadata": {},
   "outputs": [],
   "source": [
    "prompts=[{'name':'beginner_physics',\n",
    "         'description': \"Answer basic physics questions\",\n",
    "         'template':beginner_template,},\n",
    "        {'name':'advanced physics',\n",
    "        'description':'Answer advanced physics questions',\n",
    "        'template':expert_template}]"
   ]
  },
  {
   "cell_type": "code",
   "execution_count": 4,
   "id": "1102f269",
   "metadata": {},
   "outputs": [],
   "source": [
    "from langchain_openai import ChatOpenAI\n",
    "from langchain.prompts import ChatPromptTemplate\n",
    "from langchain.chains import LLMChain"
   ]
  },
  {
   "cell_type": "code",
   "execution_count": 6,
   "id": "b4354802",
   "metadata": {},
   "outputs": [],
   "source": [
    "llm=ChatOpenAI()"
   ]
  },
  {
   "cell_type": "code",
   "execution_count": 7,
   "id": "4a4b3c8d",
   "metadata": {},
   "outputs": [],
   "source": [
    "#Created llm chain\n",
    "destination_chains={}\n",
    "for p_info in prompts:\n",
    "    name=p_info['name']\n",
    "    prompt_template=p_info['template']\n",
    "    prompt= ChatPromptTemplate.from_template(template=prompt_template)\n",
    "    chain=LLMChain(llm=llm,prompt=prompt)\n",
    "    destination_chains[name]=chain"
   ]
  },
  {
   "cell_type": "code",
   "execution_count": 8,
   "id": "6b3a27dd",
   "metadata": {},
   "outputs": [
    {
     "name": "stdout",
     "output_type": "stream",
     "text": [
      "prompt=ChatPromptTemplate(input_variables=['input'], messages=[HumanMessagePromptTemplate(prompt=PromptTemplate(input_variables=['input'], template='You are a physics teacher who is really\\nfocused on beginners and explaining complex topics in simple to understand terms. \\nYou assume no prior knowledge. Here is the question\\n{input}'))]) llm=ChatOpenAI(client=<openai.resources.chat.completions.Completions object at 0x000001EE4C0DD330>, async_client=<openai.resources.chat.completions.AsyncCompletions object at 0x000001EE4C0DF040>, openai_api_key=SecretStr('**********'), openai_proxy='')\n"
     ]
    }
   ],
   "source": [
    "print(destination_chains['beginner_physics'])"
   ]
  },
  {
   "cell_type": "code",
   "execution_count": 10,
   "id": "8a1b8b29",
   "metadata": {},
   "outputs": [],
   "source": [
    "default_prompt=ChatPromptTemplate.from_template('{input}')\n",
    "default_chain=LLMChain(llm=llm,prompt=default_prompt)"
   ]
  },
  {
   "cell_type": "code",
   "execution_count": 11,
   "id": "c0a662a1",
   "metadata": {},
   "outputs": [],
   "source": [
    "from langchain.chains.router.multi_prompt_prompt import MULTI_PROMPT_ROUTER_TEMPLATE"
   ]
  },
  {
   "cell_type": "code",
   "execution_count": 12,
   "id": "6f3a98e4",
   "metadata": {},
   "outputs": [
    {
     "name": "stdout",
     "output_type": "stream",
     "text": [
      "Given a raw text input to a language model select the model prompt best suited for the input. You will be given the names of the available prompts and a description of what the prompt is best suited for. You may also revise the original input if you think that revising it will ultimately lead to a better response from the language model.\n",
      "\n",
      "<< FORMATTING >>\n",
      "Return a markdown code snippet with a JSON object formatted to look like:\n",
      "```json\n",
      "{{{{\n",
      "    \"destination\": string \\ name of the prompt to use or \"DEFAULT\"\n",
      "    \"next_inputs\": string \\ a potentially modified version of the original input\n",
      "}}}}\n",
      "```\n",
      "\n",
      "REMEMBER: \"destination\" MUST be one of the candidate prompt names specified below OR it can be \"DEFAULT\" if the input is not well suited for any of the candidate prompts.\n",
      "REMEMBER: \"next_inputs\" can just be the original input if you don't think any modifications are needed.\n",
      "\n",
      "<< CANDIDATE PROMPTS >>\n",
      "{destinations}\n",
      "\n",
      "<< INPUT >>\n",
      "{{input}}\n",
      "\n",
      "<< OUTPUT (must include ```json at the start of the response) >>\n",
      "<< OUTPUT (must end with ```) >>\n",
      "\n"
     ]
    }
   ],
   "source": [
    "print(MULTI_PROMPT_ROUTER_TEMPLATE)"
   ]
  },
  {
   "cell_type": "code",
   "execution_count": 13,
   "id": "041442e1",
   "metadata": {},
   "outputs": [],
   "source": [
    "destinations =[f\"{p['name']}:{p['description']}\" for p in prompts]"
   ]
  },
  {
   "cell_type": "code",
   "execution_count": 14,
   "id": "620d1d82",
   "metadata": {},
   "outputs": [
    {
     "data": {
      "text/plain": [
       "['beginner_physics:Answer basic physics questions',\n",
       " 'advanced physics:Answer advanced physics questions']"
      ]
     },
     "execution_count": 14,
     "metadata": {},
     "output_type": "execute_result"
    }
   ],
   "source": [
    "destinations"
   ]
  },
  {
   "cell_type": "code",
   "execution_count": 15,
   "id": "1d3d2abc",
   "metadata": {},
   "outputs": [],
   "source": [
    "destination_str=\"\\n\".join(destinations)"
   ]
  },
  {
   "cell_type": "code",
   "execution_count": 16,
   "id": "b11efa17",
   "metadata": {},
   "outputs": [
    {
     "name": "stdout",
     "output_type": "stream",
     "text": [
      "beginner_physics:Answer basic physics questions\n",
      "advanced physics:Answer advanced physics questions\n"
     ]
    }
   ],
   "source": [
    "print(destination_str)"
   ]
  },
  {
   "cell_type": "code",
   "execution_count": 17,
   "id": "d8e003c3",
   "metadata": {},
   "outputs": [],
   "source": [
    "from langchain.prompts import PromptTemplate\n",
    "from langchain.chains.router.llm_router import LLMRouterChain,RouterOutputParser"
   ]
  },
  {
   "cell_type": "code",
   "execution_count": 18,
   "id": "4daa2d2e",
   "metadata": {},
   "outputs": [],
   "source": [
    "router_template=MULTI_PROMPT_ROUTER_TEMPLATE.format(destinations=destination_str)"
   ]
  },
  {
   "cell_type": "code",
   "execution_count": 19,
   "id": "d430c16a",
   "metadata": {},
   "outputs": [
    {
     "name": "stdout",
     "output_type": "stream",
     "text": [
      "Given a raw text input to a language model select the model prompt best suited for the input. You will be given the names of the available prompts and a description of what the prompt is best suited for. You may also revise the original input if you think that revising it will ultimately lead to a better response from the language model.\n",
      "\n",
      "<< FORMATTING >>\n",
      "Return a markdown code snippet with a JSON object formatted to look like:\n",
      "```json\n",
      "{{\n",
      "    \"destination\": string \\ name of the prompt to use or \"DEFAULT\"\n",
      "    \"next_inputs\": string \\ a potentially modified version of the original input\n",
      "}}\n",
      "```\n",
      "\n",
      "REMEMBER: \"destination\" MUST be one of the candidate prompt names specified below OR it can be \"DEFAULT\" if the input is not well suited for any of the candidate prompts.\n",
      "REMEMBER: \"next_inputs\" can just be the original input if you don't think any modifications are needed.\n",
      "\n",
      "<< CANDIDATE PROMPTS >>\n",
      "beginner_physics:Answer basic physics questions\n",
      "advanced physics:Answer advanced physics questions\n",
      "\n",
      "<< INPUT >>\n",
      "{input}\n",
      "\n",
      "<< OUTPUT (must include ```json at the start of the response) >>\n",
      "<< OUTPUT (must end with ```) >>\n",
      "\n"
     ]
    }
   ],
   "source": [
    "print(router_template)"
   ]
  },
  {
   "cell_type": "code",
   "execution_count": 20,
   "id": "8f906225",
   "metadata": {},
   "outputs": [],
   "source": [
    "router_prompt=PromptTemplate(template=router_template,input_variables=['input'],output_parser=RouterOutputParser())"
   ]
  },
  {
   "cell_type": "code",
   "execution_count": 21,
   "id": "2ef5e39c",
   "metadata": {},
   "outputs": [],
   "source": [
    "from langchain.chains.router import MultiPromptChain"
   ]
  },
  {
   "cell_type": "code",
   "execution_count": 22,
   "id": "364bb496",
   "metadata": {},
   "outputs": [],
   "source": [
    "router_chain=LLMRouterChain.from_llm(llm,router_prompt)"
   ]
  },
  {
   "cell_type": "code",
   "execution_count": 25,
   "id": "6fb42546",
   "metadata": {},
   "outputs": [],
   "source": [
    "chain= MultiPromptChain(router_chain=router_chain,\n",
    "                       destination_chains=destination_chains,\n",
    "                       default_chain=default_chain,verbose=True)"
   ]
  },
  {
   "cell_type": "code",
   "execution_count": 26,
   "id": "7ba5720a",
   "metadata": {},
   "outputs": [
    {
     "name": "stdout",
     "output_type": "stream",
     "text": [
      "\n",
      "\n",
      "\u001b[1m> Entering new MultiPromptChain chain...\u001b[0m\n",
      "beginner_physics: {'input': 'How do magnets work'}\n",
      "\u001b[1m> Finished chain.\u001b[0m\n"
     ]
    },
    {
     "data": {
      "text/plain": [
       "\"Magnets work because of the way certain materials, like iron or steel, are structured at the atomic level. Inside these materials, there are tiny regions called magnetic domains, where the atoms are all aligned in the same direction.\\n\\nWhen you bring two magnets close together, these magnetic domains interact with each other. If the domains are aligned in the same direction, the magnets will attract each other. But if the domains are aligned in opposite directions, the magnets will repel each other.\\n\\nThis attraction or repulsion is what we feel when we bring two magnets close together. It's like there is an invisible force between them that either pulls them together or pushes them apart.\\n\\nSo, in simple terms, magnets work because of the way the atoms are arranged inside certain materials, creating a magnetic field that can attract or repel other magnets.\""
      ]
     },
     "execution_count": 26,
     "metadata": {},
     "output_type": "execute_result"
    }
   ],
   "source": [
    "chain.run(\"How do magnets work\")"
   ]
  },
  {
   "cell_type": "code",
   "execution_count": 28,
   "id": "5ea0661c",
   "metadata": {},
   "outputs": [
    {
     "name": "stdout",
     "output_type": "stream",
     "text": [
      "\n",
      "\n",
      "\u001b[1m> Entering new MultiPromptChain chain...\u001b[0m\n",
      "advanced physics: {'input': 'Please explain in depth Feynman Diagrams'}\n",
      "\u001b[1m> Finished chain.\u001b[0m\n"
     ]
    },
    {
     "data": {
      "text/plain": [
       "'Feynman diagrams are graphical representations of mathematical expressions that describe the behavior of subatomic particles in quantum field theory. They were introduced by physicist Richard Feynman in the 1940s as a way to visualize and calculate the interactions between particles in quantum electrodynamics (QED).\\n\\nIn a Feynman diagram, particles are represented by lines with various shapes and arrows, and interactions between particles are represented by vertices where these lines meet. The lines can be straight or wavy, depending on the type of particle being represented (e.g. fermions or bosons). The arrows indicate the direction of particle flow, with particles moving forward in time represented by arrows pointing to the right, and antiparticles moving backward in time represented by arrows pointing to the left.\\n\\nThe vertices in a Feynman diagram represent interactions between particles, such as the emission or absorption of a photon or the creation and annihilation of particle-antiparticle pairs. Each vertex is associated with a mathematical expression that describes the probability amplitude for the interaction to occur.\\n\\nBy connecting these vertices with lines representing particles, Feynman diagrams can be used to calculate the probability amplitudes for different particle interactions. This allows physicists to predict the outcomes of particle collisions and interactions in quantum field theory.\\n\\nFeynman diagrams are a powerful tool for simplifying and visualizing complex calculations in quantum field theory. They provide a intuitive way to understand and analyze the behavior of subatomic particles and their interactions, and have become an essential tool in theoretical physics.'"
      ]
     },
     "execution_count": 28,
     "metadata": {},
     "output_type": "execute_result"
    }
   ],
   "source": [
    "chain.run(\"Please Explain in depth Feynman Diagrams\")"
   ]
  },
  {
   "cell_type": "markdown",
   "id": "66cc3ae1",
   "metadata": {},
   "source": [
    "# Transform Chain"
   ]
  },
  {
   "cell_type": "code",
   "execution_count": 29,
   "id": "70e8a156",
   "metadata": {},
   "outputs": [],
   "source": [
    "with open(r\"D:\\Study Material\\Langchain\\LangChainNotebooks-UNZIP-ME\\LangChainNotebooks-UNZIP-ME\\02-Chains\\yelp_review.txt\",\"r\") as f:\n",
    "    yelp_review=f.read()"
   ]
  },
  {
   "cell_type": "code",
   "execution_count": 32,
   "id": "220bdc36",
   "metadata": {},
   "outputs": [
    {
     "name": "stdout",
     "output_type": "stream",
     "text": [
      "\n",
      "oh my goodness, where do i begin? this restaurant is absolutely phenomenal! i went there last night with my friends, and we were blown away by the experience!\n",
      "\n",
      "first of all, the ambiance is out of this world! the moment you step inside, you're greeted with a warm and inviting atmosphere. the decor is stunning, and it immediately sets the tone for an unforgettable dining experience.\n",
      "\n",
      "now, let's talk about the food! wow, just wow! the menu is a paradise for food lovers. every dish we ordered was a masterpiece. the flavors were bold, vibrant, and exploded in our mouths. from starters to desserts, every bite was pure bliss!\n",
      "\n",
      "their seafood platter is a must-try! the freshness of the seafood is unmatched, and the presentation is simply stunning. i have never tasted such delicious and perfectly cooked seafood in my life. it's a seafood lover's dream come true!\n",
      "\n",
      "the service was exemplary. the staff was attentive, friendly, and extremely knowledgeable about the menu. they went above and beyond to ensure that we had the best dining experience possible.\n",
      "\n",
      "and let's not forget about the desserts! oh my, oh my! i had their signature chocolate lava cake, and it was pure heaven. the cake was moist, and when i cut into it, the warm chocolate ooozed out, creating an explosion of flavor in my mouth. it was like a symphony of chocolatey goodness!\n",
      "\n",
      "in conclusion, this restaurant is a hidden gem! if you want to indulge in a memorable dining experience, do yourself a favor and visit this place. you won't regret it! i can't wait to go back and try more of their delectable dishes. kudos to the entire team for creating such a culinary haven!\n",
      "\n",
      "all i can say is... woohoo!\n"
     ]
    }
   ],
   "source": [
    "print(file.split('REVIEW:')[-1].lower())"
   ]
  },
  {
   "cell_type": "code",
   "execution_count": 33,
   "id": "bf93e01f",
   "metadata": {},
   "outputs": [],
   "source": [
    "from langchain.chains import TransformChain,LLMChain,SimpleSequentialChain"
   ]
  },
  {
   "cell_type": "code",
   "execution_count": 35,
   "id": "c8ba7112",
   "metadata": {},
   "outputs": [],
   "source": [
    "from langchain_openai import ChatOpenAI\n",
    "from langchain.prompts import ChatPromptTemplate"
   ]
  },
  {
   "cell_type": "code",
   "execution_count": 39,
   "id": "8d4c8708",
   "metadata": {},
   "outputs": [],
   "source": [
    "#yelp_review"
   ]
  },
  {
   "cell_type": "code",
   "execution_count": 56,
   "id": "f2bba9ff",
   "metadata": {},
   "outputs": [],
   "source": [
    "def tranform_fin(inputs: dict) -> dict:\n",
    "    text=inputs['new']\n",
    "    only_review_text=text.split('REVIEW:')[-1]\n",
    "    lower_case_text=only_review_text.lower()\n",
    "    return {'output': lower_case_text}"
   ]
  },
  {
   "cell_type": "code",
   "execution_count": 57,
   "id": "6db41d0c",
   "metadata": {},
   "outputs": [],
   "source": [
    "transform_chain = TransformChain(input_variables=['new'],\n",
    "                                output_variables=['output'],\n",
    "                                transform=tranform_fin)"
   ]
  },
  {
   "cell_type": "code",
   "execution_count": 58,
   "id": "036e62ab",
   "metadata": {},
   "outputs": [],
   "source": [
    "template = 'Create on e sentence summary of review:\\n {review}'"
   ]
  },
  {
   "cell_type": "code",
   "execution_count": 59,
   "id": "4a12e26f",
   "metadata": {},
   "outputs": [],
   "source": [
    "llm=ChatOpenAI()"
   ]
  },
  {
   "cell_type": "code",
   "execution_count": 60,
   "id": "e1d23062",
   "metadata": {},
   "outputs": [],
   "source": [
    "prompt=ChatPromptTemplate.from_template(template)"
   ]
  },
  {
   "cell_type": "code",
   "execution_count": 61,
   "id": "03313499",
   "metadata": {},
   "outputs": [],
   "source": [
    "summary_chain=LLMChain(llm=llm,prompt=prompt,output_key='review_summary')"
   ]
  },
  {
   "cell_type": "code",
   "execution_count": 62,
   "id": "c240e324",
   "metadata": {},
   "outputs": [],
   "source": [
    "sequential_chain=SimpleSequentialChain(chains=[transform_chain,summary_chain],verbose=True)"
   ]
  },
  {
   "cell_type": "code",
   "execution_count": 63,
   "id": "af5226f7",
   "metadata": {},
   "outputs": [
    {
     "name": "stdout",
     "output_type": "stream",
     "text": [
      "\n",
      "\n",
      "\u001b[1m> Entering new SimpleSequentialChain chain...\u001b[0m\n",
      "\u001b[36;1m\u001b[1;3m\n",
      "oh my goodness, where do i begin? this restaurant is absolutely phenomenal! i went there last night with my friends, and we were blown away by the experience!\n",
      "\n",
      "first of all, the ambiance is out of this world! the moment you step inside, you're greeted with a warm and inviting atmosphere. the decor is stunning, and it immediately sets the tone for an unforgettable dining experience.\n",
      "\n",
      "now, let's talk about the food! wow, just wow! the menu is a paradise for food lovers. every dish we ordered was a masterpiece. the flavors were bold, vibrant, and exploded in our mouths. from starters to desserts, every bite was pure bliss!\n",
      "\n",
      "their seafood platter is a must-try! the freshness of the seafood is unmatched, and the presentation is simply stunning. i have never tasted such delicious and perfectly cooked seafood in my life. it's a seafood lover's dream come true!\n",
      "\n",
      "the service was exemplary. the staff was attentive, friendly, and extremely knowledgeable about the menu. they went above and beyond to ensure that we had the best dining experience possible.\n",
      "\n",
      "and let's not forget about the desserts! oh my, oh my! i had their signature chocolate lava cake, and it was pure heaven. the cake was moist, and when i cut into it, the warm chocolate ooozed out, creating an explosion of flavor in my mouth. it was like a symphony of chocolatey goodness!\n",
      "\n",
      "in conclusion, this restaurant is a hidden gem! if you want to indulge in a memorable dining experience, do yourself a favor and visit this place. you won't regret it! i can't wait to go back and try more of their delectable dishes. kudos to the entire team for creating such a culinary haven!\n",
      "\n",
      "all i can say is... woohoo!\u001b[0m\n",
      "\u001b[33;1m\u001b[1;3mThis restaurant is an absolute gem with phenomenal ambiance, delicious food, exceptional service, and heavenly desserts - a must-visit for a memorable dining experience!\u001b[0m\n",
      "\n",
      "\u001b[1m> Finished chain.\u001b[0m\n"
     ]
    },
    {
     "data": {
      "text/plain": [
       "'This restaurant is an absolute gem with phenomenal ambiance, delicious food, exceptional service, and heavenly desserts - a must-visit for a memorable dining experience!'"
      ]
     },
     "execution_count": 63,
     "metadata": {},
     "output_type": "execute_result"
    }
   ],
   "source": [
    "sequential_chain.run(yelp_review)"
   ]
  },
  {
   "cell_type": "markdown",
   "id": "0d00b468",
   "metadata": {},
   "source": [
    "# OpenAI function for chain"
   ]
  },
  {
   "cell_type": "code",
   "execution_count": 64,
   "id": "c58ea080",
   "metadata": {},
   "outputs": [],
   "source": [
    "from langchain_openai import ChatOpenAI"
   ]
  },
  {
   "cell_type": "code",
   "execution_count": 103,
   "id": "71dbaa8a",
   "metadata": {},
   "outputs": [],
   "source": [
    "llm=ChatOpenAI(model='gpt-3.5-turbo-0613',temperature=0.9)"
   ]
  },
  {
   "cell_type": "code",
   "execution_count": 104,
   "id": "847a8edd",
   "metadata": {},
   "outputs": [],
   "source": [
    "class Scientist():\n",
    "    def __init__(self,first_name,last_name):\n",
    "        self.first_name=first_name\n",
    "        self.last_name=last_name"
   ]
  },
  {
   "cell_type": "code",
   "execution_count": 105,
   "id": "f33908c7",
   "metadata": {},
   "outputs": [],
   "source": [
    "json_schema = {\"title\": \"Scientist\",\n",
    "               \"description\": \"Information about a famous scientist\",\n",
    "               \"type\": \"object\",\n",
    "               \"properties\":{\n",
    "                   \"first_name\":{'title':'First Name',\n",
    "                                 'description': \"First name of scientist\",\n",
    "                                 \"type\": \"string\"},\n",
    "                   \"last_name\":{'title':'Last Name',\n",
    "                                 'description': \"Last name of scientist\",\n",
    "                                 \"type\": \"string\"},\n",
    "               },\n",
    "                \"required\": ['first_name','last_name']\n",
    "              }"
   ]
  },
  {
   "cell_type": "code",
   "execution_count": 106,
   "id": "5f976ee0",
   "metadata": {},
   "outputs": [],
   "source": [
    "template='Name 10 famous {country} scientist'"
   ]
  },
  {
   "cell_type": "code",
   "execution_count": 107,
   "id": "26f1cf13",
   "metadata": {},
   "outputs": [],
   "source": [
    "from langchain.chains.openai_functions import create_structured_output_chain"
   ]
  },
  {
   "cell_type": "code",
   "execution_count": 108,
   "id": "4cbddfc8",
   "metadata": {},
   "outputs": [],
   "source": [
    "chat_prompt=ChatPromptTemplate.from_template(template)"
   ]
  },
  {
   "cell_type": "code",
   "execution_count": 109,
   "id": "492ab023",
   "metadata": {},
   "outputs": [],
   "source": [
    "chain=create_structured_output_chain(json_schema,llm,chat_prompt,verbose=True)"
   ]
  },
  {
   "cell_type": "code",
   "execution_count": 112,
   "id": "f9924223",
   "metadata": {},
   "outputs": [
    {
     "name": "stdout",
     "output_type": "stream",
     "text": [
      "\n",
      "\n",
      "\u001b[1m> Entering new LLMChain chain...\u001b[0m\n",
      "Prompt after formatting:\n",
      "\u001b[32;1m\u001b[1;3mHuman: Name 10 famous Indian scientist\u001b[0m\n",
      "\n",
      "\u001b[1m> Finished chain.\u001b[0m\n"
     ]
    },
    {
     "data": {
      "text/plain": [
       "{'first_name': 'APJ', 'last_name': 'Abdul Kalam'}"
      ]
     },
     "execution_count": 112,
     "metadata": {},
     "output_type": "execute_result"
    }
   ],
   "source": [
    "chain.run(country='Indian')"
   ]
  },
  {
   "cell_type": "markdown",
   "id": "cfb059f8",
   "metadata": {},
   "source": [
    "# Math Chain"
   ]
  },
  {
   "cell_type": "code",
   "execution_count": 114,
   "id": "9f83e551",
   "metadata": {},
   "outputs": [],
   "source": [
    "from langchain.schema import HumanMessage"
   ]
  },
  {
   "cell_type": "code",
   "execution_count": 115,
   "id": "ee44a063",
   "metadata": {},
   "outputs": [],
   "source": [
    "model=ChatOpenAI()"
   ]
  },
  {
   "cell_type": "code",
   "execution_count": 119,
   "id": "a87990b2",
   "metadata": {},
   "outputs": [],
   "source": [
    "result=model.invoke([HumanMessage(content='What is 17 raised to power of 11')])"
   ]
  },
  {
   "cell_type": "code",
   "execution_count": 120,
   "id": "1b654e0b",
   "metadata": {},
   "outputs": [
    {
     "data": {
      "text/plain": [
       "'17^11 = 61,917,364,224'"
      ]
     },
     "execution_count": 120,
     "metadata": {},
     "output_type": "execute_result"
    }
   ],
   "source": [
    "result.content"
   ]
  },
  {
   "cell_type": "code",
   "execution_count": 118,
   "id": "8db12e67",
   "metadata": {},
   "outputs": [
    {
     "data": {
      "text/plain": [
       "34271896307633"
      ]
     },
     "execution_count": 118,
     "metadata": {},
     "output_type": "execute_result"
    }
   ],
   "source": [
    "17**11"
   ]
  },
  {
   "cell_type": "code",
   "execution_count": 121,
   "id": "687a5699",
   "metadata": {},
   "outputs": [
    {
     "data": {
      "text/plain": [
       "34271896307633"
      ]
     },
     "execution_count": 121,
     "metadata": {},
     "output_type": "execute_result"
    }
   ],
   "source": [
    "eval('17**11')"
   ]
  },
  {
   "cell_type": "code",
   "execution_count": 122,
   "id": "d6ce49ed",
   "metadata": {},
   "outputs": [],
   "source": [
    "from langchain import LLMMathChain"
   ]
  },
  {
   "cell_type": "code",
   "execution_count": 124,
   "id": "64d00cd2",
   "metadata": {},
   "outputs": [
    {
     "name": "stderr",
     "output_type": "stream",
     "text": [
      "ERROR: Could not find a version that satisfies the requirement numexp (from versions: none)\n",
      "ERROR: No matching distribution found for numexp\n"
     ]
    }
   ],
   "source": [
    "!pip install numexp"
   ]
  },
  {
   "cell_type": "code",
   "execution_count": null,
   "id": "51364455",
   "metadata": {},
   "outputs": [],
   "source": [
    "#!pip install mkl\n",
    "#!pip install numexpr"
   ]
  },
  {
   "cell_type": "code",
   "execution_count": 130,
   "id": "7441fb71",
   "metadata": {},
   "outputs": [],
   "source": [
    "chain=LLMMathChain.from_llm(model)"
   ]
  },
  {
   "cell_type": "code",
   "execution_count": 132,
   "id": "a4f1099a",
   "metadata": {},
   "outputs": [
    {
     "data": {
      "text/plain": [
       "{'question': 'What is 17 raised to power of 11',\n",
       " 'answer': 'Answer: 34271896307633'}"
      ]
     },
     "execution_count": 132,
     "metadata": {},
     "output_type": "execute_result"
    }
   ],
   "source": [
    "chain.invoke('What is 17 raised to power of 11')"
   ]
  },
  {
   "cell_type": "code",
   "execution_count": 11,
   "id": "9d8c2cda",
   "metadata": {},
   "outputs": [
    {
     "name": "stderr",
     "output_type": "stream",
     "text": [
      "C:\\Users\\ankit\\anaconda3\\lib\\site-packages\\langchain_core\\_api\\deprecation.py:119: LangChainDeprecationWarning: The method `Chain.run` was deprecated in langchain 0.1.0 and will be removed in 0.2.0. Use invoke instead.\n",
      "  warn_deprecated(\n"
     ]
    },
    {
     "data": {
      "text/plain": [
       "'The article discusses the concept of LLM-powered autonomous agents, which use large language models as their core controllers. It covers the components of these agents, including planning, memory, and tool use, as well as case studies and proof-of-concept examples. The challenges and limitations of using natural language interfaces for these agents are also discussed. The article provides citations and references for further reading.'"
      ]
     },
     "execution_count": 11,
     "metadata": {},
     "output_type": "execute_result"
    }
   ],
   "source": [
    "from langchain.chains.summarize import load_summarize_chain\n",
    "from langchain_community.document_loaders import WebBaseLoader\n",
    "from langchain_openai import ChatOpenAI\n",
    "\n",
    "loader = WebBaseLoader(\"https://lilianweng.github.io/posts/2023-06-23-agent/\")\n",
    "docs = loader.load()\n",
    "\n",
    "llm = ChatOpenAI(temperature=0, model_name=\"gpt-3.5-turbo-1106\")\n",
    "chain = load_summarize_chain(llm, chain_type=\"stuff\")\n",
    "\n",
    "chain.run(docs)"
   ]
  },
  {
   "cell_type": "code",
   "execution_count": 12,
   "id": "446e4cf0",
   "metadata": {},
   "outputs": [
    {
     "data": {
      "text/plain": [
       "'The article discusses the concept of LLM-powered autonomous agents, which use large language models as their core controllers. It covers the components of these agents, including planning, memory, and tool use, as well as case studies and proof-of-concept examples. The challenges and limitations of using natural language interfaces for these agents are also addressed. The article provides citations and references for further reading.'"
      ]
     },
     "execution_count": 12,
     "metadata": {},
     "output_type": "execute_result"
    }
   ],
   "source": [
    "from langchain.chains.summarize import load_summarize_chain\n",
    "from langchain_community.document_loaders import WebBaseLoader\n",
    "from langchain_openai import ChatOpenAI\n",
    "\n",
    "loader = WebBaseLoader(\"https://lilianweng.github.io/posts/2023-06-23-agent/\")\n",
    "docs = loader.load()\n",
    "\n",
    "llm = ChatOpenAI(temperature=0, model_name=\"gpt-3.5-turbo-1106\")\n",
    "chain = load_summarize_chain(llm, chain_type=\"stuff\")\n",
    "\n",
    "chain.run(docs)"
   ]
  },
  {
   "cell_type": "code",
   "execution_count": 16,
   "id": "77d817ee",
   "metadata": {},
   "outputs": [],
   "source": [
    "from langchain.chains.summarize import load_summarize_chain\n",
    "from langchain_community.document_loaders import WebBaseLoader\n",
    "from langchain_openai import ChatOpenAI\n",
    "\n",
    "loader = WebBaseLoader(\"https://lilianweng.github.io/posts/2023-06-23-agent/\")\n",
    "docs = loader.load()\n",
    "\n",
    "llm = ChatOpenAI(temperature=0, model_name=\"gpt-3.5-turbo-1106\")\n",
    "chain = load_summarize_chain(llm, chain_type=\"map_reduce\")\n",
    "\n",
    "x=chain.invoke(docs)"
   ]
  },
  {
   "cell_type": "code",
   "execution_count": 20,
   "id": "d4082a08",
   "metadata": {
    "scrolled": true
   },
   "outputs": [
    {
     "data": {
      "text/plain": [
       "'The article explores the use of LLM-powered autonomous agents, which utilize large language models as their main controllers. It discusses the components of these agents, such as planning, memory, and tool use, and provides case studies and proof-of-concept examples. The challenges and limitations of using natural language interfaces for these agents are also addressed, and the article includes citations and references for further reading.'"
      ]
     },
     "execution_count": 20,
     "metadata": {},
     "output_type": "execute_result"
    }
   ],
   "source": [
    "x['output_text']"
   ]
  },
  {
   "cell_type": "code",
   "execution_count": 26,
   "id": "41d173c0",
   "metadata": {},
   "outputs": [],
   "source": [
    "from langchain.chains.question_answering import load_qa_chain\n",
    "from langchain_chroma import Chroma\n",
    "from langchain_openai import OpenAIEmbeddings"
   ]
  },
  {
   "cell_type": "code",
   "execution_count": 22,
   "id": "2da00c55",
   "metadata": {},
   "outputs": [],
   "source": [
    "from langchain.chains.qa_with_sources import load_qa_with_sources_chain"
   ]
  },
  {
   "cell_type": "code",
   "execution_count": 24,
   "id": "c4d09d60",
   "metadata": {},
   "outputs": [],
   "source": [
    "chain=load_qa_chain(llm,chain_type='stuff')"
   ]
  },
  {
   "cell_type": "code",
   "execution_count": 27,
   "id": "50afd08c",
   "metadata": {},
   "outputs": [],
   "source": [
    "embeding_func=OpenAIEmbeddings()"
   ]
  },
  {
   "cell_type": "code",
   "execution_count": 28,
   "id": "578bec84",
   "metadata": {},
   "outputs": [],
   "source": [
    "db_connection=Chroma(persist_directory='.\\Chroma_store',embedding_function=embeding_func)"
   ]
  },
  {
   "cell_type": "code",
   "execution_count": 32,
   "id": "64dea90b",
   "metadata": {},
   "outputs": [],
   "source": [
    "question=\"What is the 15th amendment?\"\n"
   ]
  },
  {
   "cell_type": "code",
   "execution_count": 33,
   "id": "f6ee7e93",
   "metadata": {},
   "outputs": [],
   "source": [
    "docs=db_connection.similarity_search(question)"
   ]
  },
  {
   "cell_type": "code",
   "execution_count": 43,
   "id": "4d159524",
   "metadata": {},
   "outputs": [
    {
     "data": {
      "text/plain": [
       "[Document(page_content=\"As to the machinery for this measure, the Congress itself should determine its natureâ€”but it should be wholly nonpartisan in its make-up.\\n\\nOur armed forces are valiantly fulfilling their responsibilities to our country and our people. Now the Congress faces the responsibility for taking those measures which are essential to national security in this the most decisive phase of the Nation's greatest war.\\n\\nSeveral alleged reasons have prevented the enactment of legislation which would preserve for our soldiers and sailors and marines the fundamental prerogative of citizenshipâ€”the right to vote. No amount of legalistic argument can becloud this issue in the eyes of these ten million American citizens. Surely the signers of the Constitution did not intend a document which, even in wartime, would be construed to take away the franchise of any of those who are fighting to preserve the Constitution itself.\\n\\nOur soldiers and sailors and marines know that the overwhelming majority of them will be deprived of the opportunity to vote, if the voting machinery is left exclusively to the States under existing State lawsâ€”and that there is no likelihood of these laws being changed in time to enable them to vote at the next election. The Army and Navy have reported that it will be impossible effectively to administer forty-eight different soldier voting laws. It is the duty of the Congress to remove this unjustifiable discrimination against the men and women in our armed forces- and to do it as quickly as possible.\\n\\nIt is our duty now to begin to lay the plans and determine the strategy for the winning of a lasting peace and the establishment of an American standard of living higher than ever before known. We cannot be content, no matter how high that general standard of living may be, if some fraction of our peopleâ€”whether it be one-third or one-fifth or one-tenth- is ill-fed, ill-clothed, ill housed, and insecure.\\n\\nThis Republic had its beginning, and grew to its present strength, under the protection of certain inalienable political rightsâ€”among them the right of free speech, free press, free worship, trial by jury, freedom from unreasonable searches and seizures. They were our rights to life and liberty.\\n\\nAs our Nation has grown in size and stature, howeverâ€”as our industrial economy expandedâ€”these political rights proved inadequate to assure us equality in the pursuit of happiness.\", metadata={'source': 'D:\\\\Study Material\\\\Langchain\\\\LangChainNotebooks-UNZIP-ME\\\\LangChainNotebooks-UNZIP-ME\\\\01-Data-Connections\\\\some_data\\\\FDR_State_of_Union_1944.txt'}),\n",
       " Document(page_content='Several alleged reasons have prevented the enactment of legislation which would preserve for our soldiers and sailors and marines the fundamental prerogative of citizenshipâ€”the right to vote. No amount of legalistic argument can becloud this issue in the eyes of these ten million American citizens. Surely the signers of the Constitution did not intend a document which, even in wartime, would be construed to take away the franchise of any of those who are fighting to preserve the Constitution itself.', metadata={'source': 'D:\\\\Study Material\\\\Langchain\\\\LangChainNotebooks-UNZIP-ME\\\\LangChainNotebooks-UNZIP-ME\\\\01-Data-Connections\\\\some_data\\\\FDR_State_of_Union_1944.txt'}),\n",
       " Document(page_content=\"Our armed forces are valiantly fulfilling their responsibilities to our country and our people. Now the Congress faces the responsibility for taking those measures which are essential to national security in this the most decisive phase of the Nation's greatest war.\\n\\nSeveral alleged reasons have prevented the enactment of legislation which would preserve for our soldiers and sailors and marines the fundamental prerogative of citizenshipâ€”the right to vote. No amount of legalistic argument can becloud this issue in the eyes of these ten million American citizens. Surely the signers of the Constitution did not intend a document which, even in wartime, would be construed to take away the franchise of any of those who are fighting to preserve the Constitution itself.\\n\\nOur soldiers and sailors and marines know that the overwhelming majority of them will be deprived of the opportunity to vote, if the voting machinery is left exclusively to the States under existing State lawsâ€”and that there is no likelihood of these laws being changed in time to enable them to vote at the next election. The Army and Navy have reported that it will be impossible effectively to administer forty-eight different soldier voting laws. It is the duty of the Congress to remove this unjustifiable discrimination against the men and women in our armed forces- and to do it as quickly as possible.\", metadata={'source': 'D:\\\\Study Material\\\\Langchain\\\\LangChainNotebooks-UNZIP-ME\\\\LangChainNotebooks-UNZIP-ME\\\\01-Data-Connections\\\\some_data\\\\FDR_State_of_Union_1944.txt'}),\n",
       " Document(page_content=\"Our armed forces are valiantly fulfilling their responsibilities to our country and our people. Now the Congress faces the responsibility for taking those measures which are essential to national security in this the most decisive phase of the Nation's greatest war.\\n\\nSeveral alleged reasons have prevented the enactment of legislation which would preserve for our soldiers and sailors and marines the fundamental prerogative of citizenshipâ€”the right to vote. No amount of legalistic argument can becloud this issue in the eyes of these ten million American citizens. Surely the signers of the Constitution did not intend a document which, even in wartime, would be construed to take away the franchise of any of those who are fighting to preserve the Constitution itself.\\n\\nOur soldiers and sailors and marines know that the overwhelming majority of them will be deprived of the opportunity to vote, if the voting machinery is left exclusively to the States under existing State lawsâ€”and that there is no likelihood of these laws being changed in time to enable them to vote at the next election. The Army and Navy have reported that it will be impossible effectively to administer forty-eight different soldier voting laws. It is the duty of the Congress to remove this unjustifiable discrimination against the men and women in our armed forces- and to do it as quickly as possible.\", metadata={'source': 'D:\\\\Study Material\\\\Langchain\\\\LangChainNotebooks-UNZIP-ME\\\\LangChainNotebooks-UNZIP-ME\\\\01-Data-Connections\\\\some_data\\\\FDR_State_of_Union_1944.txt'})]"
      ]
     },
     "execution_count": 43,
     "metadata": {},
     "output_type": "execute_result"
    }
   ],
   "source": [
    "docs"
   ]
  },
  {
   "cell_type": "code",
   "execution_count": 39,
   "id": "f1886e38",
   "metadata": {},
   "outputs": [
    {
     "data": {
      "text/plain": [
       "'The 15th Amendment to the United States Constitution prohibits the federal and state governments from denying a citizen the right to vote based on that citizen\\'s \"race, color, or previous condition of servitude.\"'"
      ]
     },
     "execution_count": 39,
     "metadata": {},
     "output_type": "execute_result"
    }
   ],
   "source": [
    "chain.run(input_documents=docs,question=question)"
   ]
  },
  {
   "cell_type": "code",
   "execution_count": 44,
   "id": "c56ab269",
   "metadata": {},
   "outputs": [],
   "source": [
    "chain2=load_qa_with_sources_chain(llm,chain_type='stuff')"
   ]
  },
  {
   "cell_type": "code",
   "execution_count": 46,
   "id": "7a561e81",
   "metadata": {},
   "outputs": [
    {
     "name": "stdout",
     "output_type": "stream",
     "text": [
      "The 15th amendment is the right to vote for all citizens, regardless of race, color, or previous condition of servitude.\n",
      "SOURCES: D:\\Study Material\\Langchain\\LangChainNotebooks-UNZIP-ME\\LangChainNotebooks-UNZIP-ME\\01-Data-Connections\\some_data\\FDR_State_of_Union_1944.txt\n"
     ]
    }
   ],
   "source": [
    "print(chain2.run(input_documents=docs,question=question))"
   ]
  },
  {
   "cell_type": "code",
   "execution_count": null,
   "id": "57f31c75",
   "metadata": {
    "collapsed": true
   },
   "outputs": [],
   "source": []
  }
 ],
 "metadata": {
  "kernelspec": {
   "display_name": "Python 3 (ipykernel)",
   "language": "python",
   "name": "python3"
  },
  "language_info": {
   "codemirror_mode": {
    "name": "ipython",
    "version": 3
   },
   "file_extension": ".py",
   "mimetype": "text/x-python",
   "name": "python",
   "nbconvert_exporter": "python",
   "pygments_lexer": "ipython3",
   "version": "3.10.14"
  }
 },
 "nbformat": 4,
 "nbformat_minor": 5
}
