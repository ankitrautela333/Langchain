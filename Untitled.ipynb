{
 "cells": [
  {
   "cell_type": "code",
   "execution_count": 6,
   "id": "5ab56c39",
   "metadata": {},
   "outputs": [
    {
     "name": "stdout",
     "output_type": "stream",
     "text": [
      "Reinitialized existing Git repository in C:/Users/ankit/Langchain/.git/\n"
     ]
    },
    {
     "name": "stderr",
     "output_type": "stream",
     "text": [
      "error: remote origin already exists.\n"
     ]
    }
   ],
   "source": [
    "!git init\n",
    "!git remote add origin https://github.com/ankitrautela333/Langchain.git"
   ]
  },
  {
   "cell_type": "code",
   "execution_count": 11,
   "id": "5f16dd71",
   "metadata": {},
   "outputs": [],
   "source": [
    "!git branch -M main"
   ]
  },
  {
   "cell_type": "code",
   "execution_count": 13,
   "id": "9ba53a64",
   "metadata": {},
   "outputs": [],
   "source": [
    "!git config --global user.name \"ankitrautela333\"\n",
    "!git config --global user.email \"ankitrautela333@gmail.com\""
   ]
  },
  {
   "cell_type": "code",
   "execution_count": 18,
   "id": "997464b0",
   "metadata": {},
   "outputs": [
    {
     "name": "stdout",
     "output_type": "stream",
     "text": [
      "[main (root-commit) 2ada674] First Commit\n",
      " 2 files changed, 94 insertions(+)\n",
      " create mode 100644 .ipynb_checkpoints/Untitled-checkpoint.ipynb\n",
      " create mode 100644 Untitled.ipynb\n"
     ]
    }
   ],
   "source": [
    "!git commit -m \"First Commit\""
   ]
  },
  {
   "cell_type": "code",
   "execution_count": 19,
   "id": "8823ed14",
   "metadata": {},
   "outputs": [
    {
     "name": "stderr",
     "output_type": "stream",
     "text": [
      "To https://github.com/ankitrautela333/Langchain.git\n",
      " * [new branch]      main -> main\n"
     ]
    }
   ],
   "source": [
    "!git push origin main"
   ]
  },
  {
   "cell_type": "code",
   "execution_count": 20,
   "id": "6afa03c5",
   "metadata": {},
   "outputs": [],
   "source": [
    "import openai\n",
    "import os"
   ]
  },
  {
   "cell_type": "code",
   "execution_count": 35,
   "id": "fa03f50a",
   "metadata": {},
   "outputs": [],
   "source": [
    "openai.api_key=os.getenv(\"OPENAI_API_KEY\")"
   ]
  },
  {
   "cell_type": "code",
   "execution_count": 46,
   "id": "5d133cef",
   "metadata": {},
   "outputs": [],
   "source": [
    "response=openai.completions.create(model=\"gpt-3.5-turbo-instruct\",\n",
    "                                  prompt=\"Give me two reasons to learn OpenAI with Python\",max_tokens=1000)"
   ]
  },
  {
   "cell_type": "code",
   "execution_count": 61,
   "id": "63c93ace",
   "metadata": {},
   "outputs": [
    {
     "name": "stdout",
     "output_type": "stream",
     "text": [
      "\n",
      "\n",
      "1. Opens up opportunities in the field of AI and machine learning: OpenAI is one of the leading frameworks for developing artificial intelligence applications. Learning how to use OpenAI with Python will give you a strong foundation in AI and machine learning, which are rapidly growing fields with immense career opportunities. You can use this knowledge to pursue a career in industries such as healthcare, finance, robotics, and more.\n",
      "\n",
      "2. Makes it easier to use advanced natural language processing (NLP) techniques: OpenAI includes state-of-the-art NLP capabilities that allow developers to build powerful language models and process large amounts of text data. Working with OpenAI using Python allows for a more streamlined and efficient development process, making it easier to implement advanced NLP techniques in your projects. This can be particularly useful in industries such as customer service, marketing, and content creation where natural language understanding is crucial. \n"
     ]
    },
    {
     "name": "stderr",
     "output_type": "stream",
     "text": [
      "C:\\Users\\ankit\\AppData\\Local\\Temp\\ipykernel_33608\\2825083308.py:1: PydanticDeprecatedSince20: The `dict` method is deprecated; use `model_dump` instead. Deprecated in Pydantic V2.0 to be removed in V3.0. See Pydantic V2 Migration Guide at https://errors.pydantic.dev/2.5/migration/\n",
      "  print(response.dict()['choices'][0]['text'])\n"
     ]
    }
   ],
   "source": [
    "print(response.dict()['choices'][0]['text'])"
   ]
  },
  {
   "cell_type": "code",
   "execution_count": 66,
   "id": "e1ddde62",
   "metadata": {},
   "outputs": [
    {
     "name": "stdout",
     "output_type": "stream",
     "text": [
      "On branch main\n",
      "nothing to commit, working tree clean\n"
     ]
    },
    {
     "name": "stderr",
     "output_type": "stream",
     "text": [
      "remote: error: GH013: Repository rule violations found for refs/heads/main.        \n",
      "remote: \n",
      "remote: - GITHUB PUSH PROTECTION        \n",
      "remote:   â€”â€”â€”â€”â€”â€”â€”â€”â€”â€”â€”â€”â€”â€”â€”â€”â€”â€”â€”â€”â€”â€”â€”â€”â€”â€”â€”â€”â€”â€”â€”â€”â€”â€”â€”â€”â€”â€”â€”â€”â€”        \n",
      "remote:     Resolve the following violations before pushing again        \n",
      "remote: \n",
      "remote:     - GITHUB PUSH PROTECTION        \n",
      "remote:       â€”â€”â€”â€”â€”â€”â€”â€”â€”â€”â€”â€”â€”â€”â€”â€”â€”â€”â€”â€”â€”â€”â€”â€”â€”â€”â€”â€”â€”â€”â€”â€”â€”â€”â€”â€”â€”â€”â€”â€”â€”â€”â€”â€”â€”â€”â€”â€”â€”â€”â€”â€”â€”â€”        \n",
      "remote:        Resolve the following secrets before pushing again.        \n",
      "remote:               \n",
      "remote:        (?) Learn how to resolve a blocked push        \n",
      "remote:        https://docs.github.com/code-security/secret-scanning/pushing-a-branch-blocked-by-push-protection        \n",
      "remote:               \n",
      "remote:               \n",
      "remote:       â€”â€” OpenAI API Key â€”â€”â€”â€”â€”â€”â€”â€”â€”â€”â€”â€”â€”â€”â€”â€”â€”â€”â€”â€”â€”â€”â€”â€”â€”â€”â€”â€”â€”â€”â€”â€”â€”â€”â€”â€”        \n",
      "remote:        locations:        \n",
      "remote:          - commit: cca9f3e5d61b256d46727e1e647b27d4c350a1eb        \n",
      "remote:            path: Untitled.ipynb:108        \n",
      "remote:               \n",
      "remote:        (?) To push, remove secret from commit(s) or follow this URL to allow the secret.        \n",
      "remote:        https://github.com/ankitrautela333/Langchain/security/secret-scanning/unblock-secret/2esJctEbfwppQeVHSMNltU0ClM1        \n",
      "remote: \n",
      "To https://github.com/ankitrautela333/Langchain.git\n",
      " ! [remote rejected] main -> main (push declined due to repository rule violations)\n",
      "error: failed to push some refs to 'https://github.com/ankitrautela333/Langchain.git'\n"
     ]
    }
   ],
   "source": [
    "!git add *\n",
    "!git commit -m \"Second Commit\"\n",
    "!git push origin main"
   ]
  },
  {
   "cell_type": "code",
   "execution_count": 65,
   "id": "60af4c23",
   "metadata": {},
   "outputs": [
    {
     "name": "stderr",
     "output_type": "stream",
     "text": [
      "remote: error: GH013: Repository rule violations found for refs/heads/main.        \n",
      "remote: \n",
      "remote: - GITHUB PUSH PROTECTION        \n",
      "remote:   â€”â€”â€”â€”â€”â€”â€”â€”â€”â€”â€”â€”â€”â€”â€”â€”â€”â€”â€”â€”â€”â€”â€”â€”â€”â€”â€”â€”â€”â€”â€”â€”â€”â€”â€”â€”â€”â€”â€”â€”â€”        \n",
      "remote:     Resolve the following violations before pushing again        \n",
      "remote: \n",
      "remote:     - GITHUB PUSH PROTECTION        \n",
      "remote:       â€”â€”â€”â€”â€”â€”â€”â€”â€”â€”â€”â€”â€”â€”â€”â€”â€”â€”â€”â€”â€”â€”â€”â€”â€”â€”â€”â€”â€”â€”â€”â€”â€”â€”â€”â€”â€”â€”â€”â€”â€”â€”â€”â€”â€”â€”â€”â€”â€”â€”â€”â€”â€”â€”        \n",
      "remote:        Resolve the following secrets before pushing again.        \n",
      "remote:               \n",
      "remote:        (?) Learn how to resolve a blocked push        \n",
      "remote:        https://docs.github.com/code-security/secret-scanning/pushing-a-branch-blocked-by-push-protection        \n",
      "remote:               \n",
      "remote:               \n",
      "remote:       â€”â€” OpenAI API Key â€”â€”â€”â€”â€”â€”â€”â€”â€”â€”â€”â€”â€”â€”â€”â€”â€”â€”â€”â€”â€”â€”â€”â€”â€”â€”â€”â€”â€”â€”â€”â€”â€”â€”â€”â€”        \n",
      "remote:        locations:        \n",
      "remote:          - commit: cca9f3e5d61b256d46727e1e647b27d4c350a1eb        \n",
      "remote:            path: Untitled.ipynb:108        \n",
      "remote:               \n",
      "remote:        (?) To push, remove secret from commit(s) or follow this URL to allow the secret.        \n",
      "remote:        https://github.com/ankitrautela333/Langchain/security/secret-scanning/unblock-secret/2esJctEbfwppQeVHSMNltU0ClM1        \n",
      "remote: \n",
      "To https://github.com/ankitrautela333/Langchain.git\n",
      " ! [remote rejected] main -> main (push declined due to repository rule violations)\n",
      "error: failed to push some refs to 'https://github.com/ankitrautela333/Langchain.git'\n"
     ]
    }
   ],
   "source": []
  },
  {
   "cell_type": "code",
   "execution_count": null,
   "id": "c2ee1685",
   "metadata": {},
   "outputs": [],
   "source": []
  }
 ],
 "metadata": {
  "kernelspec": {
   "display_name": "Python 3 (ipykernel)",
   "language": "python",
   "name": "python3"
  },
  "language_info": {
   "codemirror_mode": {
    "name": "ipython",
    "version": 3
   },
   "file_extension": ".py",
   "mimetype": "text/x-python",
   "name": "python",
   "nbconvert_exporter": "python",
   "pygments_lexer": "ipython3",
   "version": "3.10.14"
  }
 },
 "nbformat": 4,
 "nbformat_minor": 5
}
