{
 "cells": [
  {
   "cell_type": "code",
   "execution_count": 6,
   "id": "6ea8d225",
   "metadata": {},
   "outputs": [
    {
     "name": "stdout",
     "output_type": "stream",
     "text": [
      "Reinitialized existing Git repository in C:/Users/ankit/Langchain/.git/\n"
     ]
    },
    {
     "name": "stderr",
     "output_type": "stream",
     "text": [
      "error: remote origin already exists.\n"
     ]
    }
   ],
   "source": [
    "!git init\n",
    "!git remote add origin https://github.com/ankitrautela333/Langchain.git"
   ]
  },
  {
   "cell_type": "code",
   "execution_count": 11,
   "id": "121d93aa",
   "metadata": {},
   "outputs": [],
   "source": [
    "!git branch -M main"
   ]
  },
  {
   "cell_type": "code",
   "execution_count": 13,
   "id": "69cd3e2d",
   "metadata": {},
   "outputs": [],
   "source": [
    "!git config --global user.name \"ankitrautela333\"\n",
    "!git config --global user.email \"ankitrautela333@gmail.com\""
   ]
  },
  {
   "cell_type": "code",
   "execution_count": 18,
   "id": "1c16dffa",
   "metadata": {},
   "outputs": [
    {
     "name": "stdout",
     "output_type": "stream",
     "text": [
      "[main (root-commit) 2ada674] First Commit\n",
      " 2 files changed, 94 insertions(+)\n",
      " create mode 100644 .ipynb_checkpoints/Untitled-checkpoint.ipynb\n",
      " create mode 100644 Untitled.ipynb\n"
     ]
    }
   ],
   "source": [
    "!git commit -m \"First Commit\""
   ]
  },
  {
   "cell_type": "code",
   "execution_count": 19,
   "id": "540db2eb",
   "metadata": {},
   "outputs": [
    {
     "name": "stderr",
     "output_type": "stream",
     "text": [
      "To https://github.com/ankitrautela333/Langchain.git\n",
      " * [new branch]      main -> main\n"
     ]
    }
   ],
   "source": [
    "!git push origin main"
   ]
  },
  {
   "cell_type": "code",
   "execution_count": 20,
   "id": "c1cb1c72",
   "metadata": {},
   "outputs": [],
   "source": [
    "import openai\n",
    "import os"
   ]
  },
  {
   "cell_type": "code",
   "execution_count": 71,
   "id": "98ee8e17",
   "metadata": {},
   "outputs": [],
   "source": [
    "import os"
   ]
  },
  {
   "cell_type": "code",
   "execution_count": 46,
   "id": "9494c0bf",
   "metadata": {},
   "outputs": [],
   "source": [
    "response=openai.completions.create(model=\"gpt-3.5-turbo-instruct\",\n",
    "                                  prompt=\"Give me two reasons to learn OpenAI with Python\",max_tokens=1000)"
   ]
  },
  {
   "cell_type": "code",
   "execution_count": 61,
   "id": "4c268241",
   "metadata": {},
   "outputs": [
    {
     "name": "stdout",
     "output_type": "stream",
     "text": [
      "\n",
      "\n",
      "1. Opens up opportunities in the field of AI and machine learning: OpenAI is one of the leading frameworks for developing artificial intelligence applications. Learning how to use OpenAI with Python will give you a strong foundation in AI and machine learning, which are rapidly growing fields with immense career opportunities. You can use this knowledge to pursue a career in industries such as healthcare, finance, robotics, and more.\n",
      "\n",
      "2. Makes it easier to use advanced natural language processing (NLP) techniques: OpenAI includes state-of-the-art NLP capabilities that allow developers to build powerful language models and process large amounts of text data. Working with OpenAI using Python allows for a more streamlined and efficient development process, making it easier to implement advanced NLP techniques in your projects. This can be particularly useful in industries such as customer service, marketing, and content creation where natural language understanding is crucial. \n"
     ]
    },
    {
     "name": "stderr",
     "output_type": "stream",
     "text": [
      "C:\\Users\\ankit\\AppData\\Local\\Temp\\ipykernel_33608\\2825083308.py:1: PydanticDeprecatedSince20: The `dict` method is deprecated; use `model_dump` instead. Deprecated in Pydantic V2.0 to be removed in V3.0. See Pydantic V2 Migration Guide at https://errors.pydantic.dev/2.5/migration/\n",
      "  print(response.dict()['choices'][0]['text'])\n"
     ]
    }
   ],
   "source": [
    "print(response.dict()['choices'][0]['text'])"
   ]
  },
  {
   "cell_type": "code",
   "execution_count": 74,
   "id": "f28a807a",
   "metadata": {
    "scrolled": true
   },
   "outputs": [
    {
     "name": "stderr",
     "output_type": "stream",
     "text": [
      "warning: in the working copy of 'Untitled.ipynb', LF will be replaced by CRLF the next time Git touches it\n"
     ]
    },
    {
     "name": "stdout",
     "output_type": "stream",
     "text": [
      "[main a56bca0] Second Commit\n",
      " 1 file changed, 36 insertions(+), 76 deletions(-)\n"
     ]
    },
    {
     "name": "stderr",
     "output_type": "stream",
     "text": [
      "remote: error: GH013: Repository rule violations found for refs/heads/main.        \n",
      "remote: \n",
      "remote: - GITHUB PUSH PROTECTION        \n",
      "remote:   â€”â€”â€”â€”â€”â€”â€”â€”â€”â€”â€”â€”â€”â€”â€”â€”â€”â€”â€”â€”â€”â€”â€”â€”â€”â€”â€”â€”â€”â€”â€”â€”â€”â€”â€”â€”â€”â€”â€”â€”â€”        \n",
      "remote:     Resolve the following violations before pushing again        \n",
      "remote: \n",
      "remote:     - GITHUB PUSH PROTECTION        \n",
      "remote:       â€”â€”â€”â€”â€”â€”â€”â€”â€”â€”â€”â€”â€”â€”â€”â€”â€”â€”â€”â€”â€”â€”â€”â€”â€”â€”â€”â€”â€”â€”â€”â€”â€”â€”â€”â€”â€”â€”â€”â€”â€”â€”â€”â€”â€”â€”â€”â€”â€”â€”â€”â€”â€”â€”        \n",
      "remote:        Resolve the following secrets before pushing again.        \n",
      "remote:               \n",
      "remote:        (?) Learn how to resolve a blocked push        \n",
      "remote:        https://docs.github.com/code-security/secret-scanning/pushing-a-branch-blocked-by-push-protection        \n",
      "remote:               \n",
      "remote:               \n",
      "remote:       â€”â€” OpenAI API Key â€”â€”â€”â€”â€”â€”â€”â€”â€”â€”â€”â€”â€”â€”â€”â€”â€”â€”â€”â€”â€”â€”â€”â€”â€”â€”â€”â€”â€”â€”â€”â€”â€”â€”â€”â€”        \n",
      "remote:        locations:        \n",
      "remote:          - commit: a56bca03de9db5bc47199f0a8bb0b1060e6c6ee0        \n",
      "remote:            path: Untitled.ipynb:109        \n",
      "remote:               \n",
      "remote:        (?) To push, remove secret from commit(s) or follow this URL to allow the secret.        \n",
      "remote:        https://github.com/ankitrautela333/Langchain/security/secret-scanning/unblock-secret/2esNBNSStrVzm0AQ8XLXfH6ybyE        \n",
      "remote: \n",
      "To https://github.com/ankitrautela333/Langchain.git\n",
      " ! [remote rejected] main -> main (push declined due to repository rule violations)\n",
      "error: failed to push some refs to 'https://github.com/ankitrautela333/Langchain.git'\n"
     ]
    }
   ],
   "source": [
    "!git add *\n",
    "!git commit -m \"Second Commit\"\n",
    "!git push origin main"
   ]
  },
  {
   "cell_type": "code",
   "execution_count": 69,
   "id": "e30f91b2",
   "metadata": {},
   "outputs": [],
   "source": [
    "import langchain"
   ]
  },
  {
   "cell_type": "code",
   "execution_count": 77,
   "id": "61dafff7",
   "metadata": {},
   "outputs": [],
   "source": [
    "from langchain_openai import OpenAI"
   ]
  },
  {
   "cell_type": "code",
   "execution_count": 78,
   "id": "18e21ea3",
   "metadata": {},
   "outputs": [],
   "source": [
    "api_key=os.getenv('OPENAI_API_KEY')"
   ]
  },
  {
   "cell_type": "code",
   "execution_count": 79,
   "id": "6a387c8f",
   "metadata": {},
   "outputs": [],
   "source": [
    "llm = OpenAI(openai_api_key=api_key)"
   ]
  },
  {
   "cell_type": "code",
   "execution_count": 80,
   "id": "e94d6210",
   "metadata": {},
   "outputs": [
    {
     "name": "stderr",
     "output_type": "stream",
     "text": [
      "C:\\Users\\ankit\\anaconda3\\lib\\site-packages\\langchain_core\\_api\\deprecation.py:117: LangChainDeprecationWarning: The function `__call__` was deprecated in LangChain 0.1.7 and will be removed in 0.2.0. Use invoke instead.\n",
      "  warn_deprecated(\n"
     ]
    },
    {
     "name": "stdout",
     "output_type": "stream",
     "text": [
      "\n",
      "\n",
      "Pluto was discovered in 1930 by astronomer Clyde Tombaugh and was considered the ninth planet in our solar system for over 75 years. However, in 2006, it was reclassified as a \"dwarf planet\" due to its small size and its orbit overlapping with other objects in the Kuiper Belt.\n"
     ]
    }
   ],
   "source": [
    "print(llm(\"Here is a fun fact about pluto\"))"
   ]
  },
  {
   "cell_type": "code",
   "execution_count": 82,
   "id": "8a0dee66",
   "metadata": {},
   "outputs": [],
   "source": [
    "result=llm.generate([\"Here is a fun fact about pluto\",\"Here is a fun fact about Mars\"])"
   ]
  },
  {
   "cell_type": "code",
   "execution_count": 84,
   "id": "ee3b0579",
   "metadata": {},
   "outputs": [
    {
     "data": {
      "text/plain": [
       "{'token_usage': {'total_tokens': 141,\n",
       "  'completion_tokens': 126,\n",
       "  'prompt_tokens': 15},\n",
       " 'model_name': 'gpt-3.5-turbo-instruct'}"
      ]
     },
     "execution_count": 84,
     "metadata": {},
     "output_type": "execute_result"
    }
   ],
   "source": [
    "result.llm_output"
   ]
  },
  {
   "cell_type": "code",
   "execution_count": 90,
   "id": "71013333",
   "metadata": {},
   "outputs": [
    {
     "name": "stdout",
     "output_type": "stream",
     "text": [
      ":\n",
      "\n",
      "Mars is home to the largest volcano in the solar system, Olympus Mons. It stands at a towering height of 22 kilometers (13.6 miles) and has a diameter of 600 kilometers (372.8 miles). To put that into perspective, it is three times taller than Mount Everest and about the same size as the state of Arizona! However, don't worry about it erupting anytime soon, as it has been inactive for millions of years.\n"
     ]
    }
   ],
   "source": [
    "print(result.generations[1][0].text)"
   ]
  },
  {
   "cell_type": "code",
   "execution_count": null,
   "id": "bd98c8f6",
   "metadata": {},
   "outputs": [],
   "source": []
  }
 ],
 "metadata": {
  "kernelspec": {
   "display_name": "Python 3 (ipykernel)",
   "language": "python",
   "name": "python3"
  },
  "language_info": {
   "codemirror_mode": {
    "name": "ipython",
    "version": 3
   },
   "file_extension": ".py",
   "mimetype": "text/x-python",
   "name": "python",
   "nbconvert_exporter": "python",
   "pygments_lexer": "ipython3",
   "version": "3.10.14"
  }
 },
 "nbformat": 4,
 "nbformat_minor": 5
}
