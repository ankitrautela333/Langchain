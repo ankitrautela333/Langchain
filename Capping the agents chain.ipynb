{
 "cells": [
  {
   "cell_type": "code",
   "execution_count": 2,
   "id": "e35f4ca4",
   "metadata": {},
   "outputs": [],
   "source": [
    "from langchain.agents import initialize_agent,AgentType,load_tools\n",
    "from langchain.chat_models import ChatOpenAI\n",
    "from langchain.llms import OpenAI\n",
    "import os\n",
    "\n",
    "with open(r\"C:\\Users\\ankit\\OneDrive\\Desktop\\OPEN_AI_API_KEY.txt\",\"r\") as f:\n",
    "    os.environ['OPENAI_API_KEY']=f.read()\n",
    "    \n",
    "llm=ChatOpenAI(temperature=0)\n",
    "tools = load_tools(['llm-math'],llm=llm)    "
   ]
  },
  {
   "cell_type": "markdown",
   "id": "d531fa52",
   "metadata": {},
   "source": [
    "### Capping using the max_iterations parameter"
   ]
  },
  {
   "cell_type": "code",
   "execution_count": 3,
   "id": "f2fc58af",
   "metadata": {},
   "outputs": [
    {
     "name": "stderr",
     "output_type": "stream",
     "text": [
      "C:\\Users\\ankit\\anaconda3\\lib\\site-packages\\langchain_core\\_api\\deprecation.py:119: LangChainDeprecationWarning: The function `initialize_agent` was deprecated in LangChain 0.1.0 and will be removed in 0.2.0. Use Use new agent constructor methods like create_react_agent, create_json_agent, create_structured_chat_agent, etc. instead.\n",
      "  warn_deprecated(\n",
      "C:\\Users\\ankit\\anaconda3\\lib\\site-packages\\langchain_core\\_api\\deprecation.py:119: LangChainDeprecationWarning: The method `Chain.run` was deprecated in langchain 0.1.0 and will be removed in 0.2.0. Use invoke instead.\n",
      "  warn_deprecated(\n"
     ]
    },
    {
     "name": "stdout",
     "output_type": "stream",
     "text": [
      "\n",
      "\n",
      "\u001b[1m> Entering new AgentExecutor chain...\u001b[0m\n",
      "\u001b[32;1m\u001b[1;3mI need to subtract 2 from 10 to find out how many lemons are remaining.\n",
      "Action: [Calculator]\n",
      "Action Input: 10 - 2\u001b[0m\n",
      "Observation: [Calculator] is not a valid tool, try one of [Calculator].\n",
      "Thought:\u001b[32;1m\u001b[1;3mI need to use the Calculator tool to subtract 2 from 10.\n",
      "Action: [Calculator]\n",
      "Action Input: 10 - 2\u001b[0m\n",
      "Observation: [Calculator] is not a valid tool, try one of [Calculator].\n",
      "Thought:\u001b[32;1m\u001b[1;3mI need to use the Calculator tool to subtract 2 from 10.\n",
      "Action: [Calculator]\n",
      "Action Input: 10 - 2\u001b[0m\n",
      "Observation: [Calculator] is not a valid tool, try one of [Calculator].\n",
      "Thought:\u001b[32;1m\u001b[1;3m\u001b[0m\n",
      "\n",
      "\u001b[1m> Finished chain.\u001b[0m\n"
     ]
    },
    {
     "data": {
      "text/plain": [
       "'Agent stopped due to iteration limit or time limit.'"
      ]
     },
     "execution_count": 3,
     "metadata": {},
     "output_type": "execute_result"
    }
   ],
   "source": [
    "agent=initialize_agent(tools,llm,agent=AgentType.ZERO_SHOT_REACT_DESCRIPTION,verbose=True,max_iterations=3)\n",
    "agent.run(\"i have 10 lemons 2 i gave to a friend how many lemons are now remaining with me?\")"
   ]
  },
  {
   "cell_type": "markdown",
   "id": "f6fde05e",
   "metadata": {},
   "source": [
    "### Capping the agent using max_execution_time"
   ]
  },
  {
   "cell_type": "code",
   "execution_count": 5,
   "id": "19313b13",
   "metadata": {},
   "outputs": [
    {
     "name": "stdout",
     "output_type": "stream",
     "text": [
      "\n",
      "\n",
      "\u001b[1m> Entering new AgentExecutor chain...\u001b[0m\n",
      "\u001b[32;1m\u001b[1;3mI need to subtract 2 from 10 to find out how many lemons are remaining.\n",
      "Action: [Calculator]\n",
      "Action Input: 10 - 2\u001b[0m\n",
      "Observation: [Calculator] is not a valid tool, try one of [Calculator].\n",
      "Thought:\u001b[32;1m\u001b[1;3mI need to use the calculator tool to subtract 2 from 10.\n",
      "Action: [Calculator]\n",
      "Action Input: 10 - 2\u001b[0m\n",
      "Observation: [Calculator] is not a valid tool, try one of [Calculator].\n",
      "Thought:\u001b[32;1m\u001b[1;3mI need to manually subtract 2 from 10.\n",
      "Action: \n",
      "Action Input: 10 - 2\u001b[0m\n",
      "Observation:  is not a valid tool, try one of [Calculator].\n",
      "Thought:\u001b[32;1m\u001b[1;3m\u001b[0m\n",
      "\n",
      "\u001b[1m> Finished chain.\u001b[0m\n"
     ]
    },
    {
     "data": {
      "text/plain": [
       "'Agent stopped due to iteration limit or time limit.'"
      ]
     },
     "execution_count": 5,
     "metadata": {},
     "output_type": "execute_result"
    }
   ],
   "source": [
    "agent=initialize_agent(tools,llm,agent=AgentType.ZERO_SHOT_REACT_DESCRIPTION,verbose=True,max_execution_time=3)\n",
    "agent.run(\"i have 10 lemons 2 i gave to a friend how many lemons are now remaining with me?\")"
   ]
  },
  {
   "cell_type": "code",
   "execution_count": null,
   "id": "033ad550",
   "metadata": {},
   "outputs": [],
   "source": []
  }
 ],
 "metadata": {
  "kernelspec": {
   "display_name": "Python 3 (ipykernel)",
   "language": "python",
   "name": "python3"
  },
  "language_info": {
   "codemirror_mode": {
    "name": "ipython",
    "version": 3
   },
   "file_extension": ".py",
   "mimetype": "text/x-python",
   "name": "python",
   "nbconvert_exporter": "python",
   "pygments_lexer": "ipython3",
   "version": "3.10.14"
  }
 },
 "nbformat": 4,
 "nbformat_minor": 5
}
