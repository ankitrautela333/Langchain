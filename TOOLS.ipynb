{
 "cells": [
  {
   "cell_type": "markdown",
   "id": "58f234da",
   "metadata": {},
   "source": [
    "# TOOLS"
   ]
  },
  {
   "cell_type": "markdown",
   "id": "5dcc23cc",
   "metadata": {},
   "source": [
    "Tools are interfaces that an agent, chain, or LLM can use to interact with the world. They combine a few things:\n",
    "\n",
    "The name of the tool\n",
    "- A description of what the tool is\n",
    "- JSON schema of what the inputs to the tool are\n",
    "- The function to call\n",
    "- Whether the result of a tool should be returned directly to the user"
   ]
  },
  {
   "cell_type": "markdown",
   "id": "9da59611",
   "metadata": {},
   "source": [
    "## Wikipedia"
   ]
  },
  {
   "cell_type": "code",
   "execution_count": 13,
   "id": "a7b84b58",
   "metadata": {},
   "outputs": [],
   "source": [
    "from langchain_community.tools import WikipediaQueryRun  # Tool that searches the Wikipedia API.\n",
    "from langchain_community.utilities import WikipediaAPIWrapper # Wrapper around WikipediaAPI.This wrapper will use the Wikipedia API to conduct searches and fetch page summaries\n",
    "\n",
    "#Intialise the tool\n",
    "api_wrapper = WikipediaAPIWrapper(top_k_results=1, doc_content_chars_max=10000)\n",
    "tool = WikipediaQueryRun(api_wrapper=api_wrapper)\n"
   ]
  },
  {
   "cell_type": "code",
   "execution_count": 9,
   "id": "7f966584",
   "metadata": {},
   "outputs": [
    {
     "data": {
      "text/plain": [
       "'wikipedia'"
      ]
     },
     "execution_count": 9,
     "metadata": {},
     "output_type": "execute_result"
    }
   ],
   "source": [
    "tool.name"
   ]
  },
  {
   "cell_type": "code",
   "execution_count": 10,
   "id": "6e8c460c",
   "metadata": {},
   "outputs": [
    {
     "data": {
      "text/plain": [
       "'A wrapper around Wikipedia. Useful for when you need to answer general questions about people, places, companies, facts, historical events, or other subjects. Input should be a search query.'"
      ]
     },
     "execution_count": 10,
     "metadata": {},
     "output_type": "execute_result"
    }
   ],
   "source": [
    "# Description\n",
    "tool.description"
   ]
  },
  {
   "cell_type": "code",
   "execution_count": 11,
   "id": "a76b00a6",
   "metadata": {},
   "outputs": [
    {
     "data": {
      "text/plain": [
       "{'query': {'title': 'Query', 'type': 'string'}}"
      ]
     },
     "execution_count": 11,
     "metadata": {},
     "output_type": "execute_result"
    }
   ],
   "source": [
    "# Arguements\n",
    "tool.args"
   ]
  },
  {
   "cell_type": "code",
   "execution_count": 24,
   "id": "9970b557",
   "metadata": {},
   "outputs": [
    {
     "data": {
      "text/plain": [
       "'Page: Bear\\nSummary: Bears are carnivoran mammals of the family Ursidae (). They are classified as caniforms, or doglike carnivorans.  Although only eight species of bears are extant, they are widespread, appearing in a wide variety of habitats throughout most of the Northern Hemisphere and partially in the Southern Hemisphere. Bears are found on the continents of North America, South America, and Eurasia. Common characteristics of modern bears include large bodies with stocky legs, long snouts, small rounded ears, shaggy hair, plantigrade paws with five nonretractile claws, and short tails.\\nWhile the polar bear is mostly carnivorous, and the giant panda is mostly herbivorous, the remaining six species are omnivorous with varying diets. With the exception of courting individuals and mothers with their young, bears are typically solitary animals. They may be diurnal or nocturnal and have an excellent sense of smell. Despite their heavy build and awkward gait, they are adept runners, climbers, and swimmers.  Bears use shelters, such as caves and logs, as their dens; most species occupy their dens during the winter for a long period of hibernation, up to 100 days.\\nBears have been hunted since prehistoric times for their meat and fur; they have also been used for bear-baiting and other forms of entertainment, such as being made to dance. With their powerful physical presence, they play a prominent role in the arts, mythology, and other cultural aspects of various human societies. In modern times, bears have come under pressure through encroachment on their habitats and illegal trade in bear parts, including the Asian bile bear market. The IUCN lists six bear species as vulnerable or endangered, and even least concern species, such as the brown bear, are at risk of extirpation in certain countries. The poaching and international trade of these most threatened populations are prohibited, but still ongoing.'"
      ]
     },
     "execution_count": 24,
     "metadata": {},
     "output_type": "execute_result"
    }
   ],
   "source": [
    "# call this tool with a dictionary input\n",
    "tool.run(\"bear\")"
   ]
  },
  {
   "cell_type": "markdown",
   "id": "8a5eb36e",
   "metadata": {},
   "source": [
    "## Hugging Face Hub Tools"
   ]
  },
  {
   "cell_type": "markdown",
   "id": "57bb0d8e",
   "metadata": {},
   "source": [
    "Huggingface Tools that supporting text I/O can be loaded directly using the load_huggingface_tool function."
   ]
  },
  {
   "cell_type": "code",
   "execution_count": null,
   "id": "d672725d",
   "metadata": {
    "scrolled": true
   },
   "outputs": [],
   "source": [
    "# Requires transformers>=4.29.0 and huggingface_hub>=0.14.1\n",
    "%pip install --upgrade --quiet  transformers huggingface_hub\n",
    "!set PROTOCOL_BUFFERS_PYTHON_IMPLEMENTATION=python"
   ]
  },
  {
   "cell_type": "code",
   "execution_count": 2,
   "id": "99663cc0",
   "metadata": {},
   "outputs": [
    {
     "name": "stdout",
     "output_type": "stream",
     "text": [
      "model_download_counter: This is a tool that returns the most downloaded model of a given task on the Hugging Face Hub. It takes the name of the category (such as text-classification, depth-estimation, etc), and returns the name of the checkpoint\n"
     ]
    }
   ],
   "source": [
    "from langchain.agents import load_huggingface_tool\n",
    "tool = load_huggingface_tool(\"lysandre/hf-model-downloads\")\n",
    "\n",
    "print(f\"{tool.name}: {tool.description}\")"
   ]
  },
  {
   "cell_type": "code",
   "execution_count": 3,
   "id": "539b7afe",
   "metadata": {},
   "outputs": [
    {
     "data": {
      "text/plain": [
       "'mrm8488/distilroberta-finetuned-financial-news-sentiment-analysis'"
      ]
     },
     "execution_count": 3,
     "metadata": {},
     "output_type": "execute_result"
    }
   ],
   "source": [
    "tool.run(\"text-classification\")"
   ]
  }
 ],
 "metadata": {
  "kernelspec": {
   "display_name": "Python 3 (ipykernel)",
   "language": "python",
   "name": "python3"
  },
  "language_info": {
   "codemirror_mode": {
    "name": "ipython",
    "version": 3
   },
   "file_extension": ".py",
   "mimetype": "text/x-python",
   "name": "python",
   "nbconvert_exporter": "python",
   "pygments_lexer": "ipython3",
   "version": "3.10.14"
  }
 },
 "nbformat": 4,
 "nbformat_minor": 5
}
